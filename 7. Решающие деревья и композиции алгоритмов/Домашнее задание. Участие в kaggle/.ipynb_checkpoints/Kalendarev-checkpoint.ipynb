{
 "cells": [
  {
   "cell_type": "markdown",
   "metadata": {},
   "source": [
    "# Домашнее задание\n",
    "## Календарев Aлександр (Kalendarev Alexandre)\n",
    "User ID 6066152)\n",
    "User Name fkexandrekalendarev "
   ]
  },
  {
   "cell_type": "code",
   "execution_count": 1,
   "metadata": {
    "id": "lzLqEeZKEEYz"
   },
   "outputs": [],
   "source": [
    "import pandas as pd\n",
    "import numpy as np\n",
    "from matplotlib import pyplot as plt"
   ]
  },
  {
   "cell_type": "markdown",
   "metadata": {
    "id": "LOlxdURSEEY3"
   },
   "source": [
    "## Загрузка данных (2 балла)\n",
    "\n",
    "1) Посмотрите на случайные строчки. \n",
    "\n",
    "2) Посмотрите, есть ли в датасете незаполненные значения (nan'ы) с помощью data.isna() или data.info() и, если нужно, замените их на что-то. Будет хорошо, если вы построите табличку с количеством nan в каждой колонке."
   ]
  },
  {
   "cell_type": "code",
   "execution_count": 74,
   "metadata": {
    "id": "pw-Brue9EEY3"
   },
   "outputs": [],
   "source": [
    "#  необходимо установить путь до своих данных\n",
    "path = '/home/akalend/Рабочий стол/ML&NLP/DL/кагл/'\n",
    "data = pd.read_csv(path + 'train.csv')"
   ]
  },
  {
   "cell_type": "code",
   "execution_count": 3,
   "metadata": {},
   "outputs": [
    {
     "data": {
      "text/html": [
       "<div>\n",
       "<style scoped>\n",
       "    .dataframe tbody tr th:only-of-type {\n",
       "        vertical-align: middle;\n",
       "    }\n",
       "\n",
       "    .dataframe tbody tr th {\n",
       "        vertical-align: top;\n",
       "    }\n",
       "\n",
       "    .dataframe thead th {\n",
       "        text-align: right;\n",
       "    }\n",
       "</style>\n",
       "<table border=\"1\" class=\"dataframe\">\n",
       "  <thead>\n",
       "    <tr style=\"text-align: right;\">\n",
       "      <th></th>\n",
       "      <th>ClientPeriod</th>\n",
       "      <th>MonthlySpending</th>\n",
       "      <th>TotalSpent</th>\n",
       "      <th>Sex</th>\n",
       "      <th>IsSeniorCitizen</th>\n",
       "      <th>HasPartner</th>\n",
       "      <th>HasChild</th>\n",
       "      <th>HasPhoneService</th>\n",
       "      <th>HasMultiplePhoneNumbers</th>\n",
       "      <th>HasInternetService</th>\n",
       "      <th>HasOnlineSecurityService</th>\n",
       "      <th>HasOnlineBackup</th>\n",
       "      <th>HasDeviceProtection</th>\n",
       "      <th>HasTechSupportAccess</th>\n",
       "      <th>HasOnlineTV</th>\n",
       "      <th>HasMovieSubscription</th>\n",
       "      <th>HasContractPhone</th>\n",
       "      <th>IsBillingPaperless</th>\n",
       "      <th>PaymentMethod</th>\n",
       "      <th>Churn</th>\n",
       "    </tr>\n",
       "  </thead>\n",
       "  <tbody>\n",
       "    <tr>\n",
       "      <th>5249</th>\n",
       "      <td>25</td>\n",
       "      <td>88.4</td>\n",
       "      <td>2191.15</td>\n",
       "      <td>Female</td>\n",
       "      <td>1</td>\n",
       "      <td>Yes</td>\n",
       "      <td>No</td>\n",
       "      <td>Yes</td>\n",
       "      <td>No</td>\n",
       "      <td>Fiber optic</td>\n",
       "      <td>No</td>\n",
       "      <td>Yes</td>\n",
       "      <td>Yes</td>\n",
       "      <td>No</td>\n",
       "      <td>No</td>\n",
       "      <td>Yes</td>\n",
       "      <td>Month-to-month</td>\n",
       "      <td>No</td>\n",
       "      <td>Bank transfer (automatic)</td>\n",
       "      <td>0</td>\n",
       "    </tr>\n",
       "  </tbody>\n",
       "</table>\n",
       "</div>"
      ],
      "text/plain": [
       "      ClientPeriod  MonthlySpending TotalSpent     Sex  IsSeniorCitizen  \\\n",
       "5249            25             88.4    2191.15  Female                1   \n",
       "\n",
       "     HasPartner HasChild HasPhoneService HasMultiplePhoneNumbers  \\\n",
       "5249        Yes       No             Yes                      No   \n",
       "\n",
       "     HasInternetService HasOnlineSecurityService HasOnlineBackup  \\\n",
       "5249        Fiber optic                       No             Yes   \n",
       "\n",
       "     HasDeviceProtection HasTechSupportAccess HasOnlineTV  \\\n",
       "5249                 Yes                   No          No   \n",
       "\n",
       "     HasMovieSubscription HasContractPhone IsBillingPaperless  \\\n",
       "5249                  Yes   Month-to-month                 No   \n",
       "\n",
       "                  PaymentMethod  Churn  \n",
       "5249  Bank transfer (automatic)      0  "
      ]
     },
     "execution_count": 3,
     "metadata": {},
     "output_type": "execute_result"
    }
   ],
   "source": [
    "data.sample()"
   ]
  },
  {
   "cell_type": "code",
   "execution_count": 4,
   "metadata": {
    "id": "KgnkkF5bEEY9"
   },
   "outputs": [],
   "source": [
    "# Для вашего удобства списки с именами разных колонок\n",
    "\n",
    "# Числовые признаки\n",
    "num_cols = [\n",
    "    'ClientPeriod',\n",
    "    'MonthlySpending',\n",
    "    'TotalSpent'\n",
    "]\n",
    "\n",
    "# Категориальные признаки\n",
    "cat_cols = [\n",
    "    'Sex',\n",
    "    'IsSeniorCitizen',\n",
    "    'HasPartner',\n",
    "    'HasChild',\n",
    "    'HasPhoneService',\n",
    "    'HasMultiplePhoneNumbers',\n",
    "    'HasInternetService',\n",
    "    'HasOnlineSecurityService',\n",
    "    'HasOnlineBackup',\n",
    "    'HasDeviceProtection',\n",
    "    'HasTechSupportAccess',\n",
    "    'HasOnlineTV',\n",
    "    'HasMovieSubscription',\n",
    "    'HasContractPhone',\n",
    "    'IsBillingPaperless',\n",
    "    'PaymentMethod'\n",
    "]\n",
    "\n",
    "feature_cols = num_cols + cat_cols\n",
    "target_col = 'Churn'"
   ]
  },
  {
   "cell_type": "markdown",
   "metadata": {
    "id": "IrDNNkNTEEYz"
   },
   "source": [
    "# Первая часть. Исследование."
   ]
  },
  {
   "cell_type": "code",
   "execution_count": 5,
   "metadata": {
    "id": "tHC6gWabEEZA"
   },
   "outputs": [
    {
     "name": "stdout",
     "output_type": "stream",
     "text": [
      "<class 'pandas.core.frame.DataFrame'>\n",
      "RangeIndex: 5282 entries, 0 to 5281\n",
      "Data columns (total 20 columns):\n",
      " #   Column                    Non-Null Count  Dtype  \n",
      "---  ------                    --------------  -----  \n",
      " 0   ClientPeriod              5282 non-null   int64  \n",
      " 1   MonthlySpending           5282 non-null   float64\n",
      " 2   TotalSpent                5282 non-null   object \n",
      " 3   Sex                       5282 non-null   object \n",
      " 4   IsSeniorCitizen           5282 non-null   int64  \n",
      " 5   HasPartner                5282 non-null   object \n",
      " 6   HasChild                  5282 non-null   object \n",
      " 7   HasPhoneService           5282 non-null   object \n",
      " 8   HasMultiplePhoneNumbers   5282 non-null   object \n",
      " 9   HasInternetService        5282 non-null   object \n",
      " 10  HasOnlineSecurityService  5282 non-null   object \n",
      " 11  HasOnlineBackup           5282 non-null   object \n",
      " 12  HasDeviceProtection       5282 non-null   object \n",
      " 13  HasTechSupportAccess      5282 non-null   object \n",
      " 14  HasOnlineTV               5282 non-null   object \n",
      " 15  HasMovieSubscription      5282 non-null   object \n",
      " 16  HasContractPhone          5282 non-null   object \n",
      " 17  IsBillingPaperless        5282 non-null   object \n",
      " 18  PaymentMethod             5282 non-null   object \n",
      " 19  Churn                     5282 non-null   int64  \n",
      "dtypes: float64(1), int64(3), object(16)\n",
      "memory usage: 825.4+ KB\n"
     ]
    }
   ],
   "source": [
    "data.info()\n",
    "None"
   ]
  },
  {
   "cell_type": "code",
   "execution_count": 6,
   "metadata": {
    "scrolled": true
   },
   "outputs": [
    {
     "data": {
      "text/html": [
       "<div>\n",
       "<style scoped>\n",
       "    .dataframe tbody tr th:only-of-type {\n",
       "        vertical-align: middle;\n",
       "    }\n",
       "\n",
       "    .dataframe tbody tr th {\n",
       "        vertical-align: top;\n",
       "    }\n",
       "\n",
       "    .dataframe thead th {\n",
       "        text-align: right;\n",
       "    }\n",
       "</style>\n",
       "<table border=\"1\" class=\"dataframe\">\n",
       "  <thead>\n",
       "    <tr style=\"text-align: right;\">\n",
       "      <th></th>\n",
       "      <th>ClientPeriod</th>\n",
       "      <th>MonthlySpending</th>\n",
       "      <th>IsSeniorCitizen</th>\n",
       "      <th>Churn</th>\n",
       "    </tr>\n",
       "  </thead>\n",
       "  <tbody>\n",
       "    <tr>\n",
       "      <th>count</th>\n",
       "      <td>5282.000000</td>\n",
       "      <td>5282.000000</td>\n",
       "      <td>5282.000000</td>\n",
       "      <td>5282.000000</td>\n",
       "    </tr>\n",
       "    <tr>\n",
       "      <th>mean</th>\n",
       "      <td>32.397009</td>\n",
       "      <td>64.924754</td>\n",
       "      <td>0.159409</td>\n",
       "      <td>0.262022</td>\n",
       "    </tr>\n",
       "    <tr>\n",
       "      <th>std</th>\n",
       "      <td>24.550326</td>\n",
       "      <td>30.176464</td>\n",
       "      <td>0.366092</td>\n",
       "      <td>0.439776</td>\n",
       "    </tr>\n",
       "    <tr>\n",
       "      <th>min</th>\n",
       "      <td>0.000000</td>\n",
       "      <td>18.250000</td>\n",
       "      <td>0.000000</td>\n",
       "      <td>0.000000</td>\n",
       "    </tr>\n",
       "    <tr>\n",
       "      <th>25%</th>\n",
       "      <td>9.000000</td>\n",
       "      <td>35.462500</td>\n",
       "      <td>0.000000</td>\n",
       "      <td>0.000000</td>\n",
       "    </tr>\n",
       "    <tr>\n",
       "      <th>50%</th>\n",
       "      <td>29.000000</td>\n",
       "      <td>70.400000</td>\n",
       "      <td>0.000000</td>\n",
       "      <td>0.000000</td>\n",
       "    </tr>\n",
       "    <tr>\n",
       "      <th>75%</th>\n",
       "      <td>55.000000</td>\n",
       "      <td>90.050000</td>\n",
       "      <td>0.000000</td>\n",
       "      <td>1.000000</td>\n",
       "    </tr>\n",
       "    <tr>\n",
       "      <th>max</th>\n",
       "      <td>72.000000</td>\n",
       "      <td>118.750000</td>\n",
       "      <td>1.000000</td>\n",
       "      <td>1.000000</td>\n",
       "    </tr>\n",
       "  </tbody>\n",
       "</table>\n",
       "</div>"
      ],
      "text/plain": [
       "       ClientPeriod  MonthlySpending  IsSeniorCitizen        Churn\n",
       "count   5282.000000      5282.000000      5282.000000  5282.000000\n",
       "mean      32.397009        64.924754         0.159409     0.262022\n",
       "std       24.550326        30.176464         0.366092     0.439776\n",
       "min        0.000000        18.250000         0.000000     0.000000\n",
       "25%        9.000000        35.462500         0.000000     0.000000\n",
       "50%       29.000000        70.400000         0.000000     0.000000\n",
       "75%       55.000000        90.050000         0.000000     1.000000\n",
       "max       72.000000       118.750000         1.000000     1.000000"
      ]
     },
     "execution_count": 6,
     "metadata": {},
     "output_type": "execute_result"
    }
   ],
   "source": [
    "data.describe()"
   ]
  },
  {
   "cell_type": "markdown",
   "metadata": {},
   "source": [
    "**категориальные колонки**\n",
    "\n",
    "    'Sex',\n",
    "    'IsSeniorCitizen',\n",
    "    'HasPartner',\n",
    "    'HasChild',\n",
    "    'HasPhoneService',\n",
    "    'HasMultiplePhoneNumbers',\n",
    "    'HasInternetService',\n",
    "    'HasOnlineSecurityService',\n",
    "    'HasOnlineBackup',\n",
    "    'HasDeviceProtection',\n",
    "    'HasTechSupportAccess',\n",
    "    'HasOnlineTV',\n",
    "    'HasMovieSubscription',\n",
    "    'HasContractPhone',\n",
    "    'IsBillingPaperless',\n",
    "    'PaymentMethod'"
   ]
  },
  {
   "cell_type": "code",
   "execution_count": 7,
   "metadata": {},
   "outputs": [
    {
     "data": {
      "text/plain": [
       "(5282, 20)"
      ]
     },
     "execution_count": 7,
     "metadata": {},
     "output_type": "execute_result"
    }
   ],
   "source": [
    "# делаем копию данных\n",
    "data_orig = data.copy()\n",
    "data_orig.shape"
   ]
  },
  {
   "cell_type": "markdown",
   "metadata": {},
   "source": [
    "тип колонки **TotalSpent** строка с числовыми данными, необходимо преобразование \n",
    "    "
   ]
  },
  {
   "cell_type": "code",
   "execution_count": 8,
   "metadata": {},
   "outputs": [
    {
     "data": {
      "text/plain": [
       "5277      82.15\n",
       "5278    2188.45\n",
       "5279      55.05\n",
       "5280    2215.25\n",
       "5281     1375.6\n",
       "Name: TotalSpent, dtype: object"
      ]
     },
     "execution_count": 8,
     "metadata": {},
     "output_type": "execute_result"
    }
   ],
   "source": [
    "data['TotalSpent'].tail()"
   ]
  },
  {
   "cell_type": "code",
   "execution_count": 9,
   "metadata": {},
   "outputs": [],
   "source": [
    "data['TotalSpent'] = pd.to_numeric(data['TotalSpent'], errors='coerce')\n",
    "# pd.to_numeric(data_test[\"TotalSpent\"], errors=\"coerce\").isna().sum()\n",
    "# data['TotalSpent'].tail()\n"
   ]
  },
  {
   "cell_type": "markdown",
   "metadata": {},
   "source": [
    "посмотрим кол-во данных в категориальных колонках"
   ]
  },
  {
   "cell_type": "code",
   "execution_count": 10,
   "metadata": {},
   "outputs": [
    {
     "name": "stdout",
     "output_type": "stream",
     "text": [
      "ClientPeriod 32.39700870882242 29.0\n",
      "MonthlySpending 64.92475388110547 70.4\n",
      "TotalSpent 2291.3904608382404 1410.25\n"
     ]
    }
   ],
   "source": [
    "for col in num_cols:\n",
    "    print(col, data[col].mean(), data[col].median())"
   ]
  },
  {
   "cell_type": "markdown",
   "metadata": {},
   "source": [
    "### проверка на пропуски"
   ]
  },
  {
   "cell_type": "code",
   "execution_count": 11,
   "metadata": {},
   "outputs": [
    {
     "data": {
      "text/plain": [
       "['TotalSpent']"
      ]
     },
     "execution_count": 11,
     "metadata": {},
     "output_type": "execute_result"
    }
   ],
   "source": [
    "# в каких колонках есть пропуски\n",
    "data.columns[data.isna().any()].tolist()\n"
   ]
  },
  {
   "cell_type": "code",
   "execution_count": 12,
   "metadata": {},
   "outputs": [
    {
     "data": {
      "text/plain": [
       "9"
      ]
     },
     "execution_count": 12,
     "metadata": {},
     "output_type": "execute_result"
    }
   ],
   "source": [
    "data['TotalSpent'].isna().sum()"
   ]
  },
  {
   "cell_type": "markdown",
   "metadata": {},
   "source": [
    " нашли колоноку *TotalSpent* с пропусками всего 9\n",
    " \n",
    " заменим на 0 или среднее по больнице (на медиану)"
   ]
  },
  {
   "cell_type": "code",
   "execution_count": 13,
   "metadata": {},
   "outputs": [
    {
     "data": {
      "text/plain": [
       "dtype('float64')"
      ]
     },
     "execution_count": 13,
     "metadata": {},
     "output_type": "execute_result"
    }
   ],
   "source": [
    "data.loc[data['TotalSpent'].isna(), 'TotalSpent'] = 0  # data['TotalSpent'].median()\n",
    "data['TotalSpent'].dtypes\n",
    "# data['TotalSpent'] = data['TotalSpent'].astype(float)"
   ]
  },
  {
   "cell_type": "code",
   "execution_count": 14,
   "metadata": {},
   "outputs": [],
   "source": [
    "# for it in data['TotalSpent']:\n",
    "#     zn = '*************' if it == 0.0 else ''\n",
    "#     print(it, zn) "
   ]
  },
  {
   "cell_type": "markdown",
   "metadata": {},
   "source": [
    "Список колонок более чем с двумя категориями"
   ]
  },
  {
   "cell_type": "code",
   "execution_count": 15,
   "metadata": {},
   "outputs": [],
   "source": [
    " dummies_col=[ 'HasMultiplePhoneNumbers',\n",
    "    'HasInternetService',\n",
    "    'HasOnlineSecurityService',\n",
    "    'HasOnlineBackup',\n",
    "    'HasDeviceProtection',\n",
    "    'HasTechSupportAccess',\n",
    "    'HasOnlineTV',\n",
    "    'HasMovieSubscription',\n",
    "    'HasContractPhone',\n",
    "    'PaymentMethod']"
   ]
  },
  {
   "cell_type": "markdown",
   "metadata": {
    "id": "dK370bPCEEZD"
   },
   "source": [
    "## Анализ данных (3 балла)\n",
    "\n",
    "1) Для численных призанков постройте гистограмму (*plt.hist(...)*) или boxplot (*plt.boxplot(...)*). Для категориальных посчитайте количество каждого значения для каждого признака. Для каждой колонки надо сделать *data.value_counts()* и построить bar диаграммы *plt.bar(...)* или круговые диаграммы *plt.pie(...)* (хорошо, елси вы сможете это сделать на одном гарфике с помощью *plt.subplots(...)*). \n",
    "\n",
    "2) Посмотрите на распределение целевой переменной и скажите, являются ли классы несбалансированными.\n",
    "\n",
    "3) (Если будет желание) Поиграйте с разными библиотеками для визуализации - *sns*, *pandas_visual_analysis*, etc.\n",
    "\n",
    "Второй пункт очень важен, потому что существуют задачи классификации с несбалансированными классами. Например, это может значить, что в датасете намного больше примеров 0 класса. В таких случаях нужно 1) не использовать accuracy как метрику 2) использовать методы борьбы с imbalanced dataset (обычно если датасет сильно несбалансирован, т.е. класса 1 в 20 раз меньше класса 0)."
   ]
  },
  {
   "cell_type": "code",
   "execution_count": 16,
   "metadata": {
    "scrolled": true
   },
   "outputs": [],
   "source": [
    "# Подготовка категориальных данных :\n",
    "\n",
    "def categoryToLogic(name):\n",
    "    data[name] = data[name].astype('category')\n",
    "    data[name] = data[name].cat.codes\n"
   ]
  },
  {
   "cell_type": "code",
   "execution_count": 17,
   "metadata": {
    "scrolled": true
   },
   "outputs": [
    {
     "data": {
      "text/html": [
       "<div>\n",
       "<style scoped>\n",
       "    .dataframe tbody tr th:only-of-type {\n",
       "        vertical-align: middle;\n",
       "    }\n",
       "\n",
       "    .dataframe tbody tr th {\n",
       "        vertical-align: top;\n",
       "    }\n",
       "\n",
       "    .dataframe thead th {\n",
       "        text-align: right;\n",
       "    }\n",
       "</style>\n",
       "<table border=\"1\" class=\"dataframe\">\n",
       "  <thead>\n",
       "    <tr style=\"text-align: right;\">\n",
       "      <th></th>\n",
       "      <th>ClientPeriod</th>\n",
       "      <th>MonthlySpending</th>\n",
       "      <th>TotalSpent</th>\n",
       "      <th>Sex</th>\n",
       "      <th>IsSeniorCitizen</th>\n",
       "      <th>HasPartner</th>\n",
       "      <th>HasChild</th>\n",
       "      <th>HasPhoneService</th>\n",
       "      <th>HasMultiplePhoneNumbers</th>\n",
       "      <th>HasInternetService</th>\n",
       "      <th>HasOnlineSecurityService</th>\n",
       "      <th>HasOnlineBackup</th>\n",
       "      <th>HasDeviceProtection</th>\n",
       "      <th>HasTechSupportAccess</th>\n",
       "      <th>HasOnlineTV</th>\n",
       "      <th>HasMovieSubscription</th>\n",
       "      <th>HasContractPhone</th>\n",
       "      <th>IsBillingPaperless</th>\n",
       "      <th>PaymentMethod</th>\n",
       "      <th>Churn</th>\n",
       "    </tr>\n",
       "  </thead>\n",
       "  <tbody>\n",
       "    <tr>\n",
       "      <th>0</th>\n",
       "      <td>55</td>\n",
       "      <td>19.50</td>\n",
       "      <td>1026.35</td>\n",
       "      <td>1</td>\n",
       "      <td>0</td>\n",
       "      <td>1</td>\n",
       "      <td>1</td>\n",
       "      <td>1</td>\n",
       "      <td>No</td>\n",
       "      <td>No</td>\n",
       "      <td>No internet service</td>\n",
       "      <td>No internet service</td>\n",
       "      <td>No internet service</td>\n",
       "      <td>No internet service</td>\n",
       "      <td>No internet service</td>\n",
       "      <td>No internet service</td>\n",
       "      <td>One year</td>\n",
       "      <td>0</td>\n",
       "      <td>Mailed check</td>\n",
       "      <td>0</td>\n",
       "    </tr>\n",
       "    <tr>\n",
       "      <th>1</th>\n",
       "      <td>72</td>\n",
       "      <td>25.85</td>\n",
       "      <td>1872.20</td>\n",
       "      <td>1</td>\n",
       "      <td>0</td>\n",
       "      <td>1</td>\n",
       "      <td>0</td>\n",
       "      <td>1</td>\n",
       "      <td>Yes</td>\n",
       "      <td>No</td>\n",
       "      <td>No internet service</td>\n",
       "      <td>No internet service</td>\n",
       "      <td>No internet service</td>\n",
       "      <td>No internet service</td>\n",
       "      <td>No internet service</td>\n",
       "      <td>No internet service</td>\n",
       "      <td>Two year</td>\n",
       "      <td>0</td>\n",
       "      <td>Credit card (automatic)</td>\n",
       "      <td>0</td>\n",
       "    </tr>\n",
       "    <tr>\n",
       "      <th>2</th>\n",
       "      <td>1</td>\n",
       "      <td>75.90</td>\n",
       "      <td>75.90</td>\n",
       "      <td>1</td>\n",
       "      <td>0</td>\n",
       "      <td>0</td>\n",
       "      <td>0</td>\n",
       "      <td>1</td>\n",
       "      <td>No</td>\n",
       "      <td>Fiber optic</td>\n",
       "      <td>No</td>\n",
       "      <td>No</td>\n",
       "      <td>No</td>\n",
       "      <td>Yes</td>\n",
       "      <td>No</td>\n",
       "      <td>No</td>\n",
       "      <td>Month-to-month</td>\n",
       "      <td>1</td>\n",
       "      <td>Electronic check</td>\n",
       "      <td>1</td>\n",
       "    </tr>\n",
       "    <tr>\n",
       "      <th>3</th>\n",
       "      <td>32</td>\n",
       "      <td>79.30</td>\n",
       "      <td>2570.00</td>\n",
       "      <td>0</td>\n",
       "      <td>1</td>\n",
       "      <td>1</td>\n",
       "      <td>0</td>\n",
       "      <td>1</td>\n",
       "      <td>Yes</td>\n",
       "      <td>Fiber optic</td>\n",
       "      <td>No</td>\n",
       "      <td>No</td>\n",
       "      <td>Yes</td>\n",
       "      <td>No</td>\n",
       "      <td>No</td>\n",
       "      <td>No</td>\n",
       "      <td>Month-to-month</td>\n",
       "      <td>0</td>\n",
       "      <td>Mailed check</td>\n",
       "      <td>0</td>\n",
       "    </tr>\n",
       "    <tr>\n",
       "      <th>4</th>\n",
       "      <td>60</td>\n",
       "      <td>115.25</td>\n",
       "      <td>6758.45</td>\n",
       "      <td>0</td>\n",
       "      <td>0</td>\n",
       "      <td>1</td>\n",
       "      <td>1</td>\n",
       "      <td>1</td>\n",
       "      <td>Yes</td>\n",
       "      <td>Fiber optic</td>\n",
       "      <td>Yes</td>\n",
       "      <td>Yes</td>\n",
       "      <td>Yes</td>\n",
       "      <td>Yes</td>\n",
       "      <td>Yes</td>\n",
       "      <td>Yes</td>\n",
       "      <td>Two year</td>\n",
       "      <td>0</td>\n",
       "      <td>Credit card (automatic)</td>\n",
       "      <td>0</td>\n",
       "    </tr>\n",
       "  </tbody>\n",
       "</table>\n",
       "</div>"
      ],
      "text/plain": [
       "   ClientPeriod  MonthlySpending  TotalSpent  Sex  IsSeniorCitizen  \\\n",
       "0            55            19.50     1026.35    1                0   \n",
       "1            72            25.85     1872.20    1                0   \n",
       "2             1            75.90       75.90    1                0   \n",
       "3            32            79.30     2570.00    0                1   \n",
       "4            60           115.25     6758.45    0                0   \n",
       "\n",
       "   HasPartner  HasChild  HasPhoneService HasMultiplePhoneNumbers  \\\n",
       "0           1         1                1                      No   \n",
       "1           1         0                1                     Yes   \n",
       "2           0         0                1                      No   \n",
       "3           1         0                1                     Yes   \n",
       "4           1         1                1                     Yes   \n",
       "\n",
       "  HasInternetService HasOnlineSecurityService      HasOnlineBackup  \\\n",
       "0                 No      No internet service  No internet service   \n",
       "1                 No      No internet service  No internet service   \n",
       "2        Fiber optic                       No                   No   \n",
       "3        Fiber optic                       No                   No   \n",
       "4        Fiber optic                      Yes                  Yes   \n",
       "\n",
       "   HasDeviceProtection HasTechSupportAccess          HasOnlineTV  \\\n",
       "0  No internet service  No internet service  No internet service   \n",
       "1  No internet service  No internet service  No internet service   \n",
       "2                   No                  Yes                   No   \n",
       "3                  Yes                   No                   No   \n",
       "4                  Yes                  Yes                  Yes   \n",
       "\n",
       "  HasMovieSubscription HasContractPhone  IsBillingPaperless  \\\n",
       "0  No internet service         One year                   0   \n",
       "1  No internet service         Two year                   0   \n",
       "2                   No   Month-to-month                   1   \n",
       "3                   No   Month-to-month                   0   \n",
       "4                  Yes         Two year                   0   \n",
       "\n",
       "             PaymentMethod  Churn  \n",
       "0             Mailed check      0  \n",
       "1  Credit card (automatic)      0  \n",
       "2         Electronic check      1  \n",
       "3             Mailed check      0  \n",
       "4  Credit card (automatic)      0  "
      ]
     },
     "execution_count": 17,
     "metadata": {},
     "output_type": "execute_result"
    }
   ],
   "source": [
    "# Подготовка категориальных данных :\n",
    "cat_cols_logic = [\n",
    "    'Sex',\n",
    "    'HasPartner',\n",
    "    'HasChild',\n",
    "    'HasPhoneService',\n",
    "    'IsBillingPaperless'\n",
    "]\n",
    "\n",
    "for cat in cat_cols_logic:\n",
    "    categoryToLogic(cat)\n",
    "\n",
    "data.head(5)\n",
    "\n",
    "\n"
   ]
  },
  {
   "cell_type": "markdown",
   "metadata": {},
   "source": [
    "**Анализ на корреляцию и распределения величин числовых признаков**"
   ]
  },
  {
   "cell_type": "code",
   "execution_count": 18,
   "metadata": {
    "scrolled": true
   },
   "outputs": [
    {
     "data": {
      "image/png": "[encoded data removed]",
      "text/plain": [
       "<Figure size 540x540 with 12 Axes>"
      ]
     },
     "metadata": {
      "needs_background": "light"
     },
     "output_type": "display_data"
    }
   ],
   "source": [
    "import seaborn as sns\n",
    "sns.pairplot(data[num_cols])\n",
    "None"
   ]
  },
  {
   "cell_type": "markdown",
   "metadata": {},
   "source": [
    "Корреляции признаков не наблюдается, особых выбросов нет"
   ]
  },
  {
   "cell_type": "code",
   "execution_count": 19,
   "metadata": {},
   "outputs": [
    {
     "data": {
      "image/png": "[encoded data removed]",
      "text/plain": [
       "<Figure size 432x288 with 1 Axes>"
      ]
     },
     "metadata": {
      "needs_background": "light"
     },
     "output_type": "display_data"
    }
   ],
   "source": [
    "# Анализ TotalSpent c выходными данными\n",
    "sns.boxplot(x=\"Churn\", y=\"TotalSpent\", data=data);\n",
    "# те, кто ушел имеют меньшую mean TotalSpent"
   ]
  },
  {
   "cell_type": "code",
   "execution_count": 20,
   "metadata": {},
   "outputs": [
    {
     "data": {
      "image/png": "[encoded data removed]",
      "text/plain": [
       "<Figure size 432x288 with 3 Axes>"
      ]
     },
     "metadata": {
      "needs_background": "light"
     },
     "output_type": "display_data"
    }
   ],
   "source": [
    "fig, all_axes = plt.subplots(nrows=1, ncols=3)\n",
    "all_features = [\"ClientPeriod\", \"MonthlySpending\", \"TotalSpent\"]\n",
    "\n",
    "for axes, feature in zip(all_axes, all_features):\n",
    "    sns.boxplot(x=\"Churn\", y=feature, data=data, ax=axes)\n",
    "    \n",
    "plt.tight_layout()\n",
    "\n"
   ]
  },
  {
   "cell_type": "markdown",
   "metadata": {},
   "source": [
    "чаще уходят -  новые клиенты\n",
    "\n",
    "также уходят те, кто в месяц платит больше в среднем, видно считают услуги связи дорогими\n"
   ]
  },
  {
   "cell_type": "markdown",
   "metadata": {},
   "source": [
    "#### Анализ категорийных признаков\n",
    "\n",
    "Для категориальных посчитайте количество каждого значения для каждого признака. Для каждой колонки надо сделать data.value_counts() и построить bar диаграммы"
   ]
  },
  {
   "cell_type": "code",
   "execution_count": 21,
   "metadata": {},
   "outputs": [
    {
     "data": {
      "text/html": [
       "<div>\n",
       "<style scoped>\n",
       "    .dataframe tbody tr th:only-of-type {\n",
       "        vertical-align: middle;\n",
       "    }\n",
       "\n",
       "    .dataframe tbody tr th {\n",
       "        vertical-align: top;\n",
       "    }\n",
       "\n",
       "    .dataframe thead th {\n",
       "        text-align: right;\n",
       "    }\n",
       "</style>\n",
       "<table border=\"1\" class=\"dataframe\">\n",
       "  <thead>\n",
       "    <tr style=\"text-align: right;\">\n",
       "      <th></th>\n",
       "      <th>TotalSpent</th>\n",
       "      <th>Sex</th>\n",
       "      <th>HasPartner</th>\n",
       "      <th>HasChild</th>\n",
       "      <th>HasPhoneService</th>\n",
       "      <th>HasMultiplePhoneNumbers</th>\n",
       "      <th>HasInternetService</th>\n",
       "      <th>HasOnlineSecurityService</th>\n",
       "      <th>HasOnlineBackup</th>\n",
       "      <th>HasDeviceProtection</th>\n",
       "      <th>HasTechSupportAccess</th>\n",
       "      <th>HasOnlineTV</th>\n",
       "      <th>HasMovieSubscription</th>\n",
       "      <th>HasContractPhone</th>\n",
       "      <th>IsBillingPaperless</th>\n",
       "      <th>PaymentMethod</th>\n",
       "    </tr>\n",
       "  </thead>\n",
       "  <tbody>\n",
       "    <tr>\n",
       "      <th>count</th>\n",
       "      <td>5282</td>\n",
       "      <td>5282</td>\n",
       "      <td>5282</td>\n",
       "      <td>5282</td>\n",
       "      <td>5282</td>\n",
       "      <td>5282</td>\n",
       "      <td>5282</td>\n",
       "      <td>5282</td>\n",
       "      <td>5282</td>\n",
       "      <td>5282</td>\n",
       "      <td>5282</td>\n",
       "      <td>5282</td>\n",
       "      <td>5282</td>\n",
       "      <td>5282</td>\n",
       "      <td>5282</td>\n",
       "      <td>5282</td>\n",
       "    </tr>\n",
       "    <tr>\n",
       "      <th>unique</th>\n",
       "      <td>4978</td>\n",
       "      <td>2</td>\n",
       "      <td>2</td>\n",
       "      <td>2</td>\n",
       "      <td>2</td>\n",
       "      <td>3</td>\n",
       "      <td>3</td>\n",
       "      <td>3</td>\n",
       "      <td>3</td>\n",
       "      <td>3</td>\n",
       "      <td>3</td>\n",
       "      <td>3</td>\n",
       "      <td>3</td>\n",
       "      <td>3</td>\n",
       "      <td>2</td>\n",
       "      <td>4</td>\n",
       "    </tr>\n",
       "    <tr>\n",
       "      <th>top</th>\n",
       "      <td></td>\n",
       "      <td>Male</td>\n",
       "      <td>No</td>\n",
       "      <td>No</td>\n",
       "      <td>Yes</td>\n",
       "      <td>No</td>\n",
       "      <td>Fiber optic</td>\n",
       "      <td>No</td>\n",
       "      <td>No</td>\n",
       "      <td>No</td>\n",
       "      <td>No</td>\n",
       "      <td>No</td>\n",
       "      <td>No</td>\n",
       "      <td>Month-to-month</td>\n",
       "      <td>Yes</td>\n",
       "      <td>Electronic check</td>\n",
       "    </tr>\n",
       "    <tr>\n",
       "      <th>freq</th>\n",
       "      <td>9</td>\n",
       "      <td>2655</td>\n",
       "      <td>2705</td>\n",
       "      <td>3676</td>\n",
       "      <td>4761</td>\n",
       "      <td>2511</td>\n",
       "      <td>2341</td>\n",
       "      <td>2612</td>\n",
       "      <td>2332</td>\n",
       "      <td>2317</td>\n",
       "      <td>2604</td>\n",
       "      <td>2099</td>\n",
       "      <td>2081</td>\n",
       "      <td>2920</td>\n",
       "      <td>3148</td>\n",
       "      <td>1786</td>\n",
       "    </tr>\n",
       "  </tbody>\n",
       "</table>\n",
       "</div>"
      ],
      "text/plain": [
       "       TotalSpent   Sex HasPartner HasChild HasPhoneService  \\\n",
       "count        5282  5282       5282     5282            5282   \n",
       "unique       4978     2          2        2               2   \n",
       "top                Male         No       No             Yes   \n",
       "freq            9  2655       2705     3676            4761   \n",
       "\n",
       "       HasMultiplePhoneNumbers HasInternetService HasOnlineSecurityService  \\\n",
       "count                     5282               5282                     5282   \n",
       "unique                       3                  3                        3   \n",
       "top                         No        Fiber optic                       No   \n",
       "freq                      2511               2341                     2612   \n",
       "\n",
       "       HasOnlineBackup HasDeviceProtection HasTechSupportAccess HasOnlineTV  \\\n",
       "count             5282                5282                 5282        5282   \n",
       "unique               3                   3                    3           3   \n",
       "top                 No                  No                   No          No   \n",
       "freq              2332                2317                 2604        2099   \n",
       "\n",
       "       HasMovieSubscription HasContractPhone IsBillingPaperless  \\\n",
       "count                  5282             5282               5282   \n",
       "unique                    3                3                  2   \n",
       "top                      No   Month-to-month                Yes   \n",
       "freq                   2081             2920               3148   \n",
       "\n",
       "           PaymentMethod  \n",
       "count               5282  \n",
       "unique                 4  \n",
       "top     Electronic check  \n",
       "freq                1786  "
      ]
     },
     "execution_count": 21,
     "metadata": {},
     "output_type": "execute_result"
    }
   ],
   "source": [
    "data_orig.describe(include=\"object\")"
   ]
  },
  {
   "cell_type": "code",
   "execution_count": 22,
   "metadata": {
    "id": "NZkbgFJZEEZE",
    "scrolled": true
   },
   "outputs": [
    {
     "data": {
      "image/png": "[encoded data removed]",
      "text/plain": [
       "<Figure size 900x900 with 30 Axes>"
      ]
     },
     "metadata": {
      "needs_background": "light"
     },
     "output_type": "display_data"
    }
   ],
   "source": [
    "# Посмотрим на распределение категориальных фичей\n",
    "import seaborn as sns\n",
    "sns.pairplot(data[cat_cols_logic])\n",
    "None"
   ]
  },
  {
   "cell_type": "markdown",
   "metadata": {},
   "source": [
    "как видим из графика поле HasPhoneService имеет дисбаланс, проверим на сколько оно коррелирует с выходными данными:\n"
   ]
  },
  {
   "cell_type": "code",
   "execution_count": 23,
   "metadata": {},
   "outputs": [
    {
     "data": {
      "image/png": "[encoded data removed]",
      "text/plain": [
       "<Figure size 360x360 with 6 Axes>"
      ]
     },
     "metadata": {
      "needs_background": "light"
     },
     "output_type": "display_data"
    }
   ],
   "source": [
    "sns.pairplot(data[['HasPhoneService', 'Churn']])\n",
    "None"
   ]
  },
  {
   "cell_type": "code",
   "execution_count": 24,
   "metadata": {
    "scrolled": true
   },
   "outputs": [
    {
     "data": {
      "image/png": "[encoded data removed]",
      "text/plain": [
       "<Figure size 1008x720 with 4 Axes>"
      ]
     },
     "metadata": {
      "needs_background": "light"
     },
     "output_type": "display_data"
    }
   ],
   "source": [
    "# Посмотрим на распредление величин\n",
    "data.hist(column=num_cols, figsize=(14, 10))\n",
    "None\n",
    "# данные расположены без значительных выброосов. "
   ]
  },
  {
   "cell_type": "code",
   "execution_count": 25,
   "metadata": {},
   "outputs": [
    {
     "data": {
      "image/png": "[encoded data removed]",
      "text/plain": [
       "<Figure size 1080x1080 with 12 Axes>"
      ]
     },
     "metadata": {
      "needs_background": "light"
     },
     "output_type": "display_data"
    }
   ],
   "source": [
    "# анализ категорийных колонок с тремя состояниями (два состояния + неполные данные)\n",
    "\n",
    "\n",
    "tmp = data_orig.copy()\n",
    "for col in dummies_col:\n",
    "    tmp[col] = tmp[col].astype('category')\n",
    "    tmp[col] = tmp[col].cat.codes\n",
    "\n",
    "\n",
    "tmp.hist(column=dummies_col, figsize=(15,15))\n",
    "\n",
    "None"
   ]
  },
  {
   "cell_type": "markdown",
   "metadata": {},
   "source": [
    "**Аналиц целевой переменной**\n"
   ]
  },
  {
   "cell_type": "code",
   "execution_count": 26,
   "metadata": {},
   "outputs": [
    {
     "data": {
      "image/png": "[encoded data removed]",
      "text/plain": [
       "<Figure size 576x576 with 1 Axes>"
      ]
     },
     "metadata": {
      "needs_background": "light"
     },
     "output_type": "display_data"
    }
   ],
   "source": [
    "# распределение целевой колонки\n",
    "data.hist(column=[target_col],  figsize=(8,8))\n",
    "None"
   ]
  },
  {
   "cell_type": "markdown",
   "metadata": {
    "id": "zg60u3QDEEZH"
   },
   "source": [
    "**Вывод:** из графика видно, чтоклассы не сбалансированы"
   ]
  },
  {
   "cell_type": "code",
   "execution_count": 27,
   "metadata": {},
   "outputs": [
    {
     "data": {
      "image/png": "[encoded data removed]",
      "text/plain": [
       "<Figure size 1800x2520 with 18 Axes>"
      ]
     },
     "metadata": {
      "needs_background": "light"
     },
     "output_type": "display_data"
    }
   ],
   "source": [
    "fig, all_axes = plt.subplots(6,3)\n",
    "fig.set_size_inches(25, 35)\n",
    "\n",
    "for axes, cat_col in zip(all_axes.ravel(), cat_cols):\n",
    "    sns.countplot(x=cat_col, hue=\"Churn\", data=data, ax=axes)\n",
    "    plt.xticks(rotation=45)\n",
    "plt.tight_layout()"
   ]
  },
  {
   "cell_type": "markdown",
   "metadata": {},
   "source": [
    "Sex - не влияет ни как\n",
    "\n",
    " Electronic check - высокая доля ухода клиентов\n",
    "\n",
    " Fiber optic - также высокая доля ушедших\n",
    "\n",
    "Month to month также высокая доля ушедших\n",
    "\n",
    "Has a child - доля ушедших у тех, у кого нет делей возрастает\n"
   ]
  },
  {
   "cell_type": "markdown",
   "metadata": {
    "id": "DviiJd8REEZK"
   },
   "source": [
    "## Применение линейных моделей (3 балла)\n",
    "\n",
    "1) Обработайте данные для того, чтобы к ним можно было применить LogisticRegression. Т.е. отнормируйте числовые признаки, а категориальные закодируйте с помощью one-hot-encoding'а. \n",
    "\n",
    "2) С помощью кроссвалидации или разделения на train/valid выборку протестируйте разные значения гиперпараметра C и выберите лучший (можно тестировать С=100, 10, 1, 0.1, 0.01, 0.001) по метрике ROC-AUC. \n",
    "\n",
    "Если вы разделяете на train/valid, то используйте LogisticRegressionCV. Он сам при вызове .fit() подберет параметр С. (не забудьте передать scroing='roc_auc', чтобы при кроссвалидации сравнивались значения этой метрики, и refit=True, чтобы при потом модель обучилась на всем датасете с лучшим параметром C). \n",
    "\n",
    "\n",
    "(более сложный вариант) Если вы будете использовать кроссвалидацию, то преобразования данных и LogisticRegression нужно соединить в один Pipeline с помощью make_pipeline, как это делалось во втором семинаре. Потом pipeline надо передать в GridSearchCV. Для one-hot-encoding'a можно испльзовать комбинацию LabelEncoder + OneHotEncoder (сначала превращаем строчки в числа, а потом числа првращаем в one-hot вектора.)"
   ]
  },
  {
   "cell_type": "code",
   "execution_count": 28,
   "metadata": {
    "id": "xHCLDmwqEEZL"
   },
   "outputs": [],
   "source": [
    "from sklearn.linear_model import LogisticRegression, LogisticRegressionCV\n",
    "from sklearn.model_selection import train_test_split, GridSearchCV\n",
    "from sklearn.preprocessing import StandardScaler, RobustScaler, LabelEncoder, OneHotEncoder\n",
    "from sklearn.pipeline import make_pipeline"
   ]
  },
  {
   "cell_type": "code",
   "execution_count": 29,
   "metadata": {},
   "outputs": [],
   "source": [
    "from sklearn.pipeline import Pipeline\n",
    "from sklearn.preprocessing import StandardScaler\n",
    "from sklearn.preprocessing import OneHotEncoder\n",
    "from sklearn.impute import SimpleImputer"
   ]
  },
  {
   "cell_type": "code",
   "execution_count": 30,
   "metadata": {
    "id": "P2Yv3uYtEEZO"
   },
   "outputs": [
    {
     "data": {
      "text/plain": [
       "0    0\n",
       "1    0\n",
       "2    1\n",
       "3    0\n",
       "4    0\n",
       "Name: Churn, dtype: int64"
      ]
     },
     "execution_count": 30,
     "metadata": {},
     "output_type": "execute_result"
    }
   ],
   "source": [
    "# отделим целевую колонку\n",
    "y = data[target_col]\n",
    "y.head()\n",
    "\n",
    "\n"
   ]
  },
  {
   "cell_type": "code",
   "execution_count": 31,
   "metadata": {},
   "outputs": [],
   "source": [
    "x=data.drop(columns=[target_col])\n",
    "# print(target_col)\n"
   ]
  },
  {
   "cell_type": "markdown",
   "metadata": {},
   "source": [
    "1) Обработайте данные для того, чтобы к ним можно было применить LogisticRegression. Т.е. отнормируйте числовые признаки, а категориальные закодируйте с помощью one-hot-encoding'а. "
   ]
  },
  {
   "cell_type": "markdown",
   "metadata": {},
   "source": [
    "**нормирование категориальных признаков с помощью one-hot-encoding'а**"
   ]
  },
  {
   "cell_type": "code",
   "execution_count": 32,
   "metadata": {},
   "outputs": [
    {
     "data": {
      "text/html": [
       "<div>\n",
       "<style scoped>\n",
       "    .dataframe tbody tr th:only-of-type {\n",
       "        vertical-align: middle;\n",
       "    }\n",
       "\n",
       "    .dataframe tbody tr th {\n",
       "        vertical-align: top;\n",
       "    }\n",
       "\n",
       "    .dataframe thead th {\n",
       "        text-align: right;\n",
       "    }\n",
       "</style>\n",
       "<table border=\"1\" class=\"dataframe\">\n",
       "  <thead>\n",
       "    <tr style=\"text-align: right;\">\n",
       "      <th></th>\n",
       "      <th>ClientPeriod</th>\n",
       "      <th>MonthlySpending</th>\n",
       "      <th>TotalSpent</th>\n",
       "      <th>Sex</th>\n",
       "      <th>IsSeniorCitizen</th>\n",
       "      <th>HasPartner</th>\n",
       "      <th>HasChild</th>\n",
       "      <th>HasPhoneService</th>\n",
       "      <th>IsBillingPaperless</th>\n",
       "      <th>HasMultiplePhoneNumbers_No</th>\n",
       "      <th>...</th>\n",
       "      <th>HasMovieSubscription_No</th>\n",
       "      <th>HasMovieSubscription_No internet service</th>\n",
       "      <th>HasMovieSubscription_Yes</th>\n",
       "      <th>HasContractPhone_Month-to-month</th>\n",
       "      <th>HasContractPhone_One year</th>\n",
       "      <th>HasContractPhone_Two year</th>\n",
       "      <th>PaymentMethod_Bank transfer (automatic)</th>\n",
       "      <th>PaymentMethod_Credit card (automatic)</th>\n",
       "      <th>PaymentMethod_Electronic check</th>\n",
       "      <th>PaymentMethod_Mailed check</th>\n",
       "    </tr>\n",
       "  </thead>\n",
       "  <tbody>\n",
       "    <tr>\n",
       "      <th>0</th>\n",
       "      <td>55</td>\n",
       "      <td>19.50</td>\n",
       "      <td>1026.35</td>\n",
       "      <td>1</td>\n",
       "      <td>0</td>\n",
       "      <td>1</td>\n",
       "      <td>1</td>\n",
       "      <td>1</td>\n",
       "      <td>0</td>\n",
       "      <td>1</td>\n",
       "      <td>...</td>\n",
       "      <td>0</td>\n",
       "      <td>1</td>\n",
       "      <td>0</td>\n",
       "      <td>0</td>\n",
       "      <td>1</td>\n",
       "      <td>0</td>\n",
       "      <td>0</td>\n",
       "      <td>0</td>\n",
       "      <td>0</td>\n",
       "      <td>1</td>\n",
       "    </tr>\n",
       "    <tr>\n",
       "      <th>1</th>\n",
       "      <td>72</td>\n",
       "      <td>25.85</td>\n",
       "      <td>1872.20</td>\n",
       "      <td>1</td>\n",
       "      <td>0</td>\n",
       "      <td>1</td>\n",
       "      <td>0</td>\n",
       "      <td>1</td>\n",
       "      <td>0</td>\n",
       "      <td>0</td>\n",
       "      <td>...</td>\n",
       "      <td>0</td>\n",
       "      <td>1</td>\n",
       "      <td>0</td>\n",
       "      <td>0</td>\n",
       "      <td>0</td>\n",
       "      <td>1</td>\n",
       "      <td>0</td>\n",
       "      <td>1</td>\n",
       "      <td>0</td>\n",
       "      <td>0</td>\n",
       "    </tr>\n",
       "    <tr>\n",
       "      <th>2</th>\n",
       "      <td>1</td>\n",
       "      <td>75.90</td>\n",
       "      <td>75.90</td>\n",
       "      <td>1</td>\n",
       "      <td>0</td>\n",
       "      <td>0</td>\n",
       "      <td>0</td>\n",
       "      <td>1</td>\n",
       "      <td>1</td>\n",
       "      <td>1</td>\n",
       "      <td>...</td>\n",
       "      <td>1</td>\n",
       "      <td>0</td>\n",
       "      <td>0</td>\n",
       "      <td>1</td>\n",
       "      <td>0</td>\n",
       "      <td>0</td>\n",
       "      <td>0</td>\n",
       "      <td>0</td>\n",
       "      <td>1</td>\n",
       "      <td>0</td>\n",
       "    </tr>\n",
       "    <tr>\n",
       "      <th>3</th>\n",
       "      <td>32</td>\n",
       "      <td>79.30</td>\n",
       "      <td>2570.00</td>\n",
       "      <td>0</td>\n",
       "      <td>1</td>\n",
       "      <td>1</td>\n",
       "      <td>0</td>\n",
       "      <td>1</td>\n",
       "      <td>0</td>\n",
       "      <td>0</td>\n",
       "      <td>...</td>\n",
       "      <td>1</td>\n",
       "      <td>0</td>\n",
       "      <td>0</td>\n",
       "      <td>1</td>\n",
       "      <td>0</td>\n",
       "      <td>0</td>\n",
       "      <td>0</td>\n",
       "      <td>0</td>\n",
       "      <td>0</td>\n",
       "      <td>1</td>\n",
       "    </tr>\n",
       "    <tr>\n",
       "      <th>4</th>\n",
       "      <td>60</td>\n",
       "      <td>115.25</td>\n",
       "      <td>6758.45</td>\n",
       "      <td>0</td>\n",
       "      <td>0</td>\n",
       "      <td>1</td>\n",
       "      <td>1</td>\n",
       "      <td>1</td>\n",
       "      <td>0</td>\n",
       "      <td>0</td>\n",
       "      <td>...</td>\n",
       "      <td>0</td>\n",
       "      <td>0</td>\n",
       "      <td>1</td>\n",
       "      <td>0</td>\n",
       "      <td>0</td>\n",
       "      <td>1</td>\n",
       "      <td>0</td>\n",
       "      <td>1</td>\n",
       "      <td>0</td>\n",
       "      <td>0</td>\n",
       "    </tr>\n",
       "  </tbody>\n",
       "</table>\n",
       "<p>5 rows × 40 columns</p>\n",
       "</div>"
      ],
      "text/plain": [
       "   ClientPeriod  MonthlySpending  TotalSpent  Sex  IsSeniorCitizen  \\\n",
       "0            55            19.50     1026.35    1                0   \n",
       "1            72            25.85     1872.20    1                0   \n",
       "2             1            75.90       75.90    1                0   \n",
       "3            32            79.30     2570.00    0                1   \n",
       "4            60           115.25     6758.45    0                0   \n",
       "\n",
       "   HasPartner  HasChild  HasPhoneService  IsBillingPaperless  \\\n",
       "0           1         1                1                   0   \n",
       "1           1         0                1                   0   \n",
       "2           0         0                1                   1   \n",
       "3           1         0                1                   0   \n",
       "4           1         1                1                   0   \n",
       "\n",
       "   HasMultiplePhoneNumbers_No  ...  HasMovieSubscription_No  \\\n",
       "0                           1  ...                        0   \n",
       "1                           0  ...                        0   \n",
       "2                           1  ...                        1   \n",
       "3                           0  ...                        1   \n",
       "4                           0  ...                        0   \n",
       "\n",
       "   HasMovieSubscription_No internet service  HasMovieSubscription_Yes  \\\n",
       "0                                         1                         0   \n",
       "1                                         1                         0   \n",
       "2                                         0                         0   \n",
       "3                                         0                         0   \n",
       "4                                         0                         1   \n",
       "\n",
       "   HasContractPhone_Month-to-month  HasContractPhone_One year  \\\n",
       "0                                0                          1   \n",
       "1                                0                          0   \n",
       "2                                1                          0   \n",
       "3                                1                          0   \n",
       "4                                0                          0   \n",
       "\n",
       "   HasContractPhone_Two year  PaymentMethod_Bank transfer (automatic)  \\\n",
       "0                          0                                        0   \n",
       "1                          1                                        0   \n",
       "2                          0                                        0   \n",
       "3                          0                                        0   \n",
       "4                          1                                        0   \n",
       "\n",
       "   PaymentMethod_Credit card (automatic)  PaymentMethod_Electronic check  \\\n",
       "0                                      0                               0   \n",
       "1                                      1                               0   \n",
       "2                                      0                               1   \n",
       "3                                      0                               0   \n",
       "4                                      1                               0   \n",
       "\n",
       "   PaymentMethod_Mailed check  \n",
       "0                           1  \n",
       "1                           0  \n",
       "2                           0  \n",
       "3                           1  \n",
       "4                           0  \n",
       "\n",
       "[5 rows x 40 columns]"
      ]
     },
     "execution_count": 32,
     "metadata": {},
     "output_type": "execute_result"
    }
   ],
   "source": [
    "x = pd.get_dummies(x, columns=dummies_col)\n",
    "x.head()"
   ]
  },
  {
   "cell_type": "code",
   "execution_count": 33,
   "metadata": {},
   "outputs": [],
   "source": [
    "x.shape, y.shape\n",
    "x_2 = x.copy()"
   ]
  },
  {
   "cell_type": "markdown",
   "metadata": {},
   "source": [
    "**разбиваем на данные для тренировки и теста**\n"
   ]
  },
  {
   "cell_type": "code",
   "execution_count": 34,
   "metadata": {},
   "outputs": [],
   "source": [
    "from sklearn.model_selection import train_test_split\n",
    "X_train, X_test, y_train, y_test = train_test_split(x.values, y.values, \n",
    "                                                    train_size=0.8,\n",
    "                                                    random_state=42)"
   ]
  },
  {
   "cell_type": "markdown",
   "metadata": {},
   "source": [
    "**нормирование категориальных признаков**\n",
    "\n",
    "Нормируем признаки. \n"
   ]
  },
  {
   "cell_type": "code",
   "execution_count": 35,
   "metadata": {},
   "outputs": [],
   "source": [
    "from sklearn.preprocessing import StandardScaler\n",
    "\n",
    "scaler = StandardScaler()\n",
    "\n",
    "# X_train_scaled = scaler.fit_transform(X_train)\n",
    "# X_test_scaled = scaler.transform(X_test)"
   ]
  },
  {
   "cell_type": "markdown",
   "metadata": {},
   "source": [
    "Строим пайплайн"
   ]
  },
  {
   "cell_type": "code",
   "execution_count": 36,
   "metadata": {},
   "outputs": [],
   "source": [
    "num_pipeline = Pipeline([\n",
    "    (\"simple_imputer\", SimpleImputer(strategy=\"median\")),\n",
    "    (\"standart_scaler\", StandardScaler())\n",
    "])"
   ]
  },
  {
   "cell_type": "code",
   "execution_count": 37,
   "metadata": {},
   "outputs": [],
   "source": [
    "cat_pipeline = Pipeline([\n",
    "    (\"cat_encoder\", OneHotEncoder(drop=\"if_binary\", sparse=False))\n",
    "])"
   ]
  },
  {
   "cell_type": "code",
   "execution_count": 38,
   "metadata": {},
   "outputs": [
    {
     "name": "stdout",
     "output_type": "stream",
     "text": [
      "['ClientPeriod', 'MonthlySpending', 'TotalSpent']\n",
      "removed ClientPeriod\n",
      "removed TotalSpent\n"
     ]
    },
    {
     "data": {
      "text/plain": [
       "['Sex',\n",
       " 'IsSeniorCitizen',\n",
       " 'HasPartner',\n",
       " 'HasChild',\n",
       " 'HasPhoneService',\n",
       " 'IsBillingPaperless',\n",
       " 'HasMultiplePhoneNumbers_No',\n",
       " 'HasMultiplePhoneNumbers_No phone service',\n",
       " 'HasMultiplePhoneNumbers_Yes',\n",
       " 'HasInternetService_DSL',\n",
       " 'HasInternetService_Fiber optic',\n",
       " 'HasInternetService_No',\n",
       " 'HasOnlineSecurityService_No',\n",
       " 'HasOnlineSecurityService_No internet service',\n",
       " 'HasOnlineSecurityService_Yes',\n",
       " 'HasOnlineBackup_No',\n",
       " 'HasOnlineBackup_No internet service',\n",
       " 'HasOnlineBackup_Yes',\n",
       " 'HasDeviceProtection_No',\n",
       " 'HasDeviceProtection_No internet service',\n",
       " 'HasDeviceProtection_Yes',\n",
       " 'HasTechSupportAccess_No',\n",
       " 'HasTechSupportAccess_No internet service',\n",
       " 'HasTechSupportAccess_Yes',\n",
       " 'HasOnlineTV_No',\n",
       " 'HasOnlineTV_No internet service',\n",
       " 'HasOnlineTV_Yes',\n",
       " 'HasMovieSubscription_No',\n",
       " 'HasMovieSubscription_No internet service',\n",
       " 'HasMovieSubscription_Yes',\n",
       " 'HasContractPhone_Month-to-month',\n",
       " 'HasContractPhone_One year',\n",
       " 'HasContractPhone_Two year',\n",
       " 'PaymentMethod_Bank transfer (automatic)',\n",
       " 'PaymentMethod_Credit card (automatic)',\n",
       " 'PaymentMethod_Electronic check',\n",
       " 'PaymentMethod_Mailed check']"
      ]
     },
     "execution_count": 38,
     "metadata": {},
     "output_type": "execute_result"
    }
   ],
   "source": [
    "# список категорий\n",
    "cols = list(x.columns) \n",
    "print(num_cols)\n",
    "for name in  cols:\n",
    "    if name in num_cols:\n",
    "        cols.remove(name)\n",
    "        print('removed', name)\n",
    "\n",
    "# почему-то не удалило колонку  MonthlySpending       \n",
    "cols.remove('MonthlySpending')\n",
    "cols"
   ]
  },
  {
   "cell_type": "code",
   "execution_count": 39,
   "metadata": {},
   "outputs": [],
   "source": [
    "from sklearn.compose import ColumnTransformer\n",
    "\n",
    "preprocess_pipeline = ColumnTransformer([\n",
    "    (\"num\", num_pipeline, num_cols), \n",
    "    (\"cat\", cat_pipeline, cols )\n",
    "])\n"
   ]
  },
  {
   "cell_type": "code",
   "execution_count": 40,
   "metadata": {},
   "outputs": [
    {
     "data": {
      "text/plain": [
       "array([[ 0.92076704, -1.50544655, -0.55585201, ...,  0.        ,\n",
       "         0.        ,  1.        ],\n",
       "       [ 1.61328776, -1.29499774, -0.18303943, ...,  1.        ,\n",
       "         0.        ,  0.        ],\n",
       "       [-1.27900465,  0.36373662, -0.97476756, ...,  0.        ,\n",
       "         1.        ,  0.        ],\n",
       "       ...,\n",
       "       [-1.27900465, -0.32726461, -0.9839573 , ...,  0.        ,\n",
       "         0.        ,  1.        ],\n",
       "       [-0.13838229,  0.36705077, -0.03183845, ...,  1.        ,\n",
       "         0.        ,  0.        ],\n",
       "       [-0.54574742,  0.36373662, -0.40191834, ...,  0.        ,\n",
       "         0.        ,  1.        ]])"
      ]
     },
     "execution_count": 40,
     "metadata": {},
     "output_type": "execute_result"
    }
   ],
   "source": [
    "X_train = preprocess_pipeline.fit_transform(x)\n",
    "X_train"
   ]
  },
  {
   "cell_type": "code",
   "execution_count": 41,
   "metadata": {},
   "outputs": [
    {
     "data": {
      "text/plain": [
       "array([[ 0.92076704, -1.50544655, -0.55585201, ...,  0.        ,\n",
       "         0.        ,  1.        ],\n",
       "       [ 1.61328776, -1.29499774, -0.18303943, ...,  1.        ,\n",
       "         0.        ,  0.        ],\n",
       "       [-1.27900465,  0.36373662, -0.97476756, ...,  0.        ,\n",
       "         1.        ,  0.        ],\n",
       "       ...,\n",
       "       [-1.27900465, -0.32726461, -0.9839573 , ...,  0.        ,\n",
       "         0.        ,  1.        ],\n",
       "       [-0.13838229,  0.36705077, -0.03183845, ...,  1.        ,\n",
       "         0.        ,  0.        ],\n",
       "       [-0.54574742,  0.36373662, -0.40191834, ...,  0.        ,\n",
       "         0.        ,  1.        ]])"
      ]
     },
     "execution_count": 41,
     "metadata": {},
     "output_type": "execute_result"
    }
   ],
   "source": [
    "y_train= y\n",
    "X_kaggle = preprocess_pipeline.transform(x)\n",
    "X_kaggle"
   ]
  },
  {
   "cell_type": "code",
   "execution_count": null,
   "metadata": {},
   "outputs": [],
   "source": []
  },
  {
   "cell_type": "markdown",
   "metadata": {},
   "source": [
    "**Обучение модели**"
   ]
  },
  {
   "cell_type": "code",
   "execution_count": 42,
   "metadata": {},
   "outputs": [],
   "source": [
    "from sklearn.linear_model import LogisticRegression\n",
    "from sklearn.model_selection import train_test_split, GridSearchCV\n",
    "from sklearn.pipeline import make_pipeline"
   ]
  },
  {
   "cell_type": "code",
   "execution_count": 43,
   "metadata": {},
   "outputs": [
    {
     "data": {
      "text/plain": [
       "LogisticRegression(n_jobs=-1)"
      ]
     },
     "execution_count": 43,
     "metadata": {},
     "output_type": "execute_result"
    }
   ],
   "source": [
    "log_reg_clf = LogisticRegression(n_jobs=-1)\n",
    "log_reg_clf"
   ]
  },
  {
   "cell_type": "code",
   "execution_count": 44,
   "metadata": {},
   "outputs": [],
   "source": [
    "preprocess_predict_pipeline = Pipeline([\n",
    "    (\"preprocessor\", preprocess_pipeline),\n",
    "    (\"log_reg_clf\", log_reg_clf)\n",
    "])"
   ]
  },
  {
   "cell_type": "code",
   "execution_count": 45,
   "metadata": {},
   "outputs": [
    {
     "name": "stderr",
     "output_type": "stream",
     "text": [
      "[Parallel(n_jobs=-1)]: Using backend LokyBackend with 8 concurrent workers.\n",
      "[Parallel(n_jobs=-1)]: Done   4 out of  10 | elapsed:    1.4s remaining:    2.1s\n",
      "[Parallel(n_jobs=-1)]: Done   7 out of  10 | elapsed:    1.4s remaining:    0.6s\n",
      "[Parallel(n_jobs=-1)]: Done  10 out of  10 | elapsed:    1.6s remaining:    0.0s\n",
      "[Parallel(n_jobs=-1)]: Done  10 out of  10 | elapsed:    1.6s finished\n"
     ]
    }
   ],
   "source": [
    "from sklearn.model_selection import cross_val_score\n",
    "\n",
    "#time\n",
    "cv_results = cross_val_score(preprocess_predict_pipeline, x, y, scoring=\"roc_auc\", cv=10, verbose=5, n_jobs=-1)"
   ]
  },
  {
   "cell_type": "code",
   "execution_count": 46,
   "metadata": {},
   "outputs": [
    {
     "data": {
      "text/plain": [
       "array([0.85047039, 0.87125992, 0.84693423, 0.82681159, 0.84498328,\n",
       "       0.82257525, 0.8500929 , 0.8630249 , 0.84067245, 0.83072257])"
      ]
     },
     "execution_count": 46,
     "metadata": {},
     "output_type": "execute_result"
    }
   ],
   "source": [
    "cv_results"
   ]
  },
  {
   "cell_type": "code",
   "execution_count": 47,
   "metadata": {},
   "outputs": [
    {
     "data": {
      "text/plain": [
       "(0.8447547473623616, 0.014593639649595256)"
      ]
     },
     "execution_count": 47,
     "metadata": {},
     "output_type": "execute_result"
    }
   ],
   "source": [
    "cv_results.mean(), cv_results.std()"
   ]
  },
  {
   "cell_type": "markdown",
   "metadata": {
    "id": "uVahy6JKEEZQ"
   },
   "source": [
    "*Выпишите какое лучшее качество и с какими параметрами вам удалось получить*"
   ]
  },
  {
   "cell_type": "markdown",
   "metadata": {
    "id": "36729TOQEEZR"
   },
   "source": [
    "локально качество **0.8447547473623616**"
   ]
  },
  {
   "cell_type": "code",
   "execution_count": null,
   "metadata": {},
   "outputs": [],
   "source": []
  },
  {
   "cell_type": "markdown",
   "metadata": {
    "id": "BlTeVy7fEEZR"
   },
   "source": [
    "## Применение градиентного бустинга (2 балла)\n",
    "\n",
    "Если вы хотите получить баллы за точный ответ, то стоит попробовать градиентный бустинг. Часто градиентный бустинг с дефолтными параметрами даст вам 80% результата за 0% усилий.\n",
    "\n",
    "Мы будем использовать catboost, поэтому нам не надо кодировать категориальные признаки. catboost сделает это сам (в .fit() надо передать cat_features=cat_cols). А численные признаки нормировать для моделей, основанных на деревьях не нужно.\n",
    "\n",
    "1) Разделите выборку на train/valid. Протестируйте catboost cо стандартными параметрами.\n",
    "\n",
    "2) Протестируйте разные занчения параметроа количества деревьев и learning_rate'а и выберите лучшую по метрике ROC-AUC комбинацию. \n",
    "\n",
    "(Дополнительно) Есть некоторые сложности с тем, чтобы использовать CatBoostClassifier вместе с GridSearchCV, поэтому мы не просим использовать кроссвалидацию. Но можете попробовать)"
   ]
  },
  {
   "cell_type": "code",
   "execution_count": 48,
   "metadata": {},
   "outputs": [],
   "source": [
    "# X_train, X_test, y_train, y_test = train_test_split(x.values, y.values, \n",
    "#                                                     train_size=0.8,\n",
    "#                                                     random_state=42)"
   ]
  },
  {
   "cell_type": "code",
   "execution_count": 49,
   "metadata": {
    "id": "Fioxxlp-EEZS"
   },
   "outputs": [],
   "source": [
    "# YOUR CODE\n",
    "# import xgboost as xgb\n",
    "# dtrain = xgb.DMatrix(X_train, label=y_train)\n",
    "# dtest = xgb.DMatrix(X_test, label=y_test)\n"
   ]
  },
  {
   "cell_type": "code",
   "execution_count": 50,
   "metadata": {},
   "outputs": [],
   "source": [
    "# param = {\n",
    "#    'max_depth': 3,\n",
    "#    'eta': 0.01, \n",
    "#    'silent': 1, \n",
    "#    'objective': 'multi:softprob',\n",
    "#    'num_class': 2}\n",
    "# num_round = 50"
   ]
  },
  {
   "cell_type": "code",
   "execution_count": 51,
   "metadata": {
    "scrolled": true
   },
   "outputs": [],
   "source": [
    "# тренируем модель\n",
    "# bst = xgb.train(param, dtrain, num_round)\n",
    "# preds = bst.predict(dtest)"
   ]
  },
  {
   "cell_type": "markdown",
   "metadata": {},
   "source": [
    "## CatBoost"
   ]
  },
  {
   "cell_type": "code",
   "execution_count": 81,
   "metadata": {},
   "outputs": [],
   "source": [
    "from catboost import CatBoostClassifier"
   ]
  },
  {
   "cell_type": "code",
   "execution_count": 82,
   "metadata": {},
   "outputs": [
    {
     "data": {
      "text/plain": [
       "(5282, 20)"
      ]
     },
     "execution_count": 82,
     "metadata": {},
     "output_type": "execute_result"
    }
   ],
   "source": [
    "data_orig.shape"
   ]
  },
  {
   "cell_type": "code",
   "execution_count": 83,
   "metadata": {},
   "outputs": [
    {
     "data": {
      "text/plain": [
       "(5282, 20)"
      ]
     },
     "execution_count": 83,
     "metadata": {},
     "output_type": "execute_result"
    }
   ],
   "source": [
    "# удалим Nan\n",
    "x =data_orig\n",
    "x.dropna(inplace=True)\n",
    "x.shape"
   ]
  },
  {
   "cell_type": "code",
   "execution_count": 84,
   "metadata": {},
   "outputs": [
    {
     "data": {
      "text/plain": [
       "(5282,)"
      ]
     },
     "execution_count": 84,
     "metadata": {},
     "output_type": "execute_result"
    }
   ],
   "source": [
    "# data.head()\n",
    "y = x[target_col]\n",
    "\n",
    "y.shape"
   ]
  },
  {
   "cell_type": "code",
   "execution_count": 85,
   "metadata": {},
   "outputs": [
    {
     "data": {
      "text/plain": [
       "['ClientPeriod',\n",
       " 'MonthlySpending',\n",
       " 'TotalSpent',\n",
       " 'Sex',\n",
       " 'IsSeniorCitizen',\n",
       " 'HasPartner',\n",
       " 'HasChild',\n",
       " 'HasPhoneService',\n",
       " 'HasMultiplePhoneNumbers',\n",
       " 'HasInternetService',\n",
       " 'HasOnlineSecurityService',\n",
       " 'HasOnlineBackup',\n",
       " 'HasDeviceProtection',\n",
       " 'HasTechSupportAccess',\n",
       " 'HasOnlineTV',\n",
       " 'HasMovieSubscription',\n",
       " 'HasContractPhone',\n",
       " 'IsBillingPaperless',\n",
       " 'PaymentMethod']"
      ]
     },
     "execution_count": 85,
     "metadata": {},
     "output_type": "execute_result"
    }
   ],
   "source": [
    "x=x.drop(columns=[target_col])\n",
    "# x.head()\n",
    "cols = x.columns.tolist()\n",
    "cols"
   ]
  },
  {
   "cell_type": "code",
   "execution_count": 86,
   "metadata": {},
   "outputs": [
    {
     "name": "stdout",
     "output_type": "stream",
     "text": [
      "(4225, 19) (1057, 19)\n"
     ]
    }
   ],
   "source": [
    "X_train, X_validation, y_train, y_validation = train_test_split(x, y, train_size=0.8, random_state=34)\n",
    "print(X_train.shape, X_validation.shape)"
   ]
  },
  {
   "cell_type": "code",
   "execution_count": 87,
   "metadata": {},
   "outputs": [
    {
     "data": {
      "text/plain": [
       "array([ 3,  4,  5,  6,  7,  8,  9, 10, 11, 12, 13, 14, 15, 16, 17, 18])"
      ]
     },
     "execution_count": 87,
     "metadata": {},
     "output_type": "execute_result"
    }
   ],
   "source": [
    "categorical_ind = np.arange(3, 19)\n",
    "categorical_ind"
   ]
  },
  {
   "cell_type": "markdown",
   "metadata": {},
   "source": [
    "### CatBoost с дефолтными настройками"
   ]
  },
  {
   "cell_type": "code",
   "execution_count": 88,
   "metadata": {
    "scrolled": true
   },
   "outputs": [
    {
     "name": "stdout",
     "output_type": "stream",
     "text": [
      "Learning rate set to 0.083391\n",
      "0:\tlearn: 0.6421344\ttotal: 7.44ms\tremaining: 1.48s\n",
      "1:\tlearn: 0.6040716\ttotal: 13.3ms\tremaining: 1.32s\n",
      "2:\tlearn: 0.5696066\ttotal: 19.6ms\tremaining: 1.28s\n",
      "3:\tlearn: 0.5428446\ttotal: 25.3ms\tremaining: 1.24s\n",
      "4:\tlearn: 0.5235684\ttotal: 30.2ms\tremaining: 1.18s\n",
      "5:\tlearn: 0.5059378\ttotal: 34.4ms\tremaining: 1.11s\n",
      "6:\tlearn: 0.4917369\ttotal: 39.6ms\tremaining: 1.09s\n",
      "7:\tlearn: 0.4797610\ttotal: 44ms\tremaining: 1.05s\n",
      "8:\tlearn: 0.4702039\ttotal: 48.7ms\tremaining: 1.03s\n",
      "9:\tlearn: 0.4599541\ttotal: 54.3ms\tremaining: 1.03s\n",
      "10:\tlearn: 0.4521115\ttotal: 59ms\tremaining: 1.01s\n",
      "11:\tlearn: 0.4460344\ttotal: 63.6ms\tremaining: 996ms\n",
      "12:\tlearn: 0.4400365\ttotal: 68.4ms\tremaining: 984ms\n",
      "13:\tlearn: 0.4344954\ttotal: 73ms\tremaining: 969ms\n",
      "14:\tlearn: 0.4303425\ttotal: 77.3ms\tremaining: 953ms\n",
      "15:\tlearn: 0.4268250\ttotal: 81.8ms\tremaining: 941ms\n",
      "16:\tlearn: 0.4234983\ttotal: 86.6ms\tremaining: 932ms\n",
      "17:\tlearn: 0.4222211\ttotal: 89.2ms\tremaining: 902ms\n",
      "18:\tlearn: 0.4191594\ttotal: 93.6ms\tremaining: 892ms\n",
      "19:\tlearn: 0.4166598\ttotal: 98.2ms\tremaining: 884ms\n",
      "20:\tlearn: 0.4150717\ttotal: 103ms\tremaining: 875ms\n",
      "21:\tlearn: 0.4133556\ttotal: 107ms\tremaining: 866ms\n",
      "22:\tlearn: 0.4104792\ttotal: 112ms\tremaining: 861ms\n",
      "23:\tlearn: 0.4081487\ttotal: 117ms\tremaining: 857ms\n",
      "24:\tlearn: 0.4065870\ttotal: 122ms\tremaining: 852ms\n",
      "25:\tlearn: 0.4051937\ttotal: 126ms\tremaining: 844ms\n",
      "26:\tlearn: 0.4029330\ttotal: 131ms\tremaining: 839ms\n",
      "27:\tlearn: 0.4017951\ttotal: 136ms\tremaining: 834ms\n",
      "28:\tlearn: 0.4009463\ttotal: 139ms\tremaining: 822ms\n",
      "29:\tlearn: 0.4008016\ttotal: 142ms\tremaining: 803ms\n",
      "30:\tlearn: 0.4005192\ttotal: 144ms\tremaining: 786ms\n",
      "31:\tlearn: 0.3994824\ttotal: 148ms\tremaining: 779ms\n",
      "32:\tlearn: 0.3991062\ttotal: 152ms\tremaining: 768ms\n",
      "33:\tlearn: 0.3980168\ttotal: 156ms\tremaining: 763ms\n",
      "34:\tlearn: 0.3975352\ttotal: 161ms\tremaining: 759ms\n",
      "35:\tlearn: 0.3972525\ttotal: 164ms\tremaining: 747ms\n",
      "36:\tlearn: 0.3966785\ttotal: 167ms\tremaining: 737ms\n",
      "37:\tlearn: 0.3954234\ttotal: 172ms\tremaining: 734ms\n",
      "38:\tlearn: 0.3951635\ttotal: 175ms\tremaining: 723ms\n",
      "39:\tlearn: 0.3938317\ttotal: 180ms\tremaining: 721ms\n",
      "40:\tlearn: 0.3938309\ttotal: 182ms\tremaining: 704ms\n",
      "41:\tlearn: 0.3935498\ttotal: 186ms\tremaining: 700ms\n",
      "42:\tlearn: 0.3922595\ttotal: 191ms\tremaining: 696ms\n",
      "43:\tlearn: 0.3921277\ttotal: 198ms\tremaining: 703ms\n",
      "44:\tlearn: 0.3918380\ttotal: 203ms\tremaining: 700ms\n",
      "45:\tlearn: 0.3907290\ttotal: 208ms\tremaining: 697ms\n",
      "46:\tlearn: 0.3902452\ttotal: 214ms\tremaining: 695ms\n",
      "47:\tlearn: 0.3897066\ttotal: 220ms\tremaining: 696ms\n",
      "48:\tlearn: 0.3894442\ttotal: 227ms\tremaining: 699ms\n",
      "49:\tlearn: 0.3887998\ttotal: 233ms\tremaining: 700ms\n",
      "50:\tlearn: 0.3875558\ttotal: 239ms\tremaining: 697ms\n",
      "51:\tlearn: 0.3874373\ttotal: 243ms\tremaining: 691ms\n",
      "52:\tlearn: 0.3867184\ttotal: 247ms\tremaining: 686ms\n",
      "53:\tlearn: 0.3864262\ttotal: 251ms\tremaining: 680ms\n",
      "54:\tlearn: 0.3864130\ttotal: 254ms\tremaining: 669ms\n",
      "55:\tlearn: 0.3861284\ttotal: 258ms\tremaining: 663ms\n",
      "56:\tlearn: 0.3859085\ttotal: 262ms\tremaining: 656ms\n",
      "57:\tlearn: 0.3854380\ttotal: 266ms\tremaining: 652ms\n",
      "58:\tlearn: 0.3854118\ttotal: 270ms\tremaining: 645ms\n",
      "59:\tlearn: 0.3849913\ttotal: 274ms\tremaining: 640ms\n",
      "60:\tlearn: 0.3849489\ttotal: 276ms\tremaining: 629ms\n",
      "61:\tlearn: 0.3844526\ttotal: 280ms\tremaining: 624ms\n",
      "62:\tlearn: 0.3844139\ttotal: 285ms\tremaining: 619ms\n",
      "63:\tlearn: 0.3837794\ttotal: 289ms\tremaining: 615ms\n",
      "64:\tlearn: 0.3837659\ttotal: 294ms\tremaining: 610ms\n",
      "65:\tlearn: 0.3834566\ttotal: 298ms\tremaining: 605ms\n",
      "66:\tlearn: 0.3829784\ttotal: 302ms\tremaining: 600ms\n",
      "67:\tlearn: 0.3827520\ttotal: 307ms\tremaining: 596ms\n",
      "68:\tlearn: 0.3822305\ttotal: 312ms\tremaining: 592ms\n",
      "69:\tlearn: 0.3820499\ttotal: 316ms\tremaining: 587ms\n",
      "70:\tlearn: 0.3819667\ttotal: 320ms\tremaining: 582ms\n",
      "71:\tlearn: 0.3815828\ttotal: 324ms\tremaining: 577ms\n",
      "72:\tlearn: 0.3815601\ttotal: 326ms\tremaining: 568ms\n",
      "73:\tlearn: 0.3812384\ttotal: 331ms\tremaining: 563ms\n",
      "74:\tlearn: 0.3809673\ttotal: 335ms\tremaining: 559ms\n",
      "75:\tlearn: 0.3809652\ttotal: 337ms\tremaining: 550ms\n",
      "76:\tlearn: 0.3806596\ttotal: 341ms\tremaining: 545ms\n",
      "77:\tlearn: 0.3799994\ttotal: 346ms\tremaining: 541ms\n",
      "78:\tlearn: 0.3799820\ttotal: 350ms\tremaining: 536ms\n",
      "79:\tlearn: 0.3799776\ttotal: 354ms\tremaining: 531ms\n",
      "80:\tlearn: 0.3792923\ttotal: 359ms\tremaining: 527ms\n",
      "81:\tlearn: 0.3792406\ttotal: 363ms\tremaining: 523ms\n",
      "82:\tlearn: 0.3788158\ttotal: 368ms\tremaining: 519ms\n",
      "83:\tlearn: 0.3787405\ttotal: 372ms\tremaining: 513ms\n",
      "84:\tlearn: 0.3787244\ttotal: 373ms\tremaining: 505ms\n",
      "85:\tlearn: 0.3783282\ttotal: 378ms\tremaining: 501ms\n",
      "86:\tlearn: 0.3782699\ttotal: 381ms\tremaining: 495ms\n",
      "87:\tlearn: 0.3780172\ttotal: 385ms\tremaining: 491ms\n",
      "88:\tlearn: 0.3775657\ttotal: 390ms\tremaining: 486ms\n",
      "89:\tlearn: 0.3775337\ttotal: 394ms\tremaining: 482ms\n",
      "90:\tlearn: 0.3773964\ttotal: 400ms\tremaining: 479ms\n",
      "91:\tlearn: 0.3766816\ttotal: 410ms\tremaining: 481ms\n",
      "92:\tlearn: 0.3757080\ttotal: 416ms\tremaining: 479ms\n",
      "93:\tlearn: 0.3753285\ttotal: 423ms\tremaining: 477ms\n",
      "94:\tlearn: 0.3745284\ttotal: 429ms\tremaining: 474ms\n",
      "95:\tlearn: 0.3735203\ttotal: 434ms\tremaining: 470ms\n",
      "96:\tlearn: 0.3735027\ttotal: 439ms\tremaining: 466ms\n",
      "97:\tlearn: 0.3729236\ttotal: 443ms\tremaining: 461ms\n",
      "98:\tlearn: 0.3727568\ttotal: 448ms\tremaining: 457ms\n",
      "99:\tlearn: 0.3723473\ttotal: 453ms\tremaining: 453ms\n",
      "100:\tlearn: 0.3718851\ttotal: 457ms\tremaining: 448ms\n",
      "101:\tlearn: 0.3714994\ttotal: 462ms\tremaining: 444ms\n",
      "102:\tlearn: 0.3714006\ttotal: 466ms\tremaining: 439ms\n",
      "103:\tlearn: 0.3710923\ttotal: 470ms\tremaining: 434ms\n",
      "104:\tlearn: 0.3707755\ttotal: 475ms\tremaining: 430ms\n",
      "105:\tlearn: 0.3703397\ttotal: 480ms\tremaining: 425ms\n",
      "106:\tlearn: 0.3696334\ttotal: 484ms\tremaining: 421ms\n",
      "107:\tlearn: 0.3690661\ttotal: 489ms\tremaining: 417ms\n",
      "108:\tlearn: 0.3682942\ttotal: 493ms\tremaining: 412ms\n",
      "109:\tlearn: 0.3682700\ttotal: 496ms\tremaining: 406ms\n",
      "110:\tlearn: 0.3681228\ttotal: 501ms\tremaining: 401ms\n",
      "111:\tlearn: 0.3675602\ttotal: 505ms\tremaining: 397ms\n",
      "112:\tlearn: 0.3672884\ttotal: 510ms\tremaining: 393ms\n",
      "113:\tlearn: 0.3664340\ttotal: 515ms\tremaining: 389ms\n",
      "114:\tlearn: 0.3661677\ttotal: 520ms\tremaining: 384ms\n",
      "115:\tlearn: 0.3658246\ttotal: 524ms\tremaining: 380ms\n",
      "116:\tlearn: 0.3656351\ttotal: 528ms\tremaining: 375ms\n",
      "117:\tlearn: 0.3652288\ttotal: 533ms\tremaining: 371ms\n",
      "118:\tlearn: 0.3649954\ttotal: 538ms\tremaining: 366ms\n",
      "119:\tlearn: 0.3640669\ttotal: 543ms\tremaining: 362ms\n",
      "120:\tlearn: 0.3637041\ttotal: 548ms\tremaining: 357ms\n",
      "121:\tlearn: 0.3633278\ttotal: 552ms\tremaining: 353ms\n",
      "122:\tlearn: 0.3628483\ttotal: 556ms\tremaining: 348ms\n",
      "123:\tlearn: 0.3628233\ttotal: 561ms\tremaining: 344ms\n",
      "124:\tlearn: 0.3625546\ttotal: 565ms\tremaining: 339ms\n",
      "125:\tlearn: 0.3619980\ttotal: 569ms\tremaining: 334ms\n",
      "126:\tlearn: 0.3616256\ttotal: 573ms\tremaining: 330ms\n",
      "127:\tlearn: 0.3616085\ttotal: 578ms\tremaining: 325ms\n",
      "128:\tlearn: 0.3612609\ttotal: 583ms\tremaining: 321ms\n",
      "129:\tlearn: 0.3605320\ttotal: 588ms\tremaining: 316ms\n",
      "130:\tlearn: 0.3603574\ttotal: 592ms\tremaining: 312ms\n",
      "131:\tlearn: 0.3598129\ttotal: 597ms\tremaining: 308ms\n",
      "132:\tlearn: 0.3589120\ttotal: 606ms\tremaining: 305ms\n",
      "133:\tlearn: 0.3578951\ttotal: 612ms\tremaining: 302ms\n",
      "134:\tlearn: 0.3577451\ttotal: 619ms\tremaining: 298ms\n",
      "135:\tlearn: 0.3574312\ttotal: 625ms\tremaining: 294ms\n",
      "136:\tlearn: 0.3570731\ttotal: 629ms\tremaining: 289ms\n",
      "137:\tlearn: 0.3568466\ttotal: 634ms\tremaining: 285ms\n",
      "138:\tlearn: 0.3560672\ttotal: 639ms\tremaining: 280ms\n",
      "139:\tlearn: 0.3557997\ttotal: 644ms\tremaining: 276ms\n",
      "140:\tlearn: 0.3555674\ttotal: 648ms\tremaining: 271ms\n",
      "141:\tlearn: 0.3550196\ttotal: 653ms\tremaining: 267ms\n",
      "142:\tlearn: 0.3542983\ttotal: 658ms\tremaining: 262ms\n",
      "143:\tlearn: 0.3537811\ttotal: 663ms\tremaining: 258ms\n",
      "144:\tlearn: 0.3534202\ttotal: 668ms\tremaining: 253ms\n",
      "145:\tlearn: 0.3528642\ttotal: 673ms\tremaining: 249ms\n",
      "146:\tlearn: 0.3527318\ttotal: 678ms\tremaining: 244ms\n",
      "147:\tlearn: 0.3517959\ttotal: 683ms\tremaining: 240ms\n",
      "148:\tlearn: 0.3515464\ttotal: 687ms\tremaining: 235ms\n",
      "149:\tlearn: 0.3513506\ttotal: 692ms\tremaining: 231ms\n",
      "150:\tlearn: 0.3505746\ttotal: 697ms\tremaining: 226ms\n",
      "151:\tlearn: 0.3499911\ttotal: 701ms\tremaining: 222ms\n",
      "152:\tlearn: 0.3497094\ttotal: 706ms\tremaining: 217ms\n",
      "153:\tlearn: 0.3496719\ttotal: 711ms\tremaining: 212ms\n",
      "154:\tlearn: 0.3494857\ttotal: 716ms\tremaining: 208ms\n",
      "155:\tlearn: 0.3488800\ttotal: 720ms\tremaining: 203ms\n",
      "156:\tlearn: 0.3481511\ttotal: 725ms\tremaining: 199ms\n",
      "157:\tlearn: 0.3475863\ttotal: 730ms\tremaining: 194ms\n",
      "158:\tlearn: 0.3471048\ttotal: 735ms\tremaining: 189ms\n",
      "159:\tlearn: 0.3470603\ttotal: 739ms\tremaining: 185ms\n",
      "160:\tlearn: 0.3466579\ttotal: 744ms\tremaining: 180ms\n",
      "161:\tlearn: 0.3466474\ttotal: 748ms\tremaining: 176ms\n",
      "162:\tlearn: 0.3463841\ttotal: 753ms\tremaining: 171ms\n",
      "163:\tlearn: 0.3461176\ttotal: 758ms\tremaining: 166ms\n",
      "164:\tlearn: 0.3458990\ttotal: 763ms\tremaining: 162ms\n",
      "165:\tlearn: 0.3454574\ttotal: 768ms\tremaining: 157ms\n",
      "166:\tlearn: 0.3451169\ttotal: 773ms\tremaining: 153ms\n",
      "167:\tlearn: 0.3446795\ttotal: 777ms\tremaining: 148ms\n",
      "168:\tlearn: 0.3442755\ttotal: 782ms\tremaining: 143ms\n",
      "169:\tlearn: 0.3442754\ttotal: 786ms\tremaining: 139ms\n"
     ]
    },
    {
     "name": "stdout",
     "output_type": "stream",
     "text": [
      "170:\tlearn: 0.3440657\ttotal: 791ms\tremaining: 134ms\n",
      "171:\tlearn: 0.3433772\ttotal: 799ms\tremaining: 130ms\n",
      "172:\tlearn: 0.3428764\ttotal: 806ms\tremaining: 126ms\n",
      "173:\tlearn: 0.3421842\ttotal: 811ms\tremaining: 121ms\n",
      "174:\tlearn: 0.3419291\ttotal: 816ms\tremaining: 117ms\n",
      "175:\tlearn: 0.3413955\ttotal: 821ms\tremaining: 112ms\n",
      "176:\tlearn: 0.3407231\ttotal: 826ms\tremaining: 107ms\n",
      "177:\tlearn: 0.3403416\ttotal: 830ms\tremaining: 103ms\n",
      "178:\tlearn: 0.3402383\ttotal: 835ms\tremaining: 98ms\n",
      "179:\tlearn: 0.3399666\ttotal: 840ms\tremaining: 93.3ms\n",
      "180:\tlearn: 0.3398727\ttotal: 845ms\tremaining: 88.7ms\n",
      "181:\tlearn: 0.3392001\ttotal: 850ms\tremaining: 84ms\n",
      "182:\tlearn: 0.3386939\ttotal: 854ms\tremaining: 79.4ms\n",
      "183:\tlearn: 0.3385703\ttotal: 859ms\tremaining: 74.7ms\n",
      "184:\tlearn: 0.3383263\ttotal: 864ms\tremaining: 70ms\n",
      "185:\tlearn: 0.3380136\ttotal: 868ms\tremaining: 65.4ms\n",
      "186:\tlearn: 0.3377571\ttotal: 873ms\tremaining: 60.7ms\n",
      "187:\tlearn: 0.3374398\ttotal: 878ms\tremaining: 56ms\n",
      "188:\tlearn: 0.3369908\ttotal: 883ms\tremaining: 51.4ms\n",
      "189:\tlearn: 0.3364986\ttotal: 887ms\tremaining: 46.7ms\n",
      "190:\tlearn: 0.3355194\ttotal: 892ms\tremaining: 42ms\n",
      "191:\tlearn: 0.3346498\ttotal: 896ms\tremaining: 37.4ms\n",
      "192:\tlearn: 0.3342906\ttotal: 901ms\tremaining: 32.7ms\n",
      "193:\tlearn: 0.3340659\ttotal: 906ms\tremaining: 28ms\n",
      "194:\tlearn: 0.3339131\ttotal: 911ms\tremaining: 23.4ms\n",
      "195:\tlearn: 0.3337263\ttotal: 916ms\tremaining: 18.7ms\n",
      "196:\tlearn: 0.3335401\ttotal: 921ms\tremaining: 14ms\n",
      "197:\tlearn: 0.3332929\ttotal: 925ms\tremaining: 9.35ms\n",
      "198:\tlearn: 0.3326699\ttotal: 930ms\tremaining: 4.67ms\n",
      "199:\tlearn: 0.3321099\ttotal: 934ms\tremaining: 0us\n"
     ]
    },
    {
     "data": {
      "text/plain": [
       "<catboost.core.CatBoostClassifier at 0x7f70899f49d0>"
      ]
     },
     "execution_count": 88,
     "metadata": {},
     "output_type": "execute_result"
    }
   ],
   "source": [
    "best_model  = CatBoostClassifier(n_estimators=200, \n",
    "                                             cat_features=categorical_ind) \n",
    "\n",
    "best_model.fit(X_train, y_train)"
   ]
  },
  {
   "cell_type": "code",
   "execution_count": 89,
   "metadata": {},
   "outputs": [
    {
     "name": "stdout",
     "output_type": "stream",
     "text": [
      "Resulting tree count: 200\n"
     ]
    }
   ],
   "source": [
    "print('Resulting tree count:', best_model.tree_count_)"
   ]
  },
  {
   "cell_type": "code",
   "execution_count": 90,
   "metadata": {},
   "outputs": [
    {
     "data": {
      "text/html": [
       "<div>\n",
       "<style scoped>\n",
       "    .dataframe tbody tr th:only-of-type {\n",
       "        vertical-align: middle;\n",
       "    }\n",
       "\n",
       "    .dataframe tbody tr th {\n",
       "        vertical-align: top;\n",
       "    }\n",
       "\n",
       "    .dataframe thead th {\n",
       "        text-align: right;\n",
       "    }\n",
       "</style>\n",
       "<table border=\"1\" class=\"dataframe\">\n",
       "  <thead>\n",
       "    <tr style=\"text-align: right;\">\n",
       "      <th></th>\n",
       "      <th>ClientPeriod</th>\n",
       "      <th>MonthlySpending</th>\n",
       "      <th>TotalSpent</th>\n",
       "      <th>Sex</th>\n",
       "      <th>IsSeniorCitizen</th>\n",
       "      <th>HasPartner</th>\n",
       "      <th>HasChild</th>\n",
       "      <th>HasPhoneService</th>\n",
       "      <th>HasMultiplePhoneNumbers</th>\n",
       "      <th>HasInternetService</th>\n",
       "      <th>HasOnlineSecurityService</th>\n",
       "      <th>HasOnlineBackup</th>\n",
       "      <th>HasDeviceProtection</th>\n",
       "      <th>HasTechSupportAccess</th>\n",
       "      <th>HasOnlineTV</th>\n",
       "      <th>HasMovieSubscription</th>\n",
       "      <th>HasContractPhone</th>\n",
       "      <th>IsBillingPaperless</th>\n",
       "      <th>PaymentMethod</th>\n",
       "    </tr>\n",
       "  </thead>\n",
       "  <tbody>\n",
       "    <tr>\n",
       "      <th>0</th>\n",
       "      <td>42</td>\n",
       "      <td>56.10</td>\n",
       "      <td>2386.85</td>\n",
       "      <td>Male</td>\n",
       "      <td>0</td>\n",
       "      <td>Yes</td>\n",
       "      <td>No</td>\n",
       "      <td>Yes</td>\n",
       "      <td>Yes</td>\n",
       "      <td>DSL</td>\n",
       "      <td>Yes</td>\n",
       "      <td>No</td>\n",
       "      <td>No</td>\n",
       "      <td>No</td>\n",
       "      <td>No</td>\n",
       "      <td>No</td>\n",
       "      <td>One year</td>\n",
       "      <td>No</td>\n",
       "      <td>Credit card (automatic)</td>\n",
       "    </tr>\n",
       "    <tr>\n",
       "      <th>1</th>\n",
       "      <td>29</td>\n",
       "      <td>98.50</td>\n",
       "      <td>3004.15</td>\n",
       "      <td>Male</td>\n",
       "      <td>1</td>\n",
       "      <td>Yes</td>\n",
       "      <td>No</td>\n",
       "      <td>Yes</td>\n",
       "      <td>Yes</td>\n",
       "      <td>Fiber optic</td>\n",
       "      <td>No</td>\n",
       "      <td>No</td>\n",
       "      <td>Yes</td>\n",
       "      <td>No</td>\n",
       "      <td>Yes</td>\n",
       "      <td>Yes</td>\n",
       "      <td>Month-to-month</td>\n",
       "      <td>Yes</td>\n",
       "      <td>Electronic check</td>\n",
       "    </tr>\n",
       "    <tr>\n",
       "      <th>2</th>\n",
       "      <td>9</td>\n",
       "      <td>76.25</td>\n",
       "      <td>684.85</td>\n",
       "      <td>Male</td>\n",
       "      <td>0</td>\n",
       "      <td>No</td>\n",
       "      <td>No</td>\n",
       "      <td>Yes</td>\n",
       "      <td>Yes</td>\n",
       "      <td>Fiber optic</td>\n",
       "      <td>No</td>\n",
       "      <td>No</td>\n",
       "      <td>No</td>\n",
       "      <td>No</td>\n",
       "      <td>No</td>\n",
       "      <td>No</td>\n",
       "      <td>Month-to-month</td>\n",
       "      <td>Yes</td>\n",
       "      <td>Electronic check</td>\n",
       "    </tr>\n",
       "    <tr>\n",
       "      <th>3</th>\n",
       "      <td>67</td>\n",
       "      <td>74.00</td>\n",
       "      <td>4868.40</td>\n",
       "      <td>Female</td>\n",
       "      <td>0</td>\n",
       "      <td>Yes</td>\n",
       "      <td>Yes</td>\n",
       "      <td>Yes</td>\n",
       "      <td>Yes</td>\n",
       "      <td>DSL</td>\n",
       "      <td>Yes</td>\n",
       "      <td>Yes</td>\n",
       "      <td>No</td>\n",
       "      <td>Yes</td>\n",
       "      <td>Yes</td>\n",
       "      <td>No</td>\n",
       "      <td>Two year</td>\n",
       "      <td>No</td>\n",
       "      <td>Credit card (automatic)</td>\n",
       "    </tr>\n",
       "    <tr>\n",
       "      <th>4</th>\n",
       "      <td>71</td>\n",
       "      <td>20.10</td>\n",
       "      <td>1389.60</td>\n",
       "      <td>Female</td>\n",
       "      <td>0</td>\n",
       "      <td>Yes</td>\n",
       "      <td>Yes</td>\n",
       "      <td>Yes</td>\n",
       "      <td>No</td>\n",
       "      <td>No</td>\n",
       "      <td>No internet service</td>\n",
       "      <td>No internet service</td>\n",
       "      <td>No internet service</td>\n",
       "      <td>No internet service</td>\n",
       "      <td>No internet service</td>\n",
       "      <td>No internet service</td>\n",
       "      <td>Two year</td>\n",
       "      <td>No</td>\n",
       "      <td>Bank transfer (automatic)</td>\n",
       "    </tr>\n",
       "    <tr>\n",
       "      <th>...</th>\n",
       "      <td>...</td>\n",
       "      <td>...</td>\n",
       "      <td>...</td>\n",
       "      <td>...</td>\n",
       "      <td>...</td>\n",
       "      <td>...</td>\n",
       "      <td>...</td>\n",
       "      <td>...</td>\n",
       "      <td>...</td>\n",
       "      <td>...</td>\n",
       "      <td>...</td>\n",
       "      <td>...</td>\n",
       "      <td>...</td>\n",
       "      <td>...</td>\n",
       "      <td>...</td>\n",
       "      <td>...</td>\n",
       "      <td>...</td>\n",
       "      <td>...</td>\n",
       "      <td>...</td>\n",
       "    </tr>\n",
       "    <tr>\n",
       "      <th>1756</th>\n",
       "      <td>71</td>\n",
       "      <td>105.15</td>\n",
       "      <td>7555.00</td>\n",
       "      <td>Female</td>\n",
       "      <td>0</td>\n",
       "      <td>Yes</td>\n",
       "      <td>No</td>\n",
       "      <td>Yes</td>\n",
       "      <td>Yes</td>\n",
       "      <td>Fiber optic</td>\n",
       "      <td>No</td>\n",
       "      <td>Yes</td>\n",
       "      <td>Yes</td>\n",
       "      <td>No</td>\n",
       "      <td>Yes</td>\n",
       "      <td>Yes</td>\n",
       "      <td>Two year</td>\n",
       "      <td>Yes</td>\n",
       "      <td>Bank transfer (automatic)</td>\n",
       "    </tr>\n",
       "    <tr>\n",
       "      <th>1757</th>\n",
       "      <td>13</td>\n",
       "      <td>20.85</td>\n",
       "      <td>272.35</td>\n",
       "      <td>Female</td>\n",
       "      <td>0</td>\n",
       "      <td>Yes</td>\n",
       "      <td>Yes</td>\n",
       "      <td>Yes</td>\n",
       "      <td>No</td>\n",
       "      <td>No</td>\n",
       "      <td>No internet service</td>\n",
       "      <td>No internet service</td>\n",
       "      <td>No internet service</td>\n",
       "      <td>No internet service</td>\n",
       "      <td>No internet service</td>\n",
       "      <td>No internet service</td>\n",
       "      <td>Two year</td>\n",
       "      <td>No</td>\n",
       "      <td>Mailed check</td>\n",
       "    </tr>\n",
       "    <tr>\n",
       "      <th>1758</th>\n",
       "      <td>2</td>\n",
       "      <td>91.45</td>\n",
       "      <td>171.45</td>\n",
       "      <td>Male</td>\n",
       "      <td>0</td>\n",
       "      <td>Yes</td>\n",
       "      <td>No</td>\n",
       "      <td>Yes</td>\n",
       "      <td>Yes</td>\n",
       "      <td>Fiber optic</td>\n",
       "      <td>No</td>\n",
       "      <td>No</td>\n",
       "      <td>Yes</td>\n",
       "      <td>No</td>\n",
       "      <td>Yes</td>\n",
       "      <td>No</td>\n",
       "      <td>Month-to-month</td>\n",
       "      <td>Yes</td>\n",
       "      <td>Electronic check</td>\n",
       "    </tr>\n",
       "    <tr>\n",
       "      <th>1759</th>\n",
       "      <td>19</td>\n",
       "      <td>89.10</td>\n",
       "      <td>1620.80</td>\n",
       "      <td>Female</td>\n",
       "      <td>0</td>\n",
       "      <td>Yes</td>\n",
       "      <td>No</td>\n",
       "      <td>Yes</td>\n",
       "      <td>Yes</td>\n",
       "      <td>Fiber optic</td>\n",
       "      <td>No</td>\n",
       "      <td>Yes</td>\n",
       "      <td>No</td>\n",
       "      <td>No</td>\n",
       "      <td>No</td>\n",
       "      <td>Yes</td>\n",
       "      <td>Month-to-month</td>\n",
       "      <td>Yes</td>\n",
       "      <td>Electronic check</td>\n",
       "    </tr>\n",
       "    <tr>\n",
       "      <th>1760</th>\n",
       "      <td>72</td>\n",
       "      <td>65.60</td>\n",
       "      <td>4566.50</td>\n",
       "      <td>Male</td>\n",
       "      <td>0</td>\n",
       "      <td>No</td>\n",
       "      <td>No</td>\n",
       "      <td>No</td>\n",
       "      <td>No phone service</td>\n",
       "      <td>DSL</td>\n",
       "      <td>Yes</td>\n",
       "      <td>Yes</td>\n",
       "      <td>Yes</td>\n",
       "      <td>Yes</td>\n",
       "      <td>Yes</td>\n",
       "      <td>Yes</td>\n",
       "      <td>Two year</td>\n",
       "      <td>Yes</td>\n",
       "      <td>Bank transfer (automatic)</td>\n",
       "    </tr>\n",
       "  </tbody>\n",
       "</table>\n",
       "<p>1761 rows × 19 columns</p>\n",
       "</div>"
      ],
      "text/plain": [
       "      ClientPeriod  MonthlySpending  TotalSpent     Sex  IsSeniorCitizen  \\\n",
       "0               42            56.10     2386.85    Male                0   \n",
       "1               29            98.50     3004.15    Male                1   \n",
       "2                9            76.25      684.85    Male                0   \n",
       "3               67            74.00     4868.40  Female                0   \n",
       "4               71            20.10     1389.60  Female                0   \n",
       "...            ...              ...         ...     ...              ...   \n",
       "1756            71           105.15     7555.00  Female                0   \n",
       "1757            13            20.85      272.35  Female                0   \n",
       "1758             2            91.45      171.45    Male                0   \n",
       "1759            19            89.10     1620.80  Female                0   \n",
       "1760            72            65.60     4566.50    Male                0   \n",
       "\n",
       "     HasPartner HasChild HasPhoneService HasMultiplePhoneNumbers  \\\n",
       "0           Yes       No             Yes                     Yes   \n",
       "1           Yes       No             Yes                     Yes   \n",
       "2            No       No             Yes                     Yes   \n",
       "3           Yes      Yes             Yes                     Yes   \n",
       "4           Yes      Yes             Yes                      No   \n",
       "...         ...      ...             ...                     ...   \n",
       "1756        Yes       No             Yes                     Yes   \n",
       "1757        Yes      Yes             Yes                      No   \n",
       "1758        Yes       No             Yes                     Yes   \n",
       "1759        Yes       No             Yes                     Yes   \n",
       "1760         No       No              No        No phone service   \n",
       "\n",
       "     HasInternetService HasOnlineSecurityService      HasOnlineBackup  \\\n",
       "0                   DSL                      Yes                   No   \n",
       "1           Fiber optic                       No                   No   \n",
       "2           Fiber optic                       No                   No   \n",
       "3                   DSL                      Yes                  Yes   \n",
       "4                    No      No internet service  No internet service   \n",
       "...                 ...                      ...                  ...   \n",
       "1756        Fiber optic                       No                  Yes   \n",
       "1757                 No      No internet service  No internet service   \n",
       "1758        Fiber optic                       No                   No   \n",
       "1759        Fiber optic                       No                  Yes   \n",
       "1760                DSL                      Yes                  Yes   \n",
       "\n",
       "      HasDeviceProtection HasTechSupportAccess          HasOnlineTV  \\\n",
       "0                      No                   No                   No   \n",
       "1                     Yes                   No                  Yes   \n",
       "2                      No                   No                   No   \n",
       "3                      No                  Yes                  Yes   \n",
       "4     No internet service  No internet service  No internet service   \n",
       "...                   ...                  ...                  ...   \n",
       "1756                  Yes                   No                  Yes   \n",
       "1757  No internet service  No internet service  No internet service   \n",
       "1758                  Yes                   No                  Yes   \n",
       "1759                   No                   No                   No   \n",
       "1760                  Yes                  Yes                  Yes   \n",
       "\n",
       "     HasMovieSubscription HasContractPhone IsBillingPaperless  \\\n",
       "0                      No         One year                 No   \n",
       "1                     Yes   Month-to-month                Yes   \n",
       "2                      No   Month-to-month                Yes   \n",
       "3                      No         Two year                 No   \n",
       "4     No internet service         Two year                 No   \n",
       "...                   ...              ...                ...   \n",
       "1756                  Yes         Two year                Yes   \n",
       "1757  No internet service         Two year                 No   \n",
       "1758                   No   Month-to-month                Yes   \n",
       "1759                  Yes   Month-to-month                Yes   \n",
       "1760                  Yes         Two year                Yes   \n",
       "\n",
       "                  PaymentMethod  \n",
       "0       Credit card (automatic)  \n",
       "1              Electronic check  \n",
       "2              Electronic check  \n",
       "3       Credit card (automatic)  \n",
       "4     Bank transfer (automatic)  \n",
       "...                         ...  \n",
       "1756  Bank transfer (automatic)  \n",
       "1757               Mailed check  \n",
       "1758           Electronic check  \n",
       "1759           Electronic check  \n",
       "1760  Bank transfer (automatic)  \n",
       "\n",
       "[1761 rows x 19 columns]"
      ]
     },
     "execution_count": 90,
     "metadata": {},
     "output_type": "execute_result"
    }
   ],
   "source": [
    "X_test"
   ]
  },
  {
   "cell_type": "code",
   "execution_count": 91,
   "metadata": {},
   "outputs": [
    {
     "data": {
      "image/png": "[encoded data removed]",
      "text/plain": [
       "<Figure size 720x504 with 1 Axes>"
      ]
     },
     "metadata": {
      "needs_background": "light"
     },
     "output_type": "display_data"
    }
   ],
   "source": [
    "from sklearn.metrics import roc_auc_score, roc_curve\n",
    "\n",
    "# print(X_train)\n",
    "y_train_predicted = best_model.predict_proba(X_train)[:, 1]\n",
    "y_test_predicted = best_model.predict_proba(X_validation)[:, 1]\n",
    "\n",
    "\n",
    "train_auc = roc_auc_score(y_train, y_train_predicted)\n",
    "test_auc = roc_auc_score(y_test, y_test_predicted)\n",
    "\n",
    "plt.figure(figsize=(10,7))\n",
    "plt.plot(*roc_curve(y_train, y_train_predicted)[:2], label='train AUC={:.4f}'.format(train_auc))\n",
    "plt.plot(*roc_curve(y_test, y_test_predicted)[:2], label='test AUC={:.4f}'.format(test_auc))\n",
    "legend_box = plt.legend(fontsize='large', framealpha=1).get_frame()\n",
    "legend_box.set_facecolor(\"white\")\n",
    "legend_box.set_edgecolor(\"black\")\n",
    "plt.plot(np.linspace(0,1,100), np.linspace(0,1,100))\n",
    "plt.show()"
   ]
  },
  {
   "cell_type": "markdown",
   "metadata": {},
   "source": [
    "## CatBoost + Grid"
   ]
  },
  {
   "cell_type": "code",
   "execution_count": 63,
   "metadata": {},
   "outputs": [
    {
     "name": "stdout",
     "output_type": "stream",
     "text": [
      "\n",
      "bestTest = 0.7496385883\n",
      "bestIteration = 0\n",
      "\n",
      "Metric AUC is not calculated on train by default. To calculate this metric on train, add hints=skip_train~false to metric parameters.\n",
      "0:\tloss: 0.7496386\tbest: 0.7496386 (0)\ttotal: 11.4ms\tremaining: 1.42s\n",
      "\n",
      "bestTest = 0.7496385883\n",
      "bestIteration = 0\n",
      "\n",
      "Metric AUC is not calculated on train by default. To calculate this metric on train, add hints=skip_train~false to metric parameters.\n",
      "1:\tloss: 0.7496386\tbest: 0.7496386 (0)\ttotal: 15.5ms\tremaining: 959ms\n",
      "\n",
      "bestTest = 0.7815061552\n",
      "bestIteration = 1\n",
      "\n",
      "Metric AUC is not calculated on train by default. To calculate this metric on train, add hints=skip_train~false to metric parameters.\n",
      "2:\tloss: 0.7815062\tbest: 0.7815062 (2)\ttotal: 21.9ms\tremaining: 896ms\n",
      "\n",
      "bestTest = 0.7558384751\n",
      "bestIteration = 1\n",
      "\n",
      "Metric AUC is not calculated on train by default. To calculate this metric on train, add hints=skip_train~false to metric parameters.\n",
      "3:\tloss: 0.7558385\tbest: 0.7815062 (2)\ttotal: 30ms\tremaining: 916ms\n",
      "\n",
      "bestTest = 0.7963724701\n",
      "bestIteration = 2\n",
      "\n",
      "Metric AUC is not calculated on train by default. To calculate this metric on train, add hints=skip_train~false to metric parameters.\n",
      "4:\tloss: 0.7963725\tbest: 0.7963725 (4)\ttotal: 41.2ms\tremaining: 996ms\n",
      "\n",
      "bestTest = 0.7672881457\n",
      "bestIteration = 2\n",
      "\n",
      "Metric AUC is not calculated on train by default. To calculate this metric on train, add hints=skip_train~false to metric parameters.\n",
      "5:\tloss: 0.7672881\tbest: 0.7963725 (4)\ttotal: 50.8ms\tremaining: 1.01s\n",
      "\n",
      "bestTest = 0.8090814927\n",
      "bestIteration = 3\n",
      "\n",
      "Metric AUC is not calculated on train by default. To calculate this metric on train, add hints=skip_train~false to metric parameters.\n",
      "6:\tloss: 0.8090815\tbest: 0.8090815 (6)\ttotal: 60.7ms\tremaining: 1.03s\n",
      "\n",
      "bestTest = 0.7725789144\n",
      "bestIteration = 3\n",
      "\n",
      "Metric AUC is not calculated on train by default. To calculate this metric on train, add hints=skip_train~false to metric parameters.\n",
      "7:\tloss: 0.7725789\tbest: 0.8090815 (6)\ttotal: 69.6ms\tremaining: 1.03s\n",
      "\n",
      "bestTest = 0.819774807\n",
      "bestIteration = 4\n",
      "\n",
      "Metric AUC is not calculated on train by default. To calculate this metric on train, add hints=skip_train~false to metric parameters.\n",
      "8:\tloss: 0.8197748\tbest: 0.8197748 (8)\ttotal: 81.6ms\tremaining: 1.06s\n",
      "\n",
      "bestTest = 0.7741177084\n",
      "bestIteration = 4\n",
      "\n",
      "Metric AUC is not calculated on train by default. To calculate this metric on train, add hints=skip_train~false to metric parameters.\n",
      "9:\tloss: 0.7741177\tbest: 0.8197748 (8)\ttotal: 92.6ms\tremaining: 1.07s\n",
      "\n",
      "bestTest = 0.819774807\n",
      "bestIteration = 4\n",
      "\n",
      "Metric AUC is not calculated on train by default. To calculate this metric on train, add hints=skip_train~false to metric parameters.\n",
      "10:\tloss: 0.8197748\tbest: 0.8197748 (8)\ttotal: 105ms\tremaining: 1.1s\n",
      "\n",
      "bestTest = 0.7745350085\n",
      "bestIteration = 5\n",
      "\n",
      "Metric AUC is not calculated on train by default. To calculate this metric on train, add hints=skip_train~false to metric parameters.\n",
      "11:\tloss: 0.7745350\tbest: 0.8197748 (8)\ttotal: 118ms\tremaining: 1.12s\n",
      "\n",
      "bestTest = 0.819774807\n",
      "bestIteration = 4\n",
      "\n",
      "Metric AUC is not calculated on train by default. To calculate this metric on train, add hints=skip_train~false to metric parameters.\n",
      "12:\tloss: 0.8197748\tbest: 0.8197748 (8)\ttotal: 133ms\tremaining: 1.15s\n",
      "\n",
      "bestTest = 0.7745350085\n",
      "bestIteration = 5\n",
      "\n",
      "Metric AUC is not calculated on train by default. To calculate this metric on train, add hints=skip_train~false to metric parameters.\n",
      "13:\tloss: 0.7745350\tbest: 0.8197748 (8)\ttotal: 147ms\tremaining: 1.18s\n",
      "\n",
      "bestTest = 0.824040955\n",
      "bestIteration = 7\n",
      "\n",
      "Metric AUC is not calculated on train by default. To calculate this metric on train, add hints=skip_train~false to metric parameters.\n",
      "14:\tloss: 0.8240410\tbest: 0.8240410 (14)\ttotal: 164ms\tremaining: 1.21s\n",
      "\n",
      "bestTest = 0.7745350085\n",
      "bestIteration = 5\n",
      "\n",
      "Metric AUC is not calculated on train by default. To calculate this metric on train, add hints=skip_train~false to metric parameters.\n",
      "15:\tloss: 0.7745350\tbest: 0.8240410 (14)\ttotal: 180ms\tremaining: 1.24s\n",
      "\n",
      "bestTest = 0.8259746937\n",
      "bestIteration = 8\n",
      "\n",
      "Metric AUC is not calculated on train by default. To calculate this metric on train, add hints=skip_train~false to metric parameters.\n",
      "16:\tloss: 0.8259747\tbest: 0.8259747 (16)\ttotal: 199ms\tremaining: 1.27s\n",
      "\n",
      "bestTest = 0.7745350085\n",
      "bestIteration = 5\n",
      "\n",
      "Metric AUC is not calculated on train by default. To calculate this metric on train, add hints=skip_train~false to metric parameters.\n",
      "17:\tloss: 0.7745350\tbest: 0.8259747 (16)\ttotal: 219ms\tremaining: 1.31s\n",
      "\n",
      "bestTest = 0.7550187785\n",
      "bestIteration = 0\n",
      "\n",
      "Metric AUC is not calculated on train by default. To calculate this metric on train, add hints=skip_train~false to metric parameters.\n",
      "18:\tloss: 0.7550188\tbest: 0.8259747 (16)\ttotal: 223ms\tremaining: 1.25s\n",
      "\n",
      "bestTest = 0.7550187785\n",
      "bestIteration = 0\n",
      "\n",
      "Metric AUC is not calculated on train by default. To calculate this metric on train, add hints=skip_train~false to metric parameters.\n",
      "19:\tloss: 0.7550188\tbest: 0.8259747 (16)\ttotal: 226ms\tremaining: 1.2s\n",
      "\n",
      "bestTest = 0.8159408626\n",
      "bestIteration = 1\n",
      "\n",
      "Metric AUC is not calculated on train by default. To calculate this metric on train, add hints=skip_train~false to metric parameters.\n",
      "20:\tloss: 0.8159409\tbest: 0.8259747 (16)\ttotal: 232ms\tremaining: 1.16s\n",
      "\n",
      "bestTest = 0.7802803362\n",
      "bestIteration = 1\n",
      "\n",
      "Metric AUC is not calculated on train by default. To calculate this metric on train, add hints=skip_train~false to metric parameters.\n",
      "21:\tloss: 0.7802803\tbest: 0.8259747 (16)\ttotal: 240ms\tremaining: 1.13s\n",
      "\n",
      "bestTest = 0.8225655012\n",
      "bestIteration = 2\n",
      "\n",
      "Metric AUC is not calculated on train by default. To calculate this metric on train, add hints=skip_train~false to metric parameters.\n",
      "22:\tloss: 0.8225655\tbest: 0.8259747 (16)\ttotal: 248ms\tremaining: 1.11s\n",
      "\n",
      "bestTest = 0.7814353632\n",
      "bestIteration = 2\n",
      "\n",
      "Metric AUC is not calculated on train by default. To calculate this metric on train, add hints=skip_train~false to metric parameters.\n",
      "23:\tloss: 0.7814354\tbest: 0.8259747 (16)\ttotal: 256ms\tremaining: 1.09s\n",
      "\n",
      "bestTest = 0.8304532177\n",
      "bestIteration = 3\n",
      "\n",
      "Metric AUC is not calculated on train by default. To calculate this metric on train, add hints=skip_train~false to metric parameters.\n",
      "24:\tloss: 0.8304532\tbest: 0.8304532 (24)\ttotal: 267ms\tremaining: 1.08s\n",
      "\n",
      "bestTest = 0.7879035143\n",
      "bestIteration = 3\n",
      "\n",
      "Metric AUC is not calculated on train by default. To calculate this metric on train, add hints=skip_train~false to metric parameters.\n",
      "25:\tloss: 0.7879035\tbest: 0.8304532 (24)\ttotal: 277ms\tremaining: 1.06s\n",
      "\n",
      "bestTest = 0.8312617366\n",
      "bestIteration = 4\n",
      "\n",
      "Metric AUC is not calculated on train by default. To calculate this metric on train, add hints=skip_train~false to metric parameters.\n",
      "26:\tloss: 0.8312617\tbest: 0.8312617 (26)\ttotal: 289ms\tremaining: 1.06s\n",
      "\n",
      "bestTest = 0.7879035143\n",
      "bestIteration = 3\n",
      "\n",
      "Metric AUC is not calculated on train by default. To calculate this metric on train, add hints=skip_train~false to metric parameters.\n",
      "27:\tloss: 0.7879035\tbest: 0.8312617 (26)\ttotal: 301ms\tremaining: 1.05s\n",
      "\n",
      "bestTest = 0.832226743\n",
      "bestIteration = 5\n",
      "\n",
      "Metric AUC is not calculated on train by default. To calculate this metric on train, add hints=skip_train~false to metric parameters.\n",
      "28:\tloss: 0.8322267\tbest: 0.8322267 (28)\ttotal: 316ms\tremaining: 1.05s\n",
      "\n",
      "bestTest = 0.7886412412\n",
      "bestIteration = 5\n",
      "\n",
      "Metric AUC is not calculated on train by default. To calculate this metric on train, add hints=skip_train~false to metric parameters.\n",
      "29:\tloss: 0.7886412\tbest: 0.8322267 (28)\ttotal: 330ms\tremaining: 1.05s\n",
      "\n",
      "bestTest = 0.832226743\n",
      "bestIteration = 5\n",
      "\n",
      "Metric AUC is not calculated on train by default. To calculate this metric on train, add hints=skip_train~false to metric parameters.\n",
      "30:\tloss: 0.8322267\tbest: 0.8322267 (28)\ttotal: 347ms\tremaining: 1.06s\n",
      "\n",
      "bestTest = 0.790187487\n",
      "bestIteration = 6\n",
      "\n",
      "Metric AUC is not calculated on train by default. To calculate this metric on train, add hints=skip_train~false to metric parameters.\n",
      "31:\tloss: 0.7901875\tbest: 0.8322267 (28)\ttotal: 363ms\tremaining: 1.07s\n",
      "\n",
      "bestTest = 0.8344399237\n",
      "bestIteration = 7\n",
      "\n",
      "Metric AUC is not calculated on train by default. To calculate this metric on train, add hints=skip_train~false to metric parameters.\n",
      "32:\tloss: 0.8344399\tbest: 0.8344399 (32)\ttotal: 382ms\tremaining: 1.08s\n",
      "\n",
      "bestTest = 0.790187487\n",
      "bestIteration = 6\n",
      "\n",
      "Metric AUC is not calculated on train by default. To calculate this metric on train, add hints=skip_train~false to metric parameters.\n",
      "33:\tloss: 0.7901875\tbest: 0.8344399 (32)\ttotal: 400ms\tremaining: 1.08s\n"
     ]
    },
    {
     "name": "stdout",
     "output_type": "stream",
     "text": [
      "\n",
      "bestTest = 0.8344399237\n",
      "bestIteration = 7\n",
      "\n",
      "Metric AUC is not calculated on train by default. To calculate this metric on train, add hints=skip_train~false to metric parameters.\n",
      "34:\tloss: 0.8344399\tbest: 0.8344399 (32)\ttotal: 423ms\tremaining: 1.1s\n",
      "\n",
      "bestTest = 0.7903216191\n",
      "bestIteration = 8\n",
      "\n",
      "Metric AUC is not calculated on train by default. To calculate this metric on train, add hints=skip_train~false to metric parameters.\n",
      "35:\tloss: 0.7903216\tbest: 0.8344399 (32)\ttotal: 446ms\tremaining: 1.11s\n",
      "\n",
      "bestTest = 0.7556372768\n",
      "bestIteration = 0\n",
      "\n",
      "Metric AUC is not calculated on train by default. To calculate this metric on train, add hints=skip_train~false to metric parameters.\n",
      "36:\tloss: 0.7556373\tbest: 0.8344399 (32)\ttotal: 449ms\tremaining: 1.08s\n",
      "\n",
      "bestTest = 0.7556372768\n",
      "bestIteration = 0\n",
      "\n",
      "Metric AUC is not calculated on train by default. To calculate this metric on train, add hints=skip_train~false to metric parameters.\n",
      "37:\tloss: 0.7556373\tbest: 0.8344399 (32)\ttotal: 453ms\tremaining: 1.05s\n",
      "\n",
      "bestTest = 0.804349608\n",
      "bestIteration = 1\n",
      "\n",
      "Metric AUC is not calculated on train by default. To calculate this metric on train, add hints=skip_train~false to metric parameters.\n",
      "38:\tloss: 0.8043496\tbest: 0.8344399 (32)\ttotal: 459ms\tremaining: 1.02s\n",
      "\n",
      "bestTest = 0.7771990223\n",
      "bestIteration = 1\n",
      "\n",
      "Metric AUC is not calculated on train by default. To calculate this metric on train, add hints=skip_train~false to metric parameters.\n",
      "39:\tloss: 0.7771990\tbest: 0.8344399 (32)\ttotal: 465ms\tremaining: 1s\n",
      "\n",
      "bestTest = 0.8126546246\n",
      "bestIteration = 2\n",
      "\n",
      "Metric AUC is not calculated on train by default. To calculate this metric on train, add hints=skip_train~false to metric parameters.\n",
      "40:\tloss: 0.8126546\tbest: 0.8344399 (32)\ttotal: 473ms\tremaining: 981ms\n",
      "\n",
      "bestTest = 0.7868900712\n",
      "bestIteration = 2\n",
      "\n",
      "Metric AUC is not calculated on train by default. To calculate this metric on train, add hints=skip_train~false to metric parameters.\n",
      "41:\tloss: 0.7868901\tbest: 0.8344399 (32)\ttotal: 482ms\tremaining: 963ms\n",
      "\n",
      "bestTest = 0.8129601478\n",
      "bestIteration = 3\n",
      "\n",
      "Metric AUC is not calculated on train by default. To calculate this metric on train, add hints=skip_train~false to metric parameters.\n",
      "42:\tloss: 0.8129601\tbest: 0.8344399 (32)\ttotal: 492ms\tremaining: 949ms\n",
      "\n",
      "bestTest = 0.7868900712\n",
      "bestIteration = 2\n",
      "\n",
      "Metric AUC is not calculated on train by default. To calculate this metric on train, add hints=skip_train~false to metric parameters.\n",
      "43:\tloss: 0.7868901\tbest: 0.8344399 (32)\ttotal: 503ms\tremaining: 937ms\n",
      "\n",
      "bestTest = 0.8200281678\n",
      "bestIteration = 4\n",
      "\n",
      "Metric AUC is not calculated on train by default. To calculate this metric on train, add hints=skip_train~false to metric parameters.\n",
      "44:\tloss: 0.8200282\tbest: 0.8344399 (32)\ttotal: 515ms\tremaining: 927ms\n",
      "\n",
      "bestTest = 0.7868900712\n",
      "bestIteration = 2\n",
      "\n",
      "Metric AUC is not calculated on train by default. To calculate this metric on train, add hints=skip_train~false to metric parameters.\n",
      "45:\tloss: 0.7868901\tbest: 0.8344399 (32)\ttotal: 528ms\tremaining: 919ms\n",
      "\n",
      "bestTest = 0.8276699753\n",
      "bestIteration = 5\n",
      "\n",
      "Metric AUC is not calculated on train by default. To calculate this metric on train, add hints=skip_train~false to metric parameters.\n",
      "46:\tloss: 0.8276700\tbest: 0.8344399 (32)\ttotal: 543ms\tremaining: 913ms\n",
      "\n",
      "bestTest = 0.7868900712\n",
      "bestIteration = 2\n",
      "\n",
      "Metric AUC is not calculated on train by default. To calculate this metric on train, add hints=skip_train~false to metric parameters.\n",
      "47:\tloss: 0.7868901\tbest: 0.8344399 (32)\ttotal: 559ms\tremaining: 909ms\n",
      "\n",
      "bestTest = 0.8310866196\n",
      "bestIteration = 6\n",
      "\n",
      "Metric AUC is not calculated on train by default. To calculate this metric on train, add hints=skip_train~false to metric parameters.\n",
      "48:\tloss: 0.8310866\tbest: 0.8344399 (32)\ttotal: 577ms\tremaining: 906ms\n",
      "\n",
      "bestTest = 0.7876128946\n",
      "bestIteration = 6\n",
      "\n",
      "Metric AUC is not calculated on train by default. To calculate this metric on train, add hints=skip_train~false to metric parameters.\n",
      "49:\tloss: 0.7876129\tbest: 0.8344399 (32)\ttotal: 594ms\tremaining: 904ms\n",
      "\n",
      "bestTest = 0.8344809085\n",
      "bestIteration = 7\n",
      "\n",
      "Metric AUC is not calculated on train by default. To calculate this metric on train, add hints=skip_train~false to metric parameters.\n",
      "50:\tloss: 0.8344809\tbest: 0.8344809 (50)\ttotal: 614ms\tremaining: 903ms\n",
      "\n",
      "bestTest = 0.7876128946\n",
      "bestIteration = 6\n",
      "\n",
      "Metric AUC is not calculated on train by default. To calculate this metric on train, add hints=skip_train~false to metric parameters.\n",
      "51:\tloss: 0.7876129\tbest: 0.8344809 (50)\ttotal: 637ms\tremaining: 906ms\n",
      "\n",
      "bestTest = 0.8363662106\n",
      "bestIteration = 8\n",
      "\n",
      "Metric AUC is not calculated on train by default. To calculate this metric on train, add hints=skip_train~false to metric parameters.\n",
      "52:\tloss: 0.8363662\tbest: 0.8363662 (52)\ttotal: 663ms\tremaining: 914ms\n",
      "\n",
      "bestTest = 0.7887232108\n",
      "bestIteration = 8\n",
      "\n",
      "Metric AUC is not calculated on train by default. To calculate this metric on train, add hints=skip_train~false to metric parameters.\n",
      "53:\tloss: 0.7887232\tbest: 0.8363662 (52)\ttotal: 687ms\tremaining: 916ms\n",
      "\n",
      "bestTest = 0.7721094518\n",
      "bestIteration = 0\n",
      "\n",
      "Metric AUC is not calculated on train by default. To calculate this metric on train, add hints=skip_train~false to metric parameters.\n",
      "54:\tloss: 0.7721095\tbest: 0.8363662 (52)\ttotal: 692ms\tremaining: 894ms\n",
      "\n",
      "bestTest = 0.7721094518\n",
      "bestIteration = 0\n",
      "\n",
      "Metric AUC is not calculated on train by default. To calculate this metric on train, add hints=skip_train~false to metric parameters.\n",
      "55:\tloss: 0.7721095\tbest: 0.8363662 (52)\ttotal: 696ms\tremaining: 870ms\n",
      "\n",
      "bestTest = 0.812393812\n",
      "bestIteration = 1\n",
      "\n",
      "Metric AUC is not calculated on train by default. To calculate this metric on train, add hints=skip_train~false to metric parameters.\n",
      "56:\tloss: 0.8123938\tbest: 0.8363662 (52)\ttotal: 703ms\tremaining: 851ms\n",
      "\n",
      "bestTest = 0.7888461653\n",
      "bestIteration = 1\n",
      "\n",
      "Metric AUC is not calculated on train by default. To calculate this metric on train, add hints=skip_train~false to metric parameters.\n",
      "57:\tloss: 0.7888462\tbest: 0.8363662 (52)\ttotal: 712ms\tremaining: 834ms\n",
      "\n",
      "bestTest = 0.8231839995\n",
      "bestIteration = 2\n",
      "\n",
      "Metric AUC is not calculated on train by default. To calculate this metric on train, add hints=skip_train~false to metric parameters.\n",
      "58:\tloss: 0.8231840\tbest: 0.8363662 (52)\ttotal: 721ms\tremaining: 819ms\n",
      "\n",
      "bestTest = 0.7953105905\n",
      "bestIteration = 2\n",
      "\n",
      "Metric AUC is not calculated on train by default. To calculate this metric on train, add hints=skip_train~false to metric parameters.\n",
      "59:\tloss: 0.7953106\tbest: 0.8363662 (52)\ttotal: 731ms\tremaining: 804ms\n",
      "\n",
      "bestTest = 0.8285120272\n",
      "bestIteration = 3\n",
      "\n",
      "Metric AUC is not calculated on train by default. To calculate this metric on train, add hints=skip_train~false to metric parameters.\n",
      "60:\tloss: 0.8285120\tbest: 0.8363662 (52)\ttotal: 745ms\tremaining: 794ms\n",
      "\n",
      "bestTest = 0.7972368774\n",
      "bestIteration = 3\n",
      "\n",
      "Metric AUC is not calculated on train by default. To calculate this metric on train, add hints=skip_train~false to metric parameters.\n",
      "61:\tloss: 0.7972369\tbest: 0.8363662 (52)\ttotal: 757ms\tremaining: 781ms\n",
      "\n",
      "bestTest = 0.8285120272\n",
      "bestIteration = 3\n",
      "\n",
      "Metric AUC is not calculated on train by default. To calculate this metric on train, add hints=skip_train~false to metric parameters.\n",
      "62:\tloss: 0.8285120\tbest: 0.8363662 (52)\ttotal: 772ms\tremaining: 772ms\n",
      "\n",
      "bestTest = 0.797635548\n",
      "bestIteration = 4\n",
      "\n",
      "Metric AUC is not calculated on train by default. To calculate this metric on train, add hints=skip_train~false to metric parameters.\n",
      "63:\tloss: 0.7976355\tbest: 0.8363662 (52)\ttotal: 787ms\tremaining: 762ms\n",
      "\n",
      "bestTest = 0.8303526186\n",
      "bestIteration = 5\n",
      "\n",
      "Metric AUC is not calculated on train by default. To calculate this metric on train, add hints=skip_train~false to metric parameters.\n",
      "64:\tloss: 0.8303526\tbest: 0.8363662 (52)\ttotal: 804ms\tremaining: 755ms\n",
      "\n",
      "bestTest = 0.797635548\n",
      "bestIteration = 4\n",
      "\n",
      "Metric AUC is not calculated on train by default. To calculate this metric on train, add hints=skip_train~false to metric parameters.\n",
      "65:\tloss: 0.7976355\tbest: 0.8363662 (52)\ttotal: 821ms\tremaining: 747ms\n",
      "\n",
      "bestTest = 0.8303526186\n",
      "bestIteration = 5\n",
      "\n",
      "Metric AUC is not calculated on train by default. To calculate this metric on train, add hints=skip_train~false to metric parameters.\n",
      "66:\tloss: 0.8303526\tbest: 0.8363662 (52)\ttotal: 842ms\tremaining: 741ms\n",
      "\n",
      "bestTest = 0.8001132672\n",
      "bestIteration = 6\n",
      "\n",
      "Metric AUC is not calculated on train by default. To calculate this metric on train, add hints=skip_train~false to metric parameters.\n",
      "67:\tloss: 0.8001133\tbest: 0.8363662 (52)\ttotal: 867ms\tremaining: 740ms\n",
      "\n",
      "bestTest = 0.8351217622\n",
      "bestIteration = 7\n",
      "\n",
      "Metric AUC is not calculated on train by default. To calculate this metric on train, add hints=skip_train~false to metric parameters.\n",
      "68:\tloss: 0.8351218\tbest: 0.8363662 (52)\ttotal: 890ms\tremaining: 736ms\n",
      "\n",
      "bestTest = 0.8019538585\n",
      "bestIteration = 7\n",
      "\n",
      "Metric AUC is not calculated on train by default. To calculate this metric on train, add hints=skip_train~false to metric parameters.\n",
      "69:\tloss: 0.8019539\tbest: 0.8363662 (52)\ttotal: 913ms\tremaining: 730ms\n",
      "\n",
      "bestTest = 0.836843125\n",
      "bestIteration = 8\n",
      "\n",
      "Metric AUC is not calculated on train by default. To calculate this metric on train, add hints=skip_train~false to metric parameters.\n",
      "70:\tloss: 0.8368431\tbest: 0.8368431 (70)\ttotal: 938ms\tremaining: 727ms\n",
      "\n",
      "bestTest = 0.8019538585\n",
      "bestIteration = 7\n",
      "\n",
      "Metric AUC is not calculated on train by default. To calculate this metric on train, add hints=skip_train~false to metric parameters.\n",
      "71:\tloss: 0.8019539\tbest: 0.8368431 (70)\ttotal: 963ms\tremaining: 722ms\n",
      "\n",
      "bestTest = 0.7775231751\n",
      "bestIteration = 0\n",
      "\n",
      "Metric AUC is not calculated on train by default. To calculate this metric on train, add hints=skip_train~false to metric parameters.\n",
      "72:\tloss: 0.7775232\tbest: 0.8368431 (70)\ttotal: 967ms\tremaining: 702ms\n",
      "\n",
      "bestTest = 0.7775231751\n",
      "bestIteration = 0\n",
      "\n",
      "Metric AUC is not calculated on train by default. To calculate this metric on train, add hints=skip_train~false to metric parameters.\n",
      "73:\tloss: 0.7775232\tbest: 0.8368431 (70)\ttotal: 972ms\tremaining: 683ms\n",
      "\n",
      "bestTest = 0.8072632567\n",
      "bestIteration = 1\n",
      "\n",
      "Metric AUC is not calculated on train by default. To calculate this metric on train, add hints=skip_train~false to metric parameters.\n",
      "74:\tloss: 0.8072633\tbest: 0.8368431 (70)\ttotal: 979ms\tremaining: 666ms\n",
      "\n",
      "bestTest = 0.7919572864\n",
      "bestIteration = 1\n",
      "\n",
      "Metric AUC is not calculated on train by default. To calculate this metric on train, add hints=skip_train~false to metric parameters.\n",
      "75:\tloss: 0.7919573\tbest: 0.8368431 (70)\ttotal: 986ms\tremaining: 649ms\n",
      "\n",
      "bestTest = 0.8107730484\n",
      "bestIteration = 2\n",
      "\n",
      "Metric AUC is not calculated on train by default. To calculate this metric on train, add hints=skip_train~false to metric parameters.\n",
      "76:\tloss: 0.8107730\tbest: 0.8368431 (70)\ttotal: 997ms\tremaining: 634ms\n",
      "\n",
      "bestTest = 0.7962457897\n",
      "bestIteration = 2\n",
      "\n",
      "Metric AUC is not calculated on train by default. To calculate this metric on train, add hints=skip_train~false to metric parameters.\n",
      "77:\tloss: 0.7962458\tbest: 0.8368431 (70)\ttotal: 1.01s\tremaining: 620ms\n",
      "\n",
      "bestTest = 0.8131837015\n",
      "bestIteration = 3\n",
      "\n",
      "Metric AUC is not calculated on train by default. To calculate this metric on train, add hints=skip_train~false to metric parameters.\n",
      "78:\tloss: 0.8131837\tbest: 0.8368431 (70)\ttotal: 1.02s\tremaining: 608ms\n",
      "\n",
      "bestTest = 0.7993196519\n",
      "bestIteration = 3\n",
      "\n",
      "Metric AUC is not calculated on train by default. To calculate this metric on train, add hints=skip_train~false to metric parameters.\n",
      "79:\tloss: 0.7993197\tbest: 0.8368431 (70)\ttotal: 1.03s\tremaining: 595ms\n"
     ]
    },
    {
     "name": "stdout",
     "output_type": "stream",
     "text": [
      "\n",
      "bestTest = 0.8230014307\n",
      "bestIteration = 4\n",
      "\n",
      "Metric AUC is not calculated on train by default. To calculate this metric on train, add hints=skip_train~false to metric parameters.\n",
      "80:\tloss: 0.8230014\tbest: 0.8368431 (70)\ttotal: 1.05s\tremaining: 587ms\n",
      "\n",
      "bestTest = 0.7993196519\n",
      "bestIteration = 3\n",
      "\n",
      "Metric AUC is not calculated on train by default. To calculate this metric on train, add hints=skip_train~false to metric parameters.\n",
      "81:\tloss: 0.7993197\tbest: 0.8368431 (70)\ttotal: 1.07s\tremaining: 576ms\n",
      "\n",
      "bestTest = 0.8230014307\n",
      "bestIteration = 4\n",
      "\n",
      "Metric AUC is not calculated on train by default. To calculate this metric on train, add hints=skip_train~false to metric parameters.\n",
      "82:\tloss: 0.8230014\tbest: 0.8368431 (70)\ttotal: 1.09s\tremaining: 566ms\n",
      "\n",
      "bestTest = 0.7993196519\n",
      "bestIteration = 3\n",
      "\n",
      "Metric AUC is not calculated on train by default. To calculate this metric on train, add hints=skip_train~false to metric parameters.\n",
      "83:\tloss: 0.7993197\tbest: 0.8368431 (70)\ttotal: 1.11s\tremaining: 556ms\n",
      "\n",
      "bestTest = 0.8230014307\n",
      "bestIteration = 4\n",
      "\n",
      "Metric AUC is not calculated on train by default. To calculate this metric on train, add hints=skip_train~false to metric parameters.\n",
      "84:\tloss: 0.8230014\tbest: 0.8368431 (70)\ttotal: 1.13s\tremaining: 547ms\n",
      "\n",
      "bestTest = 0.7993196519\n",
      "bestIteration = 3\n",
      "\n",
      "Metric AUC is not calculated on train by default. To calculate this metric on train, add hints=skip_train~false to metric parameters.\n",
      "85:\tloss: 0.7993197\tbest: 0.8368431 (70)\ttotal: 1.16s\tremaining: 539ms\n",
      "\n",
      "bestTest = 0.8230014307\n",
      "bestIteration = 4\n",
      "\n",
      "Metric AUC is not calculated on train by default. To calculate this metric on train, add hints=skip_train~false to metric parameters.\n",
      "86:\tloss: 0.8230014\tbest: 0.8368431 (70)\ttotal: 1.19s\tremaining: 532ms\n",
      "\n",
      "bestTest = 0.8009292378\n",
      "bestIteration = 7\n",
      "\n",
      "Metric AUC is not calculated on train by default. To calculate this metric on train, add hints=skip_train~false to metric parameters.\n",
      "87:\tloss: 0.8009292\tbest: 0.8368431 (70)\ttotal: 1.21s\tremaining: 523ms\n",
      "\n",
      "bestTest = 0.8230014307\n",
      "bestIteration = 4\n",
      "\n",
      "Metric AUC is not calculated on train by default. To calculate this metric on train, add hints=skip_train~false to metric parameters.\n",
      "88:\tloss: 0.8230014\tbest: 0.8368431 (70)\ttotal: 1.24s\tremaining: 515ms\n",
      "\n",
      "bestTest = 0.8014285076\n",
      "bestIteration = 8\n",
      "\n",
      "Metric AUC is not calculated on train by default. To calculate this metric on train, add hints=skip_train~false to metric parameters.\n",
      "89:\tloss: 0.8014285\tbest: 0.8368431 (70)\ttotal: 1.27s\tremaining: 509ms\n",
      "\n",
      "bestTest = 0.7737525709\n",
      "bestIteration = 0\n",
      "\n",
      "Metric AUC is not calculated on train by default. To calculate this metric on train, add hints=skip_train~false to metric parameters.\n",
      "90:\tloss: 0.7737526\tbest: 0.8368431 (70)\ttotal: 1.28s\tremaining: 492ms\n",
      "\n",
      "bestTest = 0.7737525709\n",
      "bestIteration = 0\n",
      "\n",
      "Metric AUC is not calculated on train by default. To calculate this metric on train, add hints=skip_train~false to metric parameters.\n",
      "91:\tloss: 0.7737526\tbest: 0.8368431 (70)\ttotal: 1.28s\tremaining: 474ms\n",
      "\n",
      "bestTest = 0.7952025396\n",
      "bestIteration = 1\n",
      "\n",
      "Metric AUC is not calculated on train by default. To calculate this metric on train, add hints=skip_train~false to metric parameters.\n",
      "92:\tloss: 0.7952025\tbest: 0.8368431 (70)\ttotal: 1.29s\tremaining: 459ms\n",
      "\n",
      "bestTest = 0.7909736505\n",
      "bestIteration = 1\n",
      "\n",
      "Metric AUC is not calculated on train by default. To calculate this metric on train, add hints=skip_train~false to metric parameters.\n",
      "93:\tloss: 0.7909737\tbest: 0.8368431 (70)\ttotal: 1.3s\tremaining: 443ms\n",
      "\n",
      "bestTest = 0.7953702048\n",
      "bestIteration = 2\n",
      "\n",
      "Metric AUC is not calculated on train by default. To calculate this metric on train, add hints=skip_train~false to metric parameters.\n",
      "94:\tloss: 0.7953702\tbest: 0.8368431 (70)\ttotal: 1.31s\tremaining: 429ms\n",
      "\n",
      "bestTest = 0.7921733882\n",
      "bestIteration = 2\n",
      "\n",
      "Metric AUC is not calculated on train by default. To calculate this metric on train, add hints=skip_train~false to metric parameters.\n",
      "95:\tloss: 0.7921734\tbest: 0.8368431 (70)\ttotal: 1.33s\tremaining: 415ms\n",
      "\n",
      "bestTest = 0.8044464813\n",
      "bestIteration = 3\n",
      "\n",
      "Metric AUC is not calculated on train by default. To calculate this metric on train, add hints=skip_train~false to metric parameters.\n",
      "96:\tloss: 0.8044465\tbest: 0.8368431 (70)\ttotal: 1.34s\tremaining: 402ms\n",
      "\n",
      "bestTest = 0.7960445915\n",
      "bestIteration = 3\n",
      "\n",
      "Metric AUC is not calculated on train by default. To calculate this metric on train, add hints=skip_train~false to metric parameters.\n",
      "97:\tloss: 0.7960446\tbest: 0.8368431 (70)\ttotal: 1.36s\tremaining: 388ms\n",
      "\n",
      "bestTest = 0.8113021252\n",
      "bestIteration = 4\n",
      "\n",
      "Metric AUC is not calculated on train by default. To calculate this metric on train, add hints=skip_train~false to metric parameters.\n",
      "98:\tloss: 0.8113021\tbest: 0.8368431 (70)\ttotal: 1.38s\tremaining: 377ms\n",
      "\n",
      "bestTest = 0.7981683508\n",
      "bestIteration = 4\n",
      "\n",
      "Metric AUC is not calculated on train by default. To calculate this metric on train, add hints=skip_train~false to metric parameters.\n",
      "99:\tloss: 0.7981684\tbest: 0.8368431 (70)\ttotal: 1.4s\tremaining: 364ms\n",
      "\n",
      "bestTest = 0.8113021252\n",
      "bestIteration = 4\n",
      "\n",
      "Metric AUC is not calculated on train by default. To calculate this metric on train, add hints=skip_train~false to metric parameters.\n",
      "100:\tloss: 0.8113021\tbest: 0.8368431 (70)\ttotal: 1.42s\tremaining: 352ms\n",
      "\n",
      "bestTest = 0.8016036245\n",
      "bestIteration = 5\n",
      "\n",
      "Metric AUC is not calculated on train by default. To calculate this metric on train, add hints=skip_train~false to metric parameters.\n",
      "101:\tloss: 0.8016036\tbest: 0.8368431 (70)\ttotal: 1.45s\tremaining: 340ms\n",
      "\n",
      "bestTest = 0.8113021252\n",
      "bestIteration = 4\n",
      "\n",
      "Metric AUC is not calculated on train by default. To calculate this metric on train, add hints=skip_train~false to metric parameters.\n",
      "102:\tloss: 0.8113021\tbest: 0.8368431 (70)\ttotal: 1.47s\tremaining: 329ms\n",
      "\n",
      "bestTest = 0.8016036245\n",
      "bestIteration = 5\n",
      "\n",
      "Metric AUC is not calculated on train by default. To calculate this metric on train, add hints=skip_train~false to metric parameters.\n",
      "103:\tloss: 0.8016036\tbest: 0.8368431 (70)\ttotal: 1.51s\tremaining: 319ms\n",
      "\n",
      "bestTest = 0.8137612149\n",
      "bestIteration = 7\n",
      "\n",
      "Metric AUC is not calculated on train by default. To calculate this metric on train, add hints=skip_train~false to metric parameters.\n",
      "104:\tloss: 0.8137612\tbest: 0.8368431 (70)\ttotal: 1.54s\tremaining: 307ms\n",
      "\n",
      "bestTest = 0.802218397\n",
      "bestIteration = 7\n",
      "\n",
      "Metric AUC is not calculated on train by default. To calculate this metric on train, add hints=skip_train~false to metric parameters.\n",
      "105:\tloss: 0.8022184\tbest: 0.8368431 (70)\ttotal: 1.57s\tremaining: 296ms\n",
      "\n",
      "bestTest = 0.8157098572\n",
      "bestIteration = 8\n",
      "\n",
      "Metric AUC is not calculated on train by default. To calculate this metric on train, add hints=skip_train~false to metric parameters.\n",
      "106:\tloss: 0.8157099\tbest: 0.8368431 (70)\ttotal: 1.6s\tremaining: 284ms\n",
      "\n",
      "bestTest = 0.8039546633\n",
      "bestIteration = 8\n",
      "\n",
      "Metric AUC is not calculated on train by default. To calculate this metric on train, add hints=skip_train~false to metric parameters.\n",
      "107:\tloss: 0.8039547\tbest: 0.8368431 (70)\ttotal: 1.64s\tremaining: 273ms\n",
      "\n",
      "bestTest = 0.782210349\n",
      "bestIteration = 0\n",
      "\n",
      "Metric AUC is not calculated on train by default. To calculate this metric on train, add hints=skip_train~false to metric parameters.\n",
      "108:\tloss: 0.7822103\tbest: 0.8368431 (70)\ttotal: 1.64s\tremaining: 256ms\n",
      "\n",
      "bestTest = 0.782210349\n",
      "bestIteration = 0\n",
      "\n",
      "Metric AUC is not calculated on train by default. To calculate this metric on train, add hints=skip_train~false to metric parameters.\n",
      "109:\tloss: 0.7822103\tbest: 0.8368431 (70)\ttotal: 1.65s\tremaining: 240ms\n",
      "\n",
      "bestTest = 0.8069987183\n",
      "bestIteration = 1\n",
      "\n",
      "Metric AUC is not calculated on train by default. To calculate this metric on train, add hints=skip_train~false to metric parameters.\n",
      "110:\tloss: 0.8069987\tbest: 0.8368431 (70)\ttotal: 1.66s\tremaining: 224ms\n",
      "\n",
      "bestTest = 0.7937270858\n",
      "bestIteration = 1\n",
      "\n",
      "Metric AUC is not calculated on train by default. To calculate this metric on train, add hints=skip_train~false to metric parameters.\n",
      "111:\tloss: 0.7937271\tbest: 0.8368431 (70)\ttotal: 1.68s\tremaining: 209ms\n",
      "\n",
      "bestTest = 0.815963218\n",
      "bestIteration = 2\n",
      "\n",
      "Metric AUC is not calculated on train by default. To calculate this metric on train, add hints=skip_train~false to metric parameters.\n",
      "112:\tloss: 0.8159632\tbest: 0.8368431 (70)\ttotal: 1.7s\tremaining: 195ms\n",
      "\n",
      "bestTest = 0.7956235655\n",
      "bestIteration = 2\n",
      "\n",
      "Metric AUC is not calculated on train by default. To calculate this metric on train, add hints=skip_train~false to metric parameters.\n",
      "113:\tloss: 0.7956236\tbest: 0.8368431 (70)\ttotal: 1.72s\tremaining: 181ms\n",
      "\n",
      "bestTest = 0.815963218\n",
      "bestIteration = 2\n",
      "\n",
      "Metric AUC is not calculated on train by default. To calculate this metric on train, add hints=skip_train~false to metric parameters.\n",
      "114:\tloss: 0.8159632\tbest: 0.8368431 (70)\ttotal: 1.75s\tremaining: 167ms\n",
      "\n",
      "bestTest = 0.7956235655\n",
      "bestIteration = 2\n",
      "\n",
      "Metric AUC is not calculated on train by default. To calculate this metric on train, add hints=skip_train~false to metric parameters.\n",
      "115:\tloss: 0.7956236\tbest: 0.8368431 (70)\ttotal: 1.78s\tremaining: 153ms\n",
      "\n",
      "bestTest = 0.815963218\n",
      "bestIteration = 2\n",
      "\n",
      "Metric AUC is not calculated on train by default. To calculate this metric on train, add hints=skip_train~false to metric parameters.\n",
      "116:\tloss: 0.8159632\tbest: 0.8368431 (70)\ttotal: 1.81s\tremaining: 139ms\n",
      "\n",
      "bestTest = 0.7995767385\n",
      "bestIteration = 4\n",
      "\n",
      "Metric AUC is not calculated on train by default. To calculate this metric on train, add hints=skip_train~false to metric parameters.\n",
      "117:\tloss: 0.7995767\tbest: 0.8368431 (70)\ttotal: 1.84s\tremaining: 125ms\n",
      "\n",
      "bestTest = 0.815963218\n",
      "bestIteration = 2\n",
      "\n",
      "Metric AUC is not calculated on train by default. To calculate this metric on train, add hints=skip_train~false to metric parameters.\n"
     ]
    },
    {
     "name": "stdout",
     "output_type": "stream",
     "text": [
      "118:\tloss: 0.8159632\tbest: 0.8368431 (70)\ttotal: 1.87s\tremaining: 110ms\n",
      "\n",
      "bestTest = 0.8009888521\n",
      "bestIteration = 5\n",
      "\n",
      "Metric AUC is not calculated on train by default. To calculate this metric on train, add hints=skip_train~false to metric parameters.\n",
      "119:\tloss: 0.8009889\tbest: 0.8368431 (70)\ttotal: 1.91s\tremaining: 95.7ms\n",
      "\n",
      "bestTest = 0.815963218\n",
      "bestIteration = 2\n",
      "\n",
      "Metric AUC is not calculated on train by default. To calculate this metric on train, add hints=skip_train~false to metric parameters.\n",
      "120:\tloss: 0.8159632\tbest: 0.8368431 (70)\ttotal: 1.96s\tremaining: 80.8ms\n",
      "\n",
      "bestTest = 0.8012198575\n",
      "bestIteration = 6\n",
      "\n",
      "Metric AUC is not calculated on train by default. To calculate this metric on train, add hints=skip_train~false to metric parameters.\n",
      "121:\tloss: 0.8012199\tbest: 0.8368431 (70)\ttotal: 2s\tremaining: 65.5ms\n",
      "\n",
      "bestTest = 0.815963218\n",
      "bestIteration = 2\n",
      "\n",
      "Metric AUC is not calculated on train by default. To calculate this metric on train, add hints=skip_train~false to metric parameters.\n",
      "122:\tloss: 0.8159632\tbest: 0.8368431 (70)\ttotal: 2.04s\tremaining: 49.8ms\n",
      "\n",
      "bestTest = 0.8012198575\n",
      "bestIteration = 6\n",
      "\n",
      "Metric AUC is not calculated on train by default. To calculate this metric on train, add hints=skip_train~false to metric parameters.\n",
      "123:\tloss: 0.8012199\tbest: 0.8368431 (70)\ttotal: 2.09s\tremaining: 33.8ms\n",
      "\n",
      "bestTest = 0.815963218\n",
      "bestIteration = 2\n",
      "\n",
      "Metric AUC is not calculated on train by default. To calculate this metric on train, add hints=skip_train~false to metric parameters.\n",
      "124:\tloss: 0.8159632\tbest: 0.8368431 (70)\ttotal: 2.14s\tremaining: 17.2ms\n",
      "\n",
      "bestTest = 0.8012198575\n",
      "bestIteration = 6\n",
      "\n",
      "Metric AUC is not calculated on train by default. To calculate this metric on train, add hints=skip_train~false to metric parameters.\n",
      "125:\tloss: 0.8012199\tbest: 0.8368431 (70)\ttotal: 2.2s\tremaining: 0us\n",
      "Estimating final quality...\n"
     ]
    },
    {
     "data": {
      "text/plain": [
       "{'params': {'depth': 6, 'learning_rate': 1, 'iterations': 9},\n",
       " 'cv_results': defaultdict(list,\n",
       "             {'iterations': [0, 1, 2, 3, 4, 5, 6, 7, 8],\n",
       "              'test-AUC-mean': [0.7772367597456243,\n",
       "               0.803085706303405,\n",
       "               0.8110186374585752,\n",
       "               0.8158834716686268,\n",
       "               0.8201355887428923,\n",
       "               0.8230728659250669,\n",
       "               0.8185246991812113,\n",
       "               0.8164440744626468,\n",
       "               0.815816061224368],\n",
       "              'test-AUC-std': [0.005049532724705779,\n",
       "               0.011765151111437588,\n",
       "               0.016088334132891898,\n",
       "               0.014556456447011566,\n",
       "               0.020446383309159454,\n",
       "               0.01384568662320507,\n",
       "               0.015960371736094426,\n",
       "               0.017355397229211235,\n",
       "               0.010348483240835335],\n",
       "              'train-AUC-mean': [0.7879732450165037,\n",
       "               0.8207680578333724,\n",
       "               0.8371225581038312,\n",
       "               0.8456914842404802,\n",
       "               0.8519532478810731,\n",
       "               0.8568608748659896,\n",
       "               0.8641103303783942,\n",
       "               0.8682473950054188,\n",
       "               0.8763521749121311],\n",
       "              'train-AUC-std': [0.008989134559604973,\n",
       "               0.002343273913700866,\n",
       "               0.005954292778498211,\n",
       "               0.0113345970007819,\n",
       "               0.01189397080872555,\n",
       "               0.011691733276382604,\n",
       "               0.012515968860462278,\n",
       "               0.013910573984505946,\n",
       "               0.007166298668224138],\n",
       "              'test-Logloss-mean': [0.4764752284912846,\n",
       "               0.4624524541759381,\n",
       "               0.45588704532169166,\n",
       "               0.4547533397416521,\n",
       "               0.4535617203158577,\n",
       "               0.4509782185327614,\n",
       "               0.45723943256440713,\n",
       "               0.4588751291831315,\n",
       "               0.46503206528945884],\n",
       "              'test-Logloss-std': [0.0037263674547240657,\n",
       "               0.006258856764014298,\n",
       "               0.014646341172714041,\n",
       "               0.017298636340240217,\n",
       "               0.021218976553895454,\n",
       "               0.0173389836781666,\n",
       "               0.019173811952458836,\n",
       "               0.020693786560946097,\n",
       "               0.01025262571040778],\n",
       "              'train-Logloss-mean': [0.46457347711319325,\n",
       "               0.4400109799525733,\n",
       "               0.42384299882160076,\n",
       "               0.4143996133364991,\n",
       "               0.40852295141964884,\n",
       "               0.40258744034713007,\n",
       "               0.3928507333886359,\n",
       "               0.3870396696800779,\n",
       "               0.3766462553822505],\n",
       "              'train-Logloss-std': [0.004174005705267361,\n",
       "               0.005037150816091978,\n",
       "               0.006941691041791894,\n",
       "               0.014165639201350118,\n",
       "               0.01636808446541977,\n",
       "               0.015035529923549014,\n",
       "               0.0169903348596809,\n",
       "               0.01885889466923317,\n",
       "               0.010500996781874225]})}"
      ]
     },
     "execution_count": 63,
     "metadata": {},
     "output_type": "execute_result"
    }
   ],
   "source": [
    "custom_metric=['Logloss', 'AUC:hints=skip_train~false']\n",
    "\n",
    "boosting_grid_model = CatBoostClassifier(silent=True,\n",
    "                                             cat_features=categorical_ind,\n",
    "                                             eval_metric='AUC',\n",
    "                                             custom_metric=custom_metric)\n",
    "\n",
    "\n",
    "grid = {'learning_rate': [1, 1e-5],\n",
    "        'depth': np.arange(3,10),\n",
    "        'n_estimators': np.arange(1,10)}\n",
    "        #'l2_leaf_reg': np.linspace(0, 1, 20)\n",
    "\n",
    "boosting_grid_model.grid_search(grid, X_train, y_train, refit=True)"
   ]
  },
  {
   "cell_type": "code",
   "execution_count": 64,
   "metadata": {},
   "outputs": [
    {
     "data": {
      "text/plain": [
       "{'learn': {'Logloss': 0.3999434224962604, 'AUC': 0.85804848204132}}"
      ]
     },
     "execution_count": 64,
     "metadata": {},
     "output_type": "execute_result"
    }
   ],
   "source": [
    "boosting_grid_model.get_best_score()"
   ]
  },
  {
   "cell_type": "code",
   "execution_count": 65,
   "metadata": {},
   "outputs": [
    {
     "name": "stdout",
     "output_type": "stream",
     "text": [
      "0:\tlearn: 0.7685911\ttotal: 2.88ms\tremaining: 141ms\n",
      "1:\tlearn: 0.7892456\ttotal: 5.53ms\tremaining: 133ms\n",
      "2:\tlearn: 0.8082099\ttotal: 7.86ms\tremaining: 123ms\n",
      "3:\tlearn: 0.8093756\ttotal: 10.3ms\tremaining: 119ms\n",
      "4:\tlearn: 0.8089379\ttotal: 12.8ms\tremaining: 115ms\n",
      "5:\tlearn: 0.8091167\ttotal: 15.7ms\tremaining: 115ms\n",
      "6:\tlearn: 0.8118750\ttotal: 17.9ms\tremaining: 110ms\n",
      "7:\tlearn: 0.8124397\ttotal: 20.1ms\tremaining: 106ms\n",
      "8:\tlearn: 0.8122495\ttotal: 22.4ms\tremaining: 102ms\n",
      "9:\tlearn: 0.8128244\ttotal: 24.7ms\tremaining: 98.8ms\n",
      "10:\tlearn: 0.8119619\ttotal: 27ms\tremaining: 95.6ms\n",
      "11:\tlearn: 0.8133877\ttotal: 29.1ms\tremaining: 92.3ms\n",
      "12:\tlearn: 0.8140090\ttotal: 31.3ms\tremaining: 89.2ms\n",
      "13:\tlearn: 0.8145072\ttotal: 33.6ms\tremaining: 86.3ms\n",
      "14:\tlearn: 0.8159522\ttotal: 35.8ms\tremaining: 83.4ms\n",
      "15:\tlearn: 0.8156755\ttotal: 37.8ms\tremaining: 80.3ms\n",
      "16:\tlearn: 0.8160300\ttotal: 39.8ms\tremaining: 77.3ms\n",
      "17:\tlearn: 0.8163209\ttotal: 42ms\tremaining: 74.6ms\n",
      "18:\tlearn: 0.8168843\ttotal: 44.1ms\tremaining: 71.9ms\n",
      "19:\tlearn: 0.8173772\ttotal: 46.2ms\tremaining: 69.3ms\n",
      "20:\tlearn: 0.8184018\ttotal: 48.3ms\tremaining: 66.7ms\n",
      "21:\tlearn: 0.8186673\ttotal: 50.4ms\tremaining: 64.1ms\n",
      "22:\tlearn: 0.8191959\ttotal: 52.5ms\tremaining: 61.6ms\n",
      "23:\tlearn: 0.8194001\ttotal: 54.6ms\tremaining: 59.1ms\n",
      "24:\tlearn: 0.8197491\ttotal: 56.7ms\tremaining: 56.7ms\n",
      "25:\tlearn: 0.8195969\ttotal: 58.8ms\tremaining: 54.3ms\n",
      "26:\tlearn: 0.8197628\ttotal: 61ms\tremaining: 51.9ms\n",
      "27:\tlearn: 0.8220813\ttotal: 63.1ms\tremaining: 49.6ms\n",
      "28:\tlearn: 0.8243873\ttotal: 64.5ms\tremaining: 46.7ms\n",
      "29:\tlearn: 0.8259194\ttotal: 66.6ms\tremaining: 44.4ms\n",
      "30:\tlearn: 0.8275073\ttotal: 68.7ms\tremaining: 42.1ms\n",
      "31:\tlearn: 0.8286567\ttotal: 70.8ms\tremaining: 39.8ms\n",
      "32:\tlearn: 0.8296456\ttotal: 72.9ms\tremaining: 37.5ms\n",
      "33:\tlearn: 0.8308375\ttotal: 75ms\tremaining: 35.3ms\n",
      "34:\tlearn: 0.8311790\ttotal: 76.9ms\tremaining: 33ms\n",
      "35:\tlearn: 0.8318113\ttotal: 79.2ms\tremaining: 30.8ms\n",
      "36:\tlearn: 0.8322131\ttotal: 81.7ms\tremaining: 28.7ms\n",
      "37:\tlearn: 0.8323221\ttotal: 84.3ms\tremaining: 26.6ms\n",
      "38:\tlearn: 0.8331727\ttotal: 86.8ms\tremaining: 24.5ms\n",
      "39:\tlearn: 0.8334480\ttotal: 88.5ms\tremaining: 22.1ms\n",
      "40:\tlearn: 0.8339331\ttotal: 91.6ms\tremaining: 20.1ms\n",
      "41:\tlearn: 0.8339964\ttotal: 93.4ms\tremaining: 17.8ms\n",
      "42:\tlearn: 0.8340504\ttotal: 95.8ms\tremaining: 15.6ms\n",
      "43:\tlearn: 0.8339754\ttotal: 97.5ms\tremaining: 13.3ms\n",
      "44:\tlearn: 0.8341145\ttotal: 99.6ms\tremaining: 11.1ms\n",
      "45:\tlearn: 0.8343444\ttotal: 103ms\tremaining: 8.91ms\n",
      "46:\tlearn: 0.8347939\ttotal: 105ms\tremaining: 6.7ms\n",
      "47:\tlearn: 0.8351717\ttotal: 107ms\tremaining: 4.47ms\n",
      "48:\tlearn: 0.8351420\ttotal: 109ms\tremaining: 2.23ms\n",
      "49:\tlearn: 0.8351420\ttotal: 110ms\tremaining: 0us\n"
     ]
    }
   ],
   "source": [
    "custom_metric=['Logloss', 'AUC:hints=skip_train~false']\n",
    "\n",
    "best_model = CatBoostClassifier(\n",
    "   bagging_temperature=1,\n",
    "   random_strength=1,\n",
    "   thread_count=6,\n",
    "   iterations=50,\n",
    "   l2_leaf_reg = 4.0, \n",
    "   eval_metric='AUC',\n",
    "   cat_features=categorical_ind,\n",
    "   custom_metric=custom_metric\n",
    ")\n",
    "\n",
    "\n",
    "best_model.fit(X_train, y_train)\n",
    "None"
   ]
  },
  {
   "cell_type": "code",
   "execution_count": 66,
   "metadata": {},
   "outputs": [
    {
     "data": {
      "text/plain": [
       "{'learn': {'Logloss': 0.3999434224962604, 'AUC': 0.85804848204132}}"
      ]
     },
     "execution_count": 66,
     "metadata": {},
     "output_type": "execute_result"
    }
   ],
   "source": [
    "boosting_grid_model.get_best_score()"
   ]
  },
  {
   "cell_type": "markdown",
   "metadata": {},
   "source": [
    "Получилось **0.8480* При следующих параметрах:\n",
    "\n",
    "'depth': np.arange(3,10),\n",
    "'n_estimators': np.arange(1,10),\n",
    "'l2_leaf_reg': np.linspace(0, 1, 20)\n",
    "\n",
    "### Вывод:\n",
    "\n",
    "Модель по дефолту оказалась лучше\n"
   ]
  },
  {
   "cell_type": "markdown",
   "metadata": {
    "id": "d2d9GolXEEZV"
   },
   "source": []
  },
  {
   "cell_type": "markdown",
   "metadata": {
    "id": "dDMXbvNZEEZV"
   },
   "source": [
    "# Предсказания"
   ]
  },
  {
   "cell_type": "code",
   "execution_count": 72,
   "metadata": {
    "id": "G_P4wFNaEEZW",
    "outputId": "1fba5dfc-88e4-49e3-ed8a-afe21ae3325a"
   },
   "outputs": [
    {
     "data": {
      "text/plain": [
       "<catboost.core.CatBoostClassifier at 0x7f7088145c40>"
      ]
     },
     "execution_count": 72,
     "metadata": {},
     "output_type": "execute_result"
    }
   ],
   "source": [
    "best_model\n"
   ]
  },
  {
   "cell_type": "code",
   "execution_count": 92,
   "metadata": {},
   "outputs": [],
   "source": [
    "X_test = pd.read_csv(path +'test.csv')\n",
    "submission = pd.read_csv(path  +'submission.csv')"
   ]
  },
  {
   "cell_type": "code",
   "execution_count": 93,
   "metadata": {},
   "outputs": [],
   "source": [
    "# чистка данных\n",
    "\n",
    "X_test['TotalSpent'] = pd.to_numeric(X_test['TotalSpent'], errors='coerce')\n",
    "\n",
    "X_test['TotalSpent'].fillna(0, inplace = True)\n",
    "# print(X_test.isna().sum())   "
   ]
  },
  {
   "cell_type": "code",
   "execution_count": 94,
   "metadata": {
    "id": "FfSufx0CEEZZ"
   },
   "outputs": [
    {
     "data": {
      "text/plain": [
       "array([0.0344793 , 0.73317175, 0.66260731, ..., 0.79041172, 0.68704207,\n",
       "       0.01792724])"
      ]
     },
     "execution_count": 94,
     "metadata": {},
     "output_type": "execute_result"
    }
   ],
   "source": [
    "a = best_model.predict_proba(X_test)[:,1]\n",
    "# a.shape\n",
    "a"
   ]
  },
  {
   "cell_type": "code",
   "execution_count": 95,
   "metadata": {},
   "outputs": [],
   "source": [
    "\n",
    "# test_auc = roc_auc_score(y_test, y_test_predicted)"
   ]
  },
  {
   "cell_type": "code",
   "execution_count": 96,
   "metadata": {},
   "outputs": [],
   "source": [
    "submission['Churn'] = a\n",
    "submission.to_csv(path +'out_submission.csv', index=False)\n",
    "# submission['Churn']"
   ]
  },
  {
   "cell_type": "markdown",
   "metadata": {
    "id": "mkxjbGkVEEZc"
   },
   "source": [
    "# Kaggle (5 баллов)\n",
    "\n",
    "Как выставить баллы:\n",
    "\n",
    "1) 1 >= roc auc > 0.84 это 5 баллов\n",
    "\n",
    "2) 0.84 >= roc auc > 0.7 это 3 балла\n",
    "\n",
    "3) 0.7 >= roc auc > 0.6 это 1 балл\n",
    "\n",
    "4) 0.6 >= roc auc это 0 баллов\n",
    "\n",
    "\n",
    "Для выполнения задания необходимо выполнить следующие шаги.\n",
    "* Зарегистрироваться на платформе [kaggle.com](kaggle.com). Процесс выставления оценок будет проходить при подведении итогового рейтинга. Пожалуйста, укажите во вкладке Team -> Team name свои имя и фамилию в формате Имя_Фамилия (важно, чтобы имя и фамилия совпадали с данными на Stepik).\n",
    "* Обучить модель, получить файл с ответами в формате .csv и сдать его в конкурс. Пробуйте и экспериментируйте. Обратите внимание, что вы можете выполнять до 20 попыток сдачи на kaggle в день.\n",
    "* После окончания соревнования отправить в итоговый ноутбук с решением на степик. \n",
    "* После дедлайна проверьте посылки других участников по критериям. Для этого надо зайти на степик, скачать их ноутбук и проверить скор в соревновании."
   ]
  },
  {
   "cell_type": "code",
   "execution_count": null,
   "metadata": {},
   "outputs": [],
   "source": []
  }
 ],
 "metadata": {
  "colab": {
   "collapsed_sections": [],
   "name": "Baseline.ipynb",
   "provenance": []
  },
  "kernelspec": {
   "display_name": "Python 3",
   "language": "python",
   "name": "python3"
  },
  "language_info": {
   "codemirror_mode": {
    "name": "ipython",
    "version": 3
   },
   "file_extension": ".py",
   "mimetype": "text/x-python",
   "name": "python",
   "nbconvert_exporter": "python",
   "pygments_lexer": "ipython3",
   "version": "3.7.4"
  }
 },
 "nbformat": 4,
 "nbformat_minor": 1
}
