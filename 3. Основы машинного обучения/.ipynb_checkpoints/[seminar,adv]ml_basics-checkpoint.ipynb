{
 "cells": [
  {
   "cell_type": "markdown",
   "metadata": {
    "id": "wU-s4PgBFoRY"
   },
   "source": [
    "<p style=\"align: center;\"><img src=\"https://static.tildacdn.com/tild6636-3531-4239-b465-376364646465/Deep_Learning_School.png\" width=\"300\"></p>\n",
    "\n",
    "<h3 style=\"text-align: center;\"><b>Физтех-Школа Прикладной математики и информатики (ФПМИ) МФТИ</b></h3>"
   ]
  },
  {
   "cell_type": "markdown",
   "metadata": {
    "id": "datr8Mp5FoRf"
   },
   "source": [
    "---"
   ]
  },
  {
   "cell_type": "markdown",
   "metadata": {
    "id": "GEmhGa2kFoRi"
   },
   "source": [
    "В этом ноутбке будет рассказано об основах машинного обучения."
   ]
  },
  {
   "cell_type": "markdown",
   "metadata": {
    "id": "-SFYozOuFoSx"
   },
   "source": [
    "# 1. Полезные ссылки"
   ]
  },
  {
   "cell_type": "markdown",
   "metadata": {
    "id": "LPgBJ6-WFoSz"
   },
   "source": [
    "1. [Наши доп материалы на Stepik](https://stepik.org/lesson/394280/step/1?unit=383263)\n",
    "1. [Больше о разных направлениях машинного обучения](http://www.machinelearning.ru/wiki/index.php?title=%D0%9C%D0%B0%D1%88%D0%B8%D0%BD%D0%BD%D0%BE%D0%B5_%D0%BE%D0%B1%D1%83%D1%87%D0%B5%D0%BD%D0%B8%D0%B5)\n",
    "2. Лекции Евгения Соколова https://github.com/esokolov/ml-course-msu/tree/master/ML15/lecture-notes"
   ]
  },
  {
   "cell_type": "markdown",
   "metadata": {
    "id": "O5Lj_FyVy3eq"
   },
   "source": [
    "# 2. Практическое занятие"
   ]
  },
  {
   "cell_type": "markdown",
   "metadata": {
    "id": "qK-Decu9vxwb"
   },
   "source": [
    "Что нужно вынести для себя из занятия:\n",
    "* Синтаксис работы с моделями и трансформерами в sklearn.\n",
    "* Какие бывают шаги предобработки данных.\n",
    "* Когда вы решаете ML задачу обязательно надо посмотреть на данные.\n",
    "\n",
    "\n",
    "### sklearn\n",
    "В sklearn есть два типа объектов:\n",
    "\n",
    "1. Estimator -- модель для предсказаний. Есть метод .fit(X, y) и .predict(X)\n",
    "2. Transformer -- обработчик данных (например нормирование признаков). Есть метод .fit(X) и .transform(X)"
   ]
  },
  {
   "cell_type": "markdown",
   "metadata": {
    "id": "R3EqSOCRy3et"
   },
   "source": [
    "## Данные\n",
    "\n",
    "Данные - информация о приложениях из AppStore. Поставим регрессионную задачу - предсказать рейтинг приложения. \n",
    "\n",
    "Скачать данные: https://www.kaggle.com/ramamet4/app-store-apple-data-set-10k-apps"
   ]
  },
  {
   "cell_type": "markdown",
   "metadata": {
    "id": "Nj6IqHx6y3ev"
   },
   "source": [
    "## Анализ данных\n",
    "\n",
    "Начнем с самой важной части - посмотрим на данные. "
   ]
  },
  {
   "cell_type": "code",
   "execution_count": 40,
   "metadata": {
    "executionInfo": {
     "elapsed": 1621,
     "status": "ok",
     "timestamp": 1603025436290,
     "user": {
      "displayName": "kirill ionkin",
      "photoUrl": "",
      "userId": "05870578380605152071"
     },
     "user_tz": -180
    },
    "id": "yxBPiW79y3ew"
   },
   "outputs": [],
   "source": [
    "import pandas as pd\n",
    "import numpy as np\n",
    "from matplotlib import pyplot as plt"
   ]
  },
  {
   "cell_type": "code",
   "execution_count": 41,
   "metadata": {
    "colab": {
     "base_uri": "https://localhost:8080/",
     "height": 423
    },
    "executionInfo": {
     "elapsed": 835,
     "status": "error",
     "timestamp": 1603025711357,
     "user": {
      "displayName": "kirill ionkin",
      "photoUrl": "",
      "userId": "05870578380605152071"
     },
     "user_tz": -180
    },
    "id": "oTzHxNFcy3e1",
    "outputId": "67cf0422-3d9e-4e20-e050-620053a88a18"
   },
   "outputs": [
    {
     "data": {
      "text/html": [
       "<div>\n",
       "<style scoped>\n",
       "    .dataframe tbody tr th:only-of-type {\n",
       "        vertical-align: middle;\n",
       "    }\n",
       "\n",
       "    .dataframe tbody tr th {\n",
       "        vertical-align: top;\n",
       "    }\n",
       "\n",
       "    .dataframe thead th {\n",
       "        text-align: right;\n",
       "    }\n",
       "</style>\n",
       "<table border=\"1\" class=\"dataframe\">\n",
       "  <thead>\n",
       "    <tr style=\"text-align: right;\">\n",
       "      <th></th>\n",
       "      <th>id</th>\n",
       "      <th>track_name</th>\n",
       "      <th>size_bytes</th>\n",
       "      <th>currency</th>\n",
       "      <th>price</th>\n",
       "      <th>rating_count_tot</th>\n",
       "      <th>rating_count_ver</th>\n",
       "      <th>user_rating</th>\n",
       "      <th>user_rating_ver</th>\n",
       "      <th>ver</th>\n",
       "      <th>cont_rating</th>\n",
       "      <th>prime_genre</th>\n",
       "      <th>sup_devices.num</th>\n",
       "      <th>ipadSc_urls.num</th>\n",
       "      <th>lang.num</th>\n",
       "      <th>vpp_lic</th>\n",
       "    </tr>\n",
       "  </thead>\n",
       "  <tbody>\n",
       "    <tr>\n",
       "      <td>1</td>\n",
       "      <td>281656475</td>\n",
       "      <td>PAC-MAN Premium</td>\n",
       "      <td>100788224</td>\n",
       "      <td>USD</td>\n",
       "      <td>3.99</td>\n",
       "      <td>21292</td>\n",
       "      <td>26</td>\n",
       "      <td>4.0</td>\n",
       "      <td>4.5</td>\n",
       "      <td>6.3.5</td>\n",
       "      <td>4+</td>\n",
       "      <td>Games</td>\n",
       "      <td>38</td>\n",
       "      <td>5</td>\n",
       "      <td>10</td>\n",
       "      <td>1</td>\n",
       "    </tr>\n",
       "    <tr>\n",
       "      <td>2</td>\n",
       "      <td>281796108</td>\n",
       "      <td>Evernote - stay organized</td>\n",
       "      <td>158578688</td>\n",
       "      <td>USD</td>\n",
       "      <td>0.00</td>\n",
       "      <td>161065</td>\n",
       "      <td>26</td>\n",
       "      <td>4.0</td>\n",
       "      <td>3.5</td>\n",
       "      <td>8.2.2</td>\n",
       "      <td>4+</td>\n",
       "      <td>Productivity</td>\n",
       "      <td>37</td>\n",
       "      <td>5</td>\n",
       "      <td>23</td>\n",
       "      <td>1</td>\n",
       "    </tr>\n",
       "    <tr>\n",
       "      <td>3</td>\n",
       "      <td>281940292</td>\n",
       "      <td>WeatherBug - Local Weather, Radar, Maps, Alerts</td>\n",
       "      <td>100524032</td>\n",
       "      <td>USD</td>\n",
       "      <td>0.00</td>\n",
       "      <td>188583</td>\n",
       "      <td>2822</td>\n",
       "      <td>3.5</td>\n",
       "      <td>4.5</td>\n",
       "      <td>5.0.0</td>\n",
       "      <td>4+</td>\n",
       "      <td>Weather</td>\n",
       "      <td>37</td>\n",
       "      <td>5</td>\n",
       "      <td>3</td>\n",
       "      <td>1</td>\n",
       "    </tr>\n",
       "    <tr>\n",
       "      <td>4</td>\n",
       "      <td>282614216</td>\n",
       "      <td>eBay: Best App to Buy, Sell, Save! Online Shop...</td>\n",
       "      <td>128512000</td>\n",
       "      <td>USD</td>\n",
       "      <td>0.00</td>\n",
       "      <td>262241</td>\n",
       "      <td>649</td>\n",
       "      <td>4.0</td>\n",
       "      <td>4.5</td>\n",
       "      <td>5.10.0</td>\n",
       "      <td>12+</td>\n",
       "      <td>Shopping</td>\n",
       "      <td>37</td>\n",
       "      <td>5</td>\n",
       "      <td>9</td>\n",
       "      <td>1</td>\n",
       "    </tr>\n",
       "    <tr>\n",
       "      <td>5</td>\n",
       "      <td>282935706</td>\n",
       "      <td>Bible</td>\n",
       "      <td>92774400</td>\n",
       "      <td>USD</td>\n",
       "      <td>0.00</td>\n",
       "      <td>985920</td>\n",
       "      <td>5320</td>\n",
       "      <td>4.5</td>\n",
       "      <td>5.0</td>\n",
       "      <td>7.5.1</td>\n",
       "      <td>4+</td>\n",
       "      <td>Reference</td>\n",
       "      <td>37</td>\n",
       "      <td>5</td>\n",
       "      <td>45</td>\n",
       "      <td>1</td>\n",
       "    </tr>\n",
       "  </tbody>\n",
       "</table>\n",
       "</div>"
      ],
      "text/plain": [
       "          id                                         track_name  size_bytes  \\\n",
       "1  281656475                                    PAC-MAN Premium   100788224   \n",
       "2  281796108                          Evernote - stay organized   158578688   \n",
       "3  281940292    WeatherBug - Local Weather, Radar, Maps, Alerts   100524032   \n",
       "4  282614216  eBay: Best App to Buy, Sell, Save! Online Shop...   128512000   \n",
       "5  282935706                                              Bible    92774400   \n",
       "\n",
       "  currency  price  rating_count_tot  rating_count_ver  user_rating  \\\n",
       "1      USD   3.99             21292                26          4.0   \n",
       "2      USD   0.00            161065                26          4.0   \n",
       "3      USD   0.00            188583              2822          3.5   \n",
       "4      USD   0.00            262241               649          4.0   \n",
       "5      USD   0.00            985920              5320          4.5   \n",
       "\n",
       "   user_rating_ver     ver cont_rating   prime_genre  sup_devices.num  \\\n",
       "1              4.5   6.3.5          4+         Games               38   \n",
       "2              3.5   8.2.2          4+  Productivity               37   \n",
       "3              4.5   5.0.0          4+       Weather               37   \n",
       "4              4.5  5.10.0         12+      Shopping               37   \n",
       "5              5.0   7.5.1          4+     Reference               37   \n",
       "\n",
       "   ipadSc_urls.num  lang.num  vpp_lic  \n",
       "1                5        10        1  \n",
       "2                5        23        1  \n",
       "3                5         3        1  \n",
       "4                5         9        1  \n",
       "5                5        45        1  "
      ]
     },
     "execution_count": 41,
     "metadata": {},
     "output_type": "execute_result"
    }
   ],
   "source": [
    "# Загрузим данные и посмотрим на небольшую часть\n",
    "data = pd.read_csv('./AppleStore.csv', index_col=0)\n",
    "data.head()"
   ]
  },
  {
   "cell_type": "markdown",
   "metadata": {
    "id": "dxAbj4ONy3e6"
   },
   "source": [
    "Выделим фичи из датасета и поделим их на числовые и категориальные. "
   ]
  },
  {
   "cell_type": "code",
   "execution_count": 42,
   "metadata": {
    "id": "AdvU1awHy3e7"
   },
   "outputs": [],
   "source": [
    "num_cols = [\n",
    "    'size_bytes',\n",
    "    'price',\n",
    "    'rating_count_tot',\n",
    "    'rating_count_ver',\n",
    "    'sup_devices.num',\n",
    "    'ipadSc_urls.num',\n",
    "    'lang.num',\n",
    "    # Эта фича - не числовая, а порядковая, но мы все равно возьмем ее как числовую для удобства\n",
    "    'cont_rating',\n",
    "]\n",
    "\n",
    "cat_cols = [\n",
    "    'currency',\n",
    "    'prime_genre'\n",
    "]\n",
    "\n",
    "target_col = 'user_rating'\n",
    "\n",
    "cols = num_cols + cat_cols + [target_col]"
   ]
  },
  {
   "cell_type": "code",
   "execution_count": 43,
   "metadata": {
    "id": "6uCVQEzNy3fB",
    "outputId": "5efb49af-7b53-43bc-aea9-8fdbdc282d7c",
    "scrolled": false
   },
   "outputs": [
    {
     "data": {
      "text/html": [
       "<div>\n",
       "<style scoped>\n",
       "    .dataframe tbody tr th:only-of-type {\n",
       "        vertical-align: middle;\n",
       "    }\n",
       "\n",
       "    .dataframe tbody tr th {\n",
       "        vertical-align: top;\n",
       "    }\n",
       "\n",
       "    .dataframe thead th {\n",
       "        text-align: right;\n",
       "    }\n",
       "</style>\n",
       "<table border=\"1\" class=\"dataframe\">\n",
       "  <thead>\n",
       "    <tr style=\"text-align: right;\">\n",
       "      <th></th>\n",
       "      <th>size_bytes</th>\n",
       "      <th>price</th>\n",
       "      <th>rating_count_tot</th>\n",
       "      <th>rating_count_ver</th>\n",
       "      <th>sup_devices.num</th>\n",
       "      <th>ipadSc_urls.num</th>\n",
       "      <th>lang.num</th>\n",
       "      <th>cont_rating</th>\n",
       "      <th>currency</th>\n",
       "      <th>prime_genre</th>\n",
       "      <th>user_rating</th>\n",
       "    </tr>\n",
       "  </thead>\n",
       "  <tbody>\n",
       "    <tr>\n",
       "      <td>1</td>\n",
       "      <td>100788224</td>\n",
       "      <td>3.99</td>\n",
       "      <td>21292</td>\n",
       "      <td>26</td>\n",
       "      <td>38</td>\n",
       "      <td>5</td>\n",
       "      <td>10</td>\n",
       "      <td>4</td>\n",
       "      <td>USD</td>\n",
       "      <td>Games</td>\n",
       "      <td>4.0</td>\n",
       "    </tr>\n",
       "    <tr>\n",
       "      <td>2</td>\n",
       "      <td>158578688</td>\n",
       "      <td>0.00</td>\n",
       "      <td>161065</td>\n",
       "      <td>26</td>\n",
       "      <td>37</td>\n",
       "      <td>5</td>\n",
       "      <td>23</td>\n",
       "      <td>4</td>\n",
       "      <td>USD</td>\n",
       "      <td>Productivity</td>\n",
       "      <td>4.0</td>\n",
       "    </tr>\n",
       "    <tr>\n",
       "      <td>3</td>\n",
       "      <td>100524032</td>\n",
       "      <td>0.00</td>\n",
       "      <td>188583</td>\n",
       "      <td>2822</td>\n",
       "      <td>37</td>\n",
       "      <td>5</td>\n",
       "      <td>3</td>\n",
       "      <td>4</td>\n",
       "      <td>USD</td>\n",
       "      <td>Weather</td>\n",
       "      <td>3.5</td>\n",
       "    </tr>\n",
       "    <tr>\n",
       "      <td>4</td>\n",
       "      <td>128512000</td>\n",
       "      <td>0.00</td>\n",
       "      <td>262241</td>\n",
       "      <td>649</td>\n",
       "      <td>37</td>\n",
       "      <td>5</td>\n",
       "      <td>9</td>\n",
       "      <td>12</td>\n",
       "      <td>USD</td>\n",
       "      <td>Shopping</td>\n",
       "      <td>4.0</td>\n",
       "    </tr>\n",
       "    <tr>\n",
       "      <td>5</td>\n",
       "      <td>92774400</td>\n",
       "      <td>0.00</td>\n",
       "      <td>985920</td>\n",
       "      <td>5320</td>\n",
       "      <td>37</td>\n",
       "      <td>5</td>\n",
       "      <td>45</td>\n",
       "      <td>4</td>\n",
       "      <td>USD</td>\n",
       "      <td>Reference</td>\n",
       "      <td>4.5</td>\n",
       "    </tr>\n",
       "  </tbody>\n",
       "</table>\n",
       "</div>"
      ],
      "text/plain": [
       "   size_bytes  price  rating_count_tot  rating_count_ver  sup_devices.num  \\\n",
       "1   100788224   3.99             21292                26               38   \n",
       "2   158578688   0.00            161065                26               37   \n",
       "3   100524032   0.00            188583              2822               37   \n",
       "4   128512000   0.00            262241               649               37   \n",
       "5    92774400   0.00            985920              5320               37   \n",
       "\n",
       "   ipadSc_urls.num  lang.num  cont_rating currency   prime_genre  user_rating  \n",
       "1                5        10            4      USD         Games          4.0  \n",
       "2                5        23            4      USD  Productivity          4.0  \n",
       "3                5         3            4      USD       Weather          3.5  \n",
       "4                5         9           12      USD      Shopping          4.0  \n",
       "5                5        45            4      USD     Reference          4.5  "
      ]
     },
     "execution_count": 43,
     "metadata": {},
     "output_type": "execute_result"
    }
   ],
   "source": [
    "data = data[cols]\n",
    "# Возраст записан не в виде числа, исправим это, вырезав последний символ и скастовав к числу\n",
    "data['cont_rating'] = data['cont_rating'].str.slice(0, -1).astype(int)\n",
    "data.head()"
   ]
  },
  {
   "cell_type": "code",
   "execution_count": 44,
   "metadata": {
    "id": "SC7qkIi8y3fF",
    "outputId": "fec11970-0ed2-4f07-ead7-71ba2e414d31"
   },
   "outputs": [
    {
     "data": {
      "text/plain": [
       "size_bytes          0.0\n",
       "price               0.0\n",
       "rating_count_tot    0.0\n",
       "rating_count_ver    0.0\n",
       "sup_devices.num     0.0\n",
       "ipadSc_urls.num     0.0\n",
       "lang.num            0.0\n",
       "cont_rating         0.0\n",
       "currency            0.0\n",
       "prime_genre         0.0\n",
       "user_rating         0.0\n",
       "dtype: float64"
      ]
     },
     "execution_count": 44,
     "metadata": {},
     "output_type": "execute_result"
    }
   ],
   "source": [
    "# Посмотрим на пропущенные значения\n",
    "data.isna().mean()"
   ]
  },
  {
   "cell_type": "code",
   "execution_count": 45,
   "metadata": {
    "id": "3_JPQiJ_y3fJ",
    "outputId": "dae57f6d-1867-4e15-8ea5-867492a7ab44"
   },
   "outputs": [
    {
     "name": "stdout",
     "output_type": "stream",
     "text": [
      "currency DISTRIBUTION\n",
      "USD    7197\n",
      "Name: currency, dtype: int64\n",
      "\n",
      "prime_genre DISTRIBUTION\n",
      "Games                3862\n",
      "Entertainment         535\n",
      "Education             453\n",
      "Photo & Video         349\n",
      "Utilities             248\n",
      "Health & Fitness      180\n",
      "Productivity          178\n",
      "Social Networking     167\n",
      "Lifestyle             144\n",
      "Music                 138\n",
      "Shopping              122\n",
      "Sports                114\n",
      "Book                  112\n",
      "Finance               104\n",
      "Travel                 81\n",
      "News                   75\n",
      "Weather                72\n",
      "Reference              64\n",
      "Food & Drink           63\n",
      "Business               57\n",
      "Navigation             46\n",
      "Medical                23\n",
      "Catalogs               10\n",
      "Name: prime_genre, dtype: int64\n",
      "\n"
     ]
    }
   ],
   "source": [
    "# Посмотрим на распределение категориальных фичей\n",
    "for col in cat_cols:\n",
    "    print(f\"{col} DISTRIBUTION\")\n",
    "    print(data[col].value_counts())\n",
    "    print()"
   ]
  },
  {
   "cell_type": "code",
   "execution_count": 46,
   "metadata": {
    "id": "csl-6myHy3fN"
   },
   "outputs": [],
   "source": [
    "# Как мы видим, в колонке currency только одно значение, можно колонку убрать\n",
    "data = data.drop(columns=['currency'])\n",
    "cat_cols.remove('currency')"
   ]
  },
  {
   "cell_type": "code",
   "execution_count": 47,
   "metadata": {
    "id": "l2p5nTDFy3fU",
    "outputId": "5a11efcc-7697-4181-be59-2e899e641dff",
    "scrolled": false
   },
   "outputs": [
    {
     "data": {
      "image/png": "[encoded data removed]",
      "text/plain": [
       "<Figure size 1008x720 with 9 Axes>"
      ]
     },
     "metadata": {
      "needs_background": "light"
     },
     "output_type": "display_data"
    }
   ],
   "source": [
    "# Посмотрим на распредление величин\n",
    "data.hist(column=num_cols+cat_cols+[target_col], figsize=(14, 10));"
   ]
  },
  {
   "cell_type": "markdown",
   "metadata": {
    "id": "W1mNkeiUy3fZ"
   },
   "source": [
    "А теперь посмотрим на корреляции между фичами"
   ]
  },
  {
   "cell_type": "code",
   "execution_count": 48,
   "metadata": {
    "id": "pZw73JW0y3fa",
    "outputId": "a07962f1-a725-4558-d575-1cb9f4b0448e",
    "scrolled": true
   },
   "outputs": [
    {
     "data": {
      "text/html": [
       "<style  type=\"text/css\" >\n",
       "    #T_b9242640_1174_11eb_815b_00d861079440row0_col0 {\n",
       "            background-color:  #b40426;\n",
       "            color:  #f1f1f1;\n",
       "        }    #T_b9242640_1174_11eb_815b_00d861079440row0_col1 {\n",
       "            background-color:  #93b5fe;\n",
       "            color:  #000000;\n",
       "        }    #T_b9242640_1174_11eb_815b_00d861079440row0_col2 {\n",
       "            background-color:  #465ecf;\n",
       "            color:  #f1f1f1;\n",
       "        }    #T_b9242640_1174_11eb_815b_00d861079440row0_col3 {\n",
       "            background-color:  #4257c9;\n",
       "            color:  #f1f1f1;\n",
       "        }    #T_b9242640_1174_11eb_815b_00d861079440row0_col4 {\n",
       "            background-color:  #3b4cc0;\n",
       "            color:  #f1f1f1;\n",
       "        }    #T_b9242640_1174_11eb_815b_00d861079440row0_col5 {\n",
       "            background-color:  #88abfd;\n",
       "            color:  #000000;\n",
       "        }    #T_b9242640_1174_11eb_815b_00d861079440row0_col6 {\n",
       "            background-color:  #4f69d9;\n",
       "            color:  #000000;\n",
       "        }    #T_b9242640_1174_11eb_815b_00d861079440row0_col7 {\n",
       "            background-color:  #84a7fc;\n",
       "            color:  #000000;\n",
       "        }    #T_b9242640_1174_11eb_815b_00d861079440row0_col8 {\n",
       "            background-color:  #6a8bef;\n",
       "            color:  #000000;\n",
       "        }    #T_b9242640_1174_11eb_815b_00d861079440row1_col0 {\n",
       "            background-color:  #93b5fe;\n",
       "            color:  #000000;\n",
       "        }    #T_b9242640_1174_11eb_815b_00d861079440row1_col1 {\n",
       "            background-color:  #b40426;\n",
       "            color:  #f1f1f1;\n",
       "        }    #T_b9242640_1174_11eb_815b_00d861079440row1_col2 {\n",
       "            background-color:  #3b4cc0;\n",
       "            color:  #f1f1f1;\n",
       "        }    #T_b9242640_1174_11eb_815b_00d861079440row1_col3 {\n",
       "            background-color:  #3b4cc0;\n",
       "            color:  #f1f1f1;\n",
       "        }    #T_b9242640_1174_11eb_815b_00d861079440row1_col4 {\n",
       "            background-color:  #3b4cc0;\n",
       "            color:  #f1f1f1;\n",
       "        }    #T_b9242640_1174_11eb_815b_00d861079440row1_col5 {\n",
       "            background-color:  #6c8ff1;\n",
       "            color:  #000000;\n",
       "        }    #T_b9242640_1174_11eb_815b_00d861079440row1_col6 {\n",
       "            background-color:  #4c66d6;\n",
       "            color:  #000000;\n",
       "        }    #T_b9242640_1174_11eb_815b_00d861079440row1_col7 {\n",
       "            background-color:  #506bda;\n",
       "            color:  #000000;\n",
       "        }    #T_b9242640_1174_11eb_815b_00d861079440row1_col8 {\n",
       "            background-color:  #6384eb;\n",
       "            color:  #000000;\n",
       "        }    #T_b9242640_1174_11eb_815b_00d861079440row2_col0 {\n",
       "            background-color:  #5d7ce6;\n",
       "            color:  #000000;\n",
       "        }    #T_b9242640_1174_11eb_815b_00d861079440row2_col1 {\n",
       "            background-color:  #4f69d9;\n",
       "            color:  #000000;\n",
       "        }    #T_b9242640_1174_11eb_815b_00d861079440row2_col2 {\n",
       "            background-color:  #b40426;\n",
       "            color:  #f1f1f1;\n",
       "        }    #T_b9242640_1174_11eb_815b_00d861079440row2_col3 {\n",
       "            background-color:  #7396f5;\n",
       "            color:  #000000;\n",
       "        }    #T_b9242640_1174_11eb_815b_00d861079440row2_col4 {\n",
       "            background-color:  #5e7de7;\n",
       "            color:  #000000;\n",
       "        }    #T_b9242640_1174_11eb_815b_00d861079440row2_col5 {\n",
       "            background-color:  #5d7ce6;\n",
       "            color:  #000000;\n",
       "        }    #T_b9242640_1174_11eb_815b_00d861079440row2_col6 {\n",
       "            background-color:  #799cf8;\n",
       "            color:  #000000;\n",
       "        }    #T_b9242640_1174_11eb_815b_00d861079440row2_col7 {\n",
       "            background-color:  #5b7ae5;\n",
       "            color:  #000000;\n",
       "        }    #T_b9242640_1174_11eb_815b_00d861079440row2_col8 {\n",
       "            background-color:  #6f92f3;\n",
       "            color:  #000000;\n",
       "        }    #T_b9242640_1174_11eb_815b_00d861079440row3_col0 {\n",
       "            background-color:  #5d7ce6;\n",
       "            color:  #000000;\n",
       "        }    #T_b9242640_1174_11eb_815b_00d861079440row3_col1 {\n",
       "            background-color:  #5572df;\n",
       "            color:  #000000;\n",
       "        }    #T_b9242640_1174_11eb_815b_00d861079440row3_col2 {\n",
       "            background-color:  #799cf8;\n",
       "            color:  #000000;\n",
       "        }    #T_b9242640_1174_11eb_815b_00d861079440row3_col3 {\n",
       "            background-color:  #b40426;\n",
       "            color:  #f1f1f1;\n",
       "        }    #T_b9242640_1174_11eb_815b_00d861079440row3_col4 {\n",
       "            background-color:  #6687ed;\n",
       "            color:  #000000;\n",
       "        }    #T_b9242640_1174_11eb_815b_00d861079440row3_col5 {\n",
       "            background-color:  #5f7fe8;\n",
       "            color:  #000000;\n",
       "        }    #T_b9242640_1174_11eb_815b_00d861079440row3_col6 {\n",
       "            background-color:  #516ddb;\n",
       "            color:  #000000;\n",
       "        }    #T_b9242640_1174_11eb_815b_00d861079440row3_col7 {\n",
       "            background-color:  #5977e3;\n",
       "            color:  #000000;\n",
       "        }    #T_b9242640_1174_11eb_815b_00d861079440row3_col8 {\n",
       "            background-color:  #6a8bef;\n",
       "            color:  #000000;\n",
       "        }    #T_b9242640_1174_11eb_815b_00d861079440row4_col0 {\n",
       "            background-color:  #3b4cc0;\n",
       "            color:  #f1f1f1;\n",
       "        }    #T_b9242640_1174_11eb_815b_00d861079440row4_col1 {\n",
       "            background-color:  #3b4cc0;\n",
       "            color:  #f1f1f1;\n",
       "        }    #T_b9242640_1174_11eb_815b_00d861079440row4_col2 {\n",
       "            background-color:  #485fd1;\n",
       "            color:  #f1f1f1;\n",
       "        }    #T_b9242640_1174_11eb_815b_00d861079440row4_col3 {\n",
       "            background-color:  #4b64d5;\n",
       "            color:  #f1f1f1;\n",
       "        }    #T_b9242640_1174_11eb_815b_00d861079440row4_col4 {\n",
       "            background-color:  #b40426;\n",
       "            color:  #f1f1f1;\n",
       "        }    #T_b9242640_1174_11eb_815b_00d861079440row4_col5 {\n",
       "            background-color:  #4e68d8;\n",
       "            color:  #000000;\n",
       "        }    #T_b9242640_1174_11eb_815b_00d861079440row4_col6 {\n",
       "            background-color:  #4257c9;\n",
       "            color:  #f1f1f1;\n",
       "        }    #T_b9242640_1174_11eb_815b_00d861079440row4_col7 {\n",
       "            background-color:  #5e7de7;\n",
       "            color:  #000000;\n",
       "        }    #T_b9242640_1174_11eb_815b_00d861079440row4_col8 {\n",
       "            background-color:  #4961d2;\n",
       "            color:  #f1f1f1;\n",
       "        }    #T_b9242640_1174_11eb_815b_00d861079440row5_col0 {\n",
       "            background-color:  #8badfd;\n",
       "            color:  #000000;\n",
       "        }    #T_b9242640_1174_11eb_815b_00d861079440row5_col1 {\n",
       "            background-color:  #6e90f2;\n",
       "            color:  #000000;\n",
       "        }    #T_b9242640_1174_11eb_815b_00d861079440row5_col2 {\n",
       "            background-color:  #4a63d3;\n",
       "            color:  #f1f1f1;\n",
       "        }    #T_b9242640_1174_11eb_815b_00d861079440row5_col3 {\n",
       "            background-color:  #465ecf;\n",
       "            color:  #f1f1f1;\n",
       "        }    #T_b9242640_1174_11eb_815b_00d861079440row5_col4 {\n",
       "            background-color:  #506bda;\n",
       "            color:  #000000;\n",
       "        }    #T_b9242640_1174_11eb_815b_00d861079440row5_col5 {\n",
       "            background-color:  #b40426;\n",
       "            color:  #f1f1f1;\n",
       "        }    #T_b9242640_1174_11eb_815b_00d861079440row5_col6 {\n",
       "            background-color:  #688aef;\n",
       "            color:  #000000;\n",
       "        }    #T_b9242640_1174_11eb_815b_00d861079440row5_col7 {\n",
       "            background-color:  #3b4cc0;\n",
       "            color:  #f1f1f1;\n",
       "        }    #T_b9242640_1174_11eb_815b_00d861079440row5_col8 {\n",
       "            background-color:  #a9c6fd;\n",
       "            color:  #000000;\n",
       "        }    #T_b9242640_1174_11eb_815b_00d861079440row6_col0 {\n",
       "            background-color:  #5d7ce6;\n",
       "            color:  #000000;\n",
       "        }    #T_b9242640_1174_11eb_815b_00d861079440row6_col1 {\n",
       "            background-color:  #5875e1;\n",
       "            color:  #000000;\n",
       "        }    #T_b9242640_1174_11eb_815b_00d861079440row6_col2 {\n",
       "            background-color:  #7093f3;\n",
       "            color:  #000000;\n",
       "        }    #T_b9242640_1174_11eb_815b_00d861079440row6_col3 {\n",
       "            background-color:  #4358cb;\n",
       "            color:  #f1f1f1;\n",
       "        }    #T_b9242640_1174_11eb_815b_00d861079440row6_col4 {\n",
       "            background-color:  #4f69d9;\n",
       "            color:  #000000;\n",
       "        }    #T_b9242640_1174_11eb_815b_00d861079440row6_col5 {\n",
       "            background-color:  #7396f5;\n",
       "            color:  #000000;\n",
       "        }    #T_b9242640_1174_11eb_815b_00d861079440row6_col6 {\n",
       "            background-color:  #b40426;\n",
       "            color:  #f1f1f1;\n",
       "        }    #T_b9242640_1174_11eb_815b_00d861079440row6_col7 {\n",
       "            background-color:  #445acc;\n",
       "            color:  #f1f1f1;\n",
       "        }    #T_b9242640_1174_11eb_815b_00d861079440row6_col8 {\n",
       "            background-color:  #8badfd;\n",
       "            color:  #000000;\n",
       "        }    #T_b9242640_1174_11eb_815b_00d861079440row7_col0 {\n",
       "            background-color:  #86a9fc;\n",
       "            color:  #000000;\n",
       "        }    #T_b9242640_1174_11eb_815b_00d861079440row7_col1 {\n",
       "            background-color:  #516ddb;\n",
       "            color:  #000000;\n",
       "        }    #T_b9242640_1174_11eb_815b_00d861079440row7_col2 {\n",
       "            background-color:  #485fd1;\n",
       "            color:  #f1f1f1;\n",
       "        }    #T_b9242640_1174_11eb_815b_00d861079440row7_col3 {\n",
       "            background-color:  #3f53c6;\n",
       "            color:  #f1f1f1;\n",
       "        }    #T_b9242640_1174_11eb_815b_00d861079440row7_col4 {\n",
       "            background-color:  #6180e9;\n",
       "            color:  #000000;\n",
       "        }    #T_b9242640_1174_11eb_815b_00d861079440row7_col5 {\n",
       "            background-color:  #3b4cc0;\n",
       "            color:  #f1f1f1;\n",
       "        }    #T_b9242640_1174_11eb_815b_00d861079440row7_col6 {\n",
       "            background-color:  #3b4cc0;\n",
       "            color:  #f1f1f1;\n",
       "        }    #T_b9242640_1174_11eb_815b_00d861079440row7_col7 {\n",
       "            background-color:  #b40426;\n",
       "            color:  #f1f1f1;\n",
       "        }    #T_b9242640_1174_11eb_815b_00d861079440row7_col8 {\n",
       "            background-color:  #3b4cc0;\n",
       "            color:  #f1f1f1;\n",
       "        }    #T_b9242640_1174_11eb_815b_00d861079440row8_col0 {\n",
       "            background-color:  #6f92f3;\n",
       "            color:  #000000;\n",
       "        }    #T_b9242640_1174_11eb_815b_00d861079440row8_col1 {\n",
       "            background-color:  #688aef;\n",
       "            color:  #000000;\n",
       "        }    #T_b9242640_1174_11eb_815b_00d861079440row8_col2 {\n",
       "            background-color:  #5f7fe8;\n",
       "            color:  #000000;\n",
       "        }    #T_b9242640_1174_11eb_815b_00d861079440row8_col3 {\n",
       "            background-color:  #5470de;\n",
       "            color:  #000000;\n",
       "        }    #T_b9242640_1174_11eb_815b_00d861079440row8_col4 {\n",
       "            background-color:  #4f69d9;\n",
       "            color:  #000000;\n",
       "        }    #T_b9242640_1174_11eb_815b_00d861079440row8_col5 {\n",
       "            background-color:  #abc8fd;\n",
       "            color:  #000000;\n",
       "        }    #T_b9242640_1174_11eb_815b_00d861079440row8_col6 {\n",
       "            background-color:  #84a7fc;\n",
       "            color:  #000000;\n",
       "        }    #T_b9242640_1174_11eb_815b_00d861079440row8_col7 {\n",
       "            background-color:  #3d50c3;\n",
       "            color:  #f1f1f1;\n",
       "        }    #T_b9242640_1174_11eb_815b_00d861079440row8_col8 {\n",
       "            background-color:  #b40426;\n",
       "            color:  #f1f1f1;\n",
       "        }</style><table id=\"T_b9242640_1174_11eb_815b_00d861079440\" ><thead>    <tr>        <th class=\"blank level0\" ></th>        <th class=\"col_heading level0 col0\" >size_bytes</th>        <th class=\"col_heading level0 col1\" >price</th>        <th class=\"col_heading level0 col2\" >rating_count_tot</th>        <th class=\"col_heading level0 col3\" >rating_count_ver</th>        <th class=\"col_heading level0 col4\" >sup_devices.num</th>        <th class=\"col_heading level0 col5\" >ipadSc_urls.num</th>        <th class=\"col_heading level0 col6\" >lang.num</th>        <th class=\"col_heading level0 col7\" >cont_rating</th>        <th class=\"col_heading level0 col8\" >user_rating</th>    </tr></thead><tbody>\n",
       "                <tr>\n",
       "                        <th id=\"T_b9242640_1174_11eb_815b_00d861079440level0_row0\" class=\"row_heading level0 row0\" >size_bytes</th>\n",
       "                        <td id=\"T_b9242640_1174_11eb_815b_00d861079440row0_col0\" class=\"data row0 col0\" >1</td>\n",
       "                        <td id=\"T_b9242640_1174_11eb_815b_00d861079440row0_col1\" class=\"data row0 col1\" >0.18</td>\n",
       "                        <td id=\"T_b9242640_1174_11eb_815b_00d861079440row0_col2\" class=\"data row0 col2\" >0.0045</td>\n",
       "                        <td id=\"T_b9242640_1174_11eb_815b_00d861079440row0_col3\" class=\"data row0 col3\" >0.0063</td>\n",
       "                        <td id=\"T_b9242640_1174_11eb_815b_00d861079440row0_col4\" class=\"data row0 col4\" >-0.12</td>\n",
       "                        <td id=\"T_b9242640_1174_11eb_815b_00d861079440row0_col5\" class=\"data row0 col5\" >0.15</td>\n",
       "                        <td id=\"T_b9242640_1174_11eb_815b_00d861079440row0_col6\" class=\"data row0 col6\" >0.0046</td>\n",
       "                        <td id=\"T_b9242640_1174_11eb_815b_00d861079440row0_col7\" class=\"data row0 col7\" >0.14</td>\n",
       "                        <td id=\"T_b9242640_1174_11eb_815b_00d861079440row0_col8\" class=\"data row0 col8\" >0.066</td>\n",
       "            </tr>\n",
       "            <tr>\n",
       "                        <th id=\"T_b9242640_1174_11eb_815b_00d861079440level0_row1\" class=\"row_heading level0 row1\" >price</th>\n",
       "                        <td id=\"T_b9242640_1174_11eb_815b_00d861079440row1_col0\" class=\"data row1 col0\" >0.18</td>\n",
       "                        <td id=\"T_b9242640_1174_11eb_815b_00d861079440row1_col1\" class=\"data row1 col1\" >1</td>\n",
       "                        <td id=\"T_b9242640_1174_11eb_815b_00d861079440row1_col2\" class=\"data row1 col2\" >-0.039</td>\n",
       "                        <td id=\"T_b9242640_1174_11eb_815b_00d861079440row1_col3\" class=\"data row1 col3\" >-0.018</td>\n",
       "                        <td id=\"T_b9242640_1174_11eb_815b_00d861079440row1_col4\" class=\"data row1 col4\" >-0.12</td>\n",
       "                        <td id=\"T_b9242640_1174_11eb_815b_00d861079440row1_col5\" class=\"data row1 col5\" >0.066</td>\n",
       "                        <td id=\"T_b9242640_1174_11eb_815b_00d861079440row1_col6\" class=\"data row1 col6\" >-0.0067</td>\n",
       "                        <td id=\"T_b9242640_1174_11eb_815b_00d861079440row1_col7\" class=\"data row1 col7\" >-0.03</td>\n",
       "                        <td id=\"T_b9242640_1174_11eb_815b_00d861079440row1_col8\" class=\"data row1 col8\" >0.047</td>\n",
       "            </tr>\n",
       "            <tr>\n",
       "                        <th id=\"T_b9242640_1174_11eb_815b_00d861079440level0_row2\" class=\"row_heading level0 row2\" >rating_count_tot</th>\n",
       "                        <td id=\"T_b9242640_1174_11eb_815b_00d861079440row2_col0\" class=\"data row2 col0\" >0.0045</td>\n",
       "                        <td id=\"T_b9242640_1174_11eb_815b_00d861079440row2_col1\" class=\"data row2 col1\" >-0.039</td>\n",
       "                        <td id=\"T_b9242640_1174_11eb_815b_00d861079440row2_col2\" class=\"data row2 col2\" >1</td>\n",
       "                        <td id=\"T_b9242640_1174_11eb_815b_00d861079440row2_col3\" class=\"data row2 col3\" >0.16</td>\n",
       "                        <td id=\"T_b9242640_1174_11eb_815b_00d861079440row2_col4\" class=\"data row2 col4\" >0.0088</td>\n",
       "                        <td id=\"T_b9242640_1174_11eb_815b_00d861079440row2_col5\" class=\"data row2 col5\" >0.016</td>\n",
       "                        <td id=\"T_b9242640_1174_11eb_815b_00d861079440row2_col6\" class=\"data row2 col6\" >0.14</td>\n",
       "                        <td id=\"T_b9242640_1174_11eb_815b_00d861079440row2_col7\" class=\"data row2 col7\" >0.0091</td>\n",
       "                        <td id=\"T_b9242640_1174_11eb_815b_00d861079440row2_col8\" class=\"data row2 col8\" >0.083</td>\n",
       "            </tr>\n",
       "            <tr>\n",
       "                        <th id=\"T_b9242640_1174_11eb_815b_00d861079440level0_row3\" class=\"row_heading level0 row3\" >rating_count_ver</th>\n",
       "                        <td id=\"T_b9242640_1174_11eb_815b_00d861079440row3_col0\" class=\"data row3 col0\" >0.0063</td>\n",
       "                        <td id=\"T_b9242640_1174_11eb_815b_00d861079440row3_col1\" class=\"data row3 col1\" >-0.018</td>\n",
       "                        <td id=\"T_b9242640_1174_11eb_815b_00d861079440row3_col2\" class=\"data row3 col2\" >0.16</td>\n",
       "                        <td id=\"T_b9242640_1174_11eb_815b_00d861079440row3_col3\" class=\"data row3 col3\" >1</td>\n",
       "                        <td id=\"T_b9242640_1174_11eb_815b_00d861079440row3_col4\" class=\"data row3 col4\" >0.038</td>\n",
       "                        <td id=\"T_b9242640_1174_11eb_815b_00d861079440row3_col5\" class=\"data row3 col5\" >0.024</td>\n",
       "                        <td id=\"T_b9242640_1174_11eb_815b_00d861079440row3_col6\" class=\"data row3 col6\" >0.013</td>\n",
       "                        <td id=\"T_b9242640_1174_11eb_815b_00d861079440row3_col7\" class=\"data row3 col7\" >0.0014</td>\n",
       "                        <td id=\"T_b9242640_1174_11eb_815b_00d861079440row3_col8\" class=\"data row3 col8\" >0.069</td>\n",
       "            </tr>\n",
       "            <tr>\n",
       "                        <th id=\"T_b9242640_1174_11eb_815b_00d861079440level0_row4\" class=\"row_heading level0 row4\" >sup_devices.num</th>\n",
       "                        <td id=\"T_b9242640_1174_11eb_815b_00d861079440row4_col0\" class=\"data row4 col0\" >-0.12</td>\n",
       "                        <td id=\"T_b9242640_1174_11eb_815b_00d861079440row4_col1\" class=\"data row4 col1\" >-0.12</td>\n",
       "                        <td id=\"T_b9242640_1174_11eb_815b_00d861079440row4_col2\" class=\"data row4 col2\" >0.0088</td>\n",
       "                        <td id=\"T_b9242640_1174_11eb_815b_00d861079440row4_col3\" class=\"data row4 col3\" >0.038</td>\n",
       "                        <td id=\"T_b9242640_1174_11eb_815b_00d861079440row4_col4\" class=\"data row4 col4\" >1</td>\n",
       "                        <td id=\"T_b9242640_1174_11eb_815b_00d861079440row4_col5\" class=\"data row4 col5\" >-0.038</td>\n",
       "                        <td id=\"T_b9242640_1174_11eb_815b_00d861079440row4_col6\" class=\"data row4 col6\" >-0.042</td>\n",
       "                        <td id=\"T_b9242640_1174_11eb_815b_00d861079440row4_col7\" class=\"data row4 col7\" >0.02</td>\n",
       "                        <td id=\"T_b9242640_1174_11eb_815b_00d861079440row4_col8\" class=\"data row4 col8\" >-0.042</td>\n",
       "            </tr>\n",
       "            <tr>\n",
       "                        <th id=\"T_b9242640_1174_11eb_815b_00d861079440level0_row5\" class=\"row_heading level0 row5\" >ipadSc_urls.num</th>\n",
       "                        <td id=\"T_b9242640_1174_11eb_815b_00d861079440row5_col0\" class=\"data row5 col0\" >0.15</td>\n",
       "                        <td id=\"T_b9242640_1174_11eb_815b_00d861079440row5_col1\" class=\"data row5 col1\" >0.066</td>\n",
       "                        <td id=\"T_b9242640_1174_11eb_815b_00d861079440row5_col2\" class=\"data row5 col2\" >0.016</td>\n",
       "                        <td id=\"T_b9242640_1174_11eb_815b_00d861079440row5_col3\" class=\"data row5 col3\" >0.024</td>\n",
       "                        <td id=\"T_b9242640_1174_11eb_815b_00d861079440row5_col4\" class=\"data row5 col4\" >-0.038</td>\n",
       "                        <td id=\"T_b9242640_1174_11eb_815b_00d861079440row5_col5\" class=\"data row5 col5\" >1</td>\n",
       "                        <td id=\"T_b9242640_1174_11eb_815b_00d861079440row5_col6\" class=\"data row5 col6\" >0.088</td>\n",
       "                        <td id=\"T_b9242640_1174_11eb_815b_00d861079440row5_col7\" class=\"data row5 col7\" >-0.11</td>\n",
       "                        <td id=\"T_b9242640_1174_11eb_815b_00d861079440row5_col8\" class=\"data row5 col8\" >0.27</td>\n",
       "            </tr>\n",
       "            <tr>\n",
       "                        <th id=\"T_b9242640_1174_11eb_815b_00d861079440level0_row6\" class=\"row_heading level0 row6\" >lang.num</th>\n",
       "                        <td id=\"T_b9242640_1174_11eb_815b_00d861079440row6_col0\" class=\"data row6 col0\" >0.0046</td>\n",
       "                        <td id=\"T_b9242640_1174_11eb_815b_00d861079440row6_col1\" class=\"data row6 col1\" >-0.0067</td>\n",
       "                        <td id=\"T_b9242640_1174_11eb_815b_00d861079440row6_col2\" class=\"data row6 col2\" >0.14</td>\n",
       "                        <td id=\"T_b9242640_1174_11eb_815b_00d861079440row6_col3\" class=\"data row6 col3\" >0.013</td>\n",
       "                        <td id=\"T_b9242640_1174_11eb_815b_00d861079440row6_col4\" class=\"data row6 col4\" >-0.042</td>\n",
       "                        <td id=\"T_b9242640_1174_11eb_815b_00d861079440row6_col5\" class=\"data row6 col5\" >0.088</td>\n",
       "                        <td id=\"T_b9242640_1174_11eb_815b_00d861079440row6_col6\" class=\"data row6 col6\" >1</td>\n",
       "                        <td id=\"T_b9242640_1174_11eb_815b_00d861079440row6_col7\" class=\"data row6 col7\" >-0.07</td>\n",
       "                        <td id=\"T_b9242640_1174_11eb_815b_00d861079440row6_col8\" class=\"data row6 col8\" >0.17</td>\n",
       "            </tr>\n",
       "            <tr>\n",
       "                        <th id=\"T_b9242640_1174_11eb_815b_00d861079440level0_row7\" class=\"row_heading level0 row7\" >cont_rating</th>\n",
       "                        <td id=\"T_b9242640_1174_11eb_815b_00d861079440row7_col0\" class=\"data row7 col0\" >0.14</td>\n",
       "                        <td id=\"T_b9242640_1174_11eb_815b_00d861079440row7_col1\" class=\"data row7 col1\" >-0.03</td>\n",
       "                        <td id=\"T_b9242640_1174_11eb_815b_00d861079440row7_col2\" class=\"data row7 col2\" >0.0091</td>\n",
       "                        <td id=\"T_b9242640_1174_11eb_815b_00d861079440row7_col3\" class=\"data row7 col3\" >0.0014</td>\n",
       "                        <td id=\"T_b9242640_1174_11eb_815b_00d861079440row7_col4\" class=\"data row7 col4\" >0.02</td>\n",
       "                        <td id=\"T_b9242640_1174_11eb_815b_00d861079440row7_col5\" class=\"data row7 col5\" >-0.11</td>\n",
       "                        <td id=\"T_b9242640_1174_11eb_815b_00d861079440row7_col6\" class=\"data row7 col6\" >-0.07</td>\n",
       "                        <td id=\"T_b9242640_1174_11eb_815b_00d861079440row7_col7\" class=\"data row7 col7\" >1</td>\n",
       "                        <td id=\"T_b9242640_1174_11eb_815b_00d861079440row7_col8\" class=\"data row7 col8\" >-0.098</td>\n",
       "            </tr>\n",
       "            <tr>\n",
       "                        <th id=\"T_b9242640_1174_11eb_815b_00d861079440level0_row8\" class=\"row_heading level0 row8\" >user_rating</th>\n",
       "                        <td id=\"T_b9242640_1174_11eb_815b_00d861079440row8_col0\" class=\"data row8 col0\" >0.066</td>\n",
       "                        <td id=\"T_b9242640_1174_11eb_815b_00d861079440row8_col1\" class=\"data row8 col1\" >0.047</td>\n",
       "                        <td id=\"T_b9242640_1174_11eb_815b_00d861079440row8_col2\" class=\"data row8 col2\" >0.083</td>\n",
       "                        <td id=\"T_b9242640_1174_11eb_815b_00d861079440row8_col3\" class=\"data row8 col3\" >0.069</td>\n",
       "                        <td id=\"T_b9242640_1174_11eb_815b_00d861079440row8_col4\" class=\"data row8 col4\" >-0.042</td>\n",
       "                        <td id=\"T_b9242640_1174_11eb_815b_00d861079440row8_col5\" class=\"data row8 col5\" >0.27</td>\n",
       "                        <td id=\"T_b9242640_1174_11eb_815b_00d861079440row8_col6\" class=\"data row8 col6\" >0.17</td>\n",
       "                        <td id=\"T_b9242640_1174_11eb_815b_00d861079440row8_col7\" class=\"data row8 col7\" >-0.098</td>\n",
       "                        <td id=\"T_b9242640_1174_11eb_815b_00d861079440row8_col8\" class=\"data row8 col8\" >1</td>\n",
       "            </tr>\n",
       "    </tbody></table>"
      ],
      "text/plain": [
       "<pandas.io.formats.style.Styler at 0x1546e30>"
      ]
     },
     "execution_count": 48,
     "metadata": {},
     "output_type": "execute_result"
    }
   ],
   "source": [
    "data.corr().style.background_gradient(cmap='coolwarm').set_precision(2)"
   ]
  },
  {
   "cell_type": "markdown",
   "metadata": {
    "id": "hz3bS5acy3fe"
   },
   "source": [
    "И двойные графики"
   ]
  },
  {
   "cell_type": "code",
   "execution_count": 49,
   "metadata": {
    "id": "4faB0k7qy3ff",
    "outputId": "b52ad7c8-2e7d-4b1a-f0ed-0e27037f34f6"
   },
   "outputs": [
    {
     "data": {
      "image/png": "[encoded data removed]",
      "text/plain": [
       "<Figure size 1080x1080 with 81 Axes>"
      ]
     },
     "metadata": {
      "needs_background": "light"
     },
     "output_type": "display_data"
    }
   ],
   "source": [
    "pd.plotting.scatter_matrix(data, c=data[target_col], figsize=(15, 15), marker='o',\n",
    "                        hist_kwds={'bins': 20}, s=10, alpha=.8);"
   ]
  },
  {
   "cell_type": "markdown",
   "metadata": {
    "id": "N4WS7V0Fy3fj"
   },
   "source": [
    "**Упражнение**: Мы только что посмотрели на данные, какой из посмотренных графиков говорит, что мы вряд ли сможем сделать хорошую модель?\n",
    "> Ответ:"
   ]
  },
  {
   "cell_type": "markdown",
   "metadata": {
    "id": "o9lpza3ey3fk"
   },
   "source": [
    "В данном случае фичей мало, поэтому мы легко смогли посмотреть на них. Обычно фичей намного больше и построить такие графики для пар фичей не получится. Тогда в первую очередь можно посмотреть на корреляцию фичей с таргетом."
   ]
  },
  {
   "cell_type": "markdown",
   "metadata": {
    "id": "pwo_y5d6y3fl"
   },
   "source": [
    "## Подготовка данных\n",
    "\n",
    "### Очистка\n",
    "\n",
    "Данные достаточно чистые, в них вряд ли есть какие-то ошибки и не получается с первого взгляда найти выбросы (outliers). Поэтому и очищать особо нечего. Но в реальной жизни, ваши данные скорее всего будут полны мусора.\n",
    "\n",
    "Чаще всего нам пришлось бы убирать выбросы, исправлять очевидные ошибки итд.\n"
   ]
  },
  {
   "cell_type": "markdown",
   "metadata": {
    "id": "A9y1zqKry3fm"
   },
   "source": [
    "### Создание фичей\n",
    "\n",
    "Чем сложнее зависимость между фичей и таргетом, тем более сложная модель потребуется, чтобы эту зависимость использовать. Почему бы просто не выбрать семейство самых гибких моделей? Проблема в том, что без большого количества данных для обучения будет происходить overfit. Это значит, что модель выучит зависимости, которые случайно появились в обучающих из-за ограниченного размера выборки. Такая модель будет хорошо работать на обучающей выборке, но будет плохо справляться с реальной задачей.\n",
    "\n",
    "Используя человеческие знания об устройстве мира, мы можем упростить такую зависимость, создав новые фичи. На самом деле, можно даже не использовать человеческие знания, а просто применить какой-нибудь алгоритм. Например, если у нас есть фичи $x_1, x_2, ..., x_n$, то мы можем добавить новые фичи вида \n",
    "$$x_{newij} = x_i x_j, i \\ne j$$\n",
    "и понадеяться, что это улучшит предсказания"
   ]
  },
  {
   "cell_type": "code",
   "execution_count": 50,
   "metadata": {
    "id": "C08zuEony3fn",
    "outputId": "8a80d48e-ec0d-43f0-866f-8c4effe952bc",
    "scrolled": false
   },
   "outputs": [
    {
     "data": {
      "text/html": [
       "<div>\n",
       "<style scoped>\n",
       "    .dataframe tbody tr th:only-of-type {\n",
       "        vertical-align: middle;\n",
       "    }\n",
       "\n",
       "    .dataframe tbody tr th {\n",
       "        vertical-align: top;\n",
       "    }\n",
       "\n",
       "    .dataframe thead th {\n",
       "        text-align: right;\n",
       "    }\n",
       "</style>\n",
       "<table border=\"1\" class=\"dataframe\">\n",
       "  <thead>\n",
       "    <tr style=\"text-align: right;\">\n",
       "      <th></th>\n",
       "      <th>size_bytes</th>\n",
       "      <th>price</th>\n",
       "      <th>rating_count_tot</th>\n",
       "      <th>rating_count_ver</th>\n",
       "      <th>sup_devices.num</th>\n",
       "      <th>ipadSc_urls.num</th>\n",
       "      <th>lang.num</th>\n",
       "      <th>cont_rating</th>\n",
       "      <th>prime_genre</th>\n",
       "      <th>user_rating</th>\n",
       "      <th>is_free</th>\n",
       "    </tr>\n",
       "  </thead>\n",
       "  <tbody>\n",
       "    <tr>\n",
       "      <td>1</td>\n",
       "      <td>100788224</td>\n",
       "      <td>3.99</td>\n",
       "      <td>21292</td>\n",
       "      <td>26</td>\n",
       "      <td>38</td>\n",
       "      <td>5</td>\n",
       "      <td>10</td>\n",
       "      <td>4</td>\n",
       "      <td>Games</td>\n",
       "      <td>4.0</td>\n",
       "      <td>False</td>\n",
       "    </tr>\n",
       "    <tr>\n",
       "      <td>2</td>\n",
       "      <td>158578688</td>\n",
       "      <td>0.00</td>\n",
       "      <td>161065</td>\n",
       "      <td>26</td>\n",
       "      <td>37</td>\n",
       "      <td>5</td>\n",
       "      <td>23</td>\n",
       "      <td>4</td>\n",
       "      <td>Productivity</td>\n",
       "      <td>4.0</td>\n",
       "      <td>True</td>\n",
       "    </tr>\n",
       "    <tr>\n",
       "      <td>3</td>\n",
       "      <td>100524032</td>\n",
       "      <td>0.00</td>\n",
       "      <td>188583</td>\n",
       "      <td>2822</td>\n",
       "      <td>37</td>\n",
       "      <td>5</td>\n",
       "      <td>3</td>\n",
       "      <td>4</td>\n",
       "      <td>Weather</td>\n",
       "      <td>3.5</td>\n",
       "      <td>True</td>\n",
       "    </tr>\n",
       "    <tr>\n",
       "      <td>4</td>\n",
       "      <td>128512000</td>\n",
       "      <td>0.00</td>\n",
       "      <td>262241</td>\n",
       "      <td>649</td>\n",
       "      <td>37</td>\n",
       "      <td>5</td>\n",
       "      <td>9</td>\n",
       "      <td>12</td>\n",
       "      <td>Shopping</td>\n",
       "      <td>4.0</td>\n",
       "      <td>True</td>\n",
       "    </tr>\n",
       "    <tr>\n",
       "      <td>5</td>\n",
       "      <td>92774400</td>\n",
       "      <td>0.00</td>\n",
       "      <td>985920</td>\n",
       "      <td>5320</td>\n",
       "      <td>37</td>\n",
       "      <td>5</td>\n",
       "      <td>45</td>\n",
       "      <td>4</td>\n",
       "      <td>Reference</td>\n",
       "      <td>4.5</td>\n",
       "      <td>True</td>\n",
       "    </tr>\n",
       "  </tbody>\n",
       "</table>\n",
       "</div>"
      ],
      "text/plain": [
       "   size_bytes  price  rating_count_tot  rating_count_ver  sup_devices.num  \\\n",
       "1   100788224   3.99             21292                26               38   \n",
       "2   158578688   0.00            161065                26               37   \n",
       "3   100524032   0.00            188583              2822               37   \n",
       "4   128512000   0.00            262241               649               37   \n",
       "5    92774400   0.00            985920              5320               37   \n",
       "\n",
       "   ipadSc_urls.num  lang.num  cont_rating   prime_genre  user_rating  is_free  \n",
       "1                5        10            4         Games          4.0    False  \n",
       "2                5        23            4  Productivity          4.0     True  \n",
       "3                5         3            4       Weather          3.5     True  \n",
       "4                5         9           12      Shopping          4.0     True  \n",
       "5                5        45            4     Reference          4.5     True  "
      ]
     },
     "execution_count": 50,
     "metadata": {},
     "output_type": "execute_result"
    }
   ],
   "source": [
    "# Добавим категориальную фичу, которая говорит, бесплатное приложение или нет\n",
    "data['is_free'] = data['price'] == 0\n",
    "cat_cols.append('is_free')\n",
    "data.head()"
   ]
  },
  {
   "cell_type": "markdown",
   "metadata": {
    "id": "gJMjpLeky3fq"
   },
   "source": [
    "### Работа с категориальными признаками\n",
    "\n",
    "\n",
    "Большинство алгоритмов не принимает категориальные фичи в чистом виде и нужно из как-то закодировать.\n",
    "\n",
    "Очень небольшое число алгоритмов МО умеет работать с категориальными признаками в чистом виде. Например, это делает библиотека для градиентного бустинга от Яндекса catboost. Внтури она применяет разные эвристики для кодирования признаков в числа."
   ]
  },
  {
   "cell_type": "markdown",
   "metadata": {
    "id": "aBUWujK4y3fr"
   },
   "source": [
    "#### One-hot-encoding\n",
    "Самый простой способ закодировать категориальные фичи - one hot encoding. Представьте, что у нас есть категориальная фича prime_genre с возможными значениями \n",
    "> ['Games', 'Entertainment', 'Education', 'Photo & Video']\n",
    "\n",
    "мы можем создать 4 новые бинарные фичи для каждого из столбцов\n",
    "\n",
    "> 'Entertaiment' -> [0, 1, 0, 0]\n",
    "\n",
    "В pandas очень удобно использовать get_dummies для one-hot-encoding"
   ]
  },
  {
   "cell_type": "code",
   "execution_count": 51,
   "metadata": {
    "id": "Zf7ueaAYy3fs",
    "outputId": "7c6af62e-4f81-4cf1-b5e4-55bf39a62a28"
   },
   "outputs": [
    {
     "data": {
      "text/html": [
       "<div>\n",
       "<style scoped>\n",
       "    .dataframe tbody tr th:only-of-type {\n",
       "        vertical-align: middle;\n",
       "    }\n",
       "\n",
       "    .dataframe tbody tr th {\n",
       "        vertical-align: top;\n",
       "    }\n",
       "\n",
       "    .dataframe thead th {\n",
       "        text-align: right;\n",
       "    }\n",
       "</style>\n",
       "<table border=\"1\" class=\"dataframe\">\n",
       "  <thead>\n",
       "    <tr style=\"text-align: right;\">\n",
       "      <th></th>\n",
       "      <th>categorical</th>\n",
       "    </tr>\n",
       "  </thead>\n",
       "  <tbody>\n",
       "    <tr>\n",
       "      <td>0</td>\n",
       "      <td>a</td>\n",
       "    </tr>\n",
       "    <tr>\n",
       "      <td>1</td>\n",
       "      <td>b</td>\n",
       "    </tr>\n",
       "    <tr>\n",
       "      <td>2</td>\n",
       "      <td>a</td>\n",
       "    </tr>\n",
       "    <tr>\n",
       "      <td>3</td>\n",
       "      <td>c</td>\n",
       "    </tr>\n",
       "  </tbody>\n",
       "</table>\n",
       "</div>"
      ],
      "text/plain": [
       "  categorical\n",
       "0           a\n",
       "1           b\n",
       "2           a\n",
       "3           c"
      ]
     },
     "execution_count": 51,
     "metadata": {},
     "output_type": "execute_result"
    }
   ],
   "source": [
    "a = pd.DataFrame.from_dict({'categorical': ['a', 'b', 'a', 'c']})\n",
    "a"
   ]
  },
  {
   "cell_type": "code",
   "execution_count": 52,
   "metadata": {
    "id": "7TZRKn-Xy3fv",
    "outputId": "72bd8f41-7f28-4316-f4bc-398dfcdde0d5"
   },
   "outputs": [
    {
     "data": {
      "text/html": [
       "<div>\n",
       "<style scoped>\n",
       "    .dataframe tbody tr th:only-of-type {\n",
       "        vertical-align: middle;\n",
       "    }\n",
       "\n",
       "    .dataframe tbody tr th {\n",
       "        vertical-align: top;\n",
       "    }\n",
       "\n",
       "    .dataframe thead th {\n",
       "        text-align: right;\n",
       "    }\n",
       "</style>\n",
       "<table border=\"1\" class=\"dataframe\">\n",
       "  <thead>\n",
       "    <tr style=\"text-align: right;\">\n",
       "      <th></th>\n",
       "      <th>categorical_a</th>\n",
       "      <th>categorical_b</th>\n",
       "      <th>categorical_c</th>\n",
       "    </tr>\n",
       "  </thead>\n",
       "  <tbody>\n",
       "    <tr>\n",
       "      <td>0</td>\n",
       "      <td>1</td>\n",
       "      <td>0</td>\n",
       "      <td>0</td>\n",
       "    </tr>\n",
       "    <tr>\n",
       "      <td>1</td>\n",
       "      <td>0</td>\n",
       "      <td>1</td>\n",
       "      <td>0</td>\n",
       "    </tr>\n",
       "    <tr>\n",
       "      <td>2</td>\n",
       "      <td>1</td>\n",
       "      <td>0</td>\n",
       "      <td>0</td>\n",
       "    </tr>\n",
       "    <tr>\n",
       "      <td>3</td>\n",
       "      <td>0</td>\n",
       "      <td>0</td>\n",
       "      <td>1</td>\n",
       "    </tr>\n",
       "  </tbody>\n",
       "</table>\n",
       "</div>"
      ],
      "text/plain": [
       "   categorical_a  categorical_b  categorical_c\n",
       "0              1              0              0\n",
       "1              0              1              0\n",
       "2              1              0              0\n",
       "3              0              0              1"
      ]
     },
     "execution_count": 52,
     "metadata": {},
     "output_type": "execute_result"
    }
   ],
   "source": [
    "pd.get_dummies(a)"
   ]
  },
  {
   "cell_type": "code",
   "execution_count": 53,
   "metadata": {
    "id": "ktXAw6G4y3fz",
    "scrolled": false
   },
   "outputs": [],
   "source": [
    "# Задание: Теперь добавьте в датафрейм колонки для всех категориальных фичей и обновите список категориальных фичей\n",
    "data = pd.get_dummies(data, columns=cat_cols)"
   ]
  },
  {
   "cell_type": "code",
   "execution_count": 54,
   "metadata": {},
   "outputs": [
    {
     "data": {
      "text/html": [
       "<div>\n",
       "<style scoped>\n",
       "    .dataframe tbody tr th:only-of-type {\n",
       "        vertical-align: middle;\n",
       "    }\n",
       "\n",
       "    .dataframe tbody tr th {\n",
       "        vertical-align: top;\n",
       "    }\n",
       "\n",
       "    .dataframe thead th {\n",
       "        text-align: right;\n",
       "    }\n",
       "</style>\n",
       "<table border=\"1\" class=\"dataframe\">\n",
       "  <thead>\n",
       "    <tr style=\"text-align: right;\">\n",
       "      <th></th>\n",
       "      <th>size_bytes</th>\n",
       "      <th>price</th>\n",
       "      <th>rating_count_tot</th>\n",
       "      <th>rating_count_ver</th>\n",
       "      <th>sup_devices.num</th>\n",
       "      <th>ipadSc_urls.num</th>\n",
       "      <th>lang.num</th>\n",
       "      <th>cont_rating</th>\n",
       "      <th>user_rating</th>\n",
       "      <th>prime_genre_Book</th>\n",
       "      <th>...</th>\n",
       "      <th>prime_genre_Productivity</th>\n",
       "      <th>prime_genre_Reference</th>\n",
       "      <th>prime_genre_Shopping</th>\n",
       "      <th>prime_genre_Social Networking</th>\n",
       "      <th>prime_genre_Sports</th>\n",
       "      <th>prime_genre_Travel</th>\n",
       "      <th>prime_genre_Utilities</th>\n",
       "      <th>prime_genre_Weather</th>\n",
       "      <th>is_free_False</th>\n",
       "      <th>is_free_True</th>\n",
       "    </tr>\n",
       "  </thead>\n",
       "  <tbody>\n",
       "    <tr>\n",
       "      <td>1</td>\n",
       "      <td>100788224</td>\n",
       "      <td>3.99</td>\n",
       "      <td>21292</td>\n",
       "      <td>26</td>\n",
       "      <td>38</td>\n",
       "      <td>5</td>\n",
       "      <td>10</td>\n",
       "      <td>4</td>\n",
       "      <td>4.0</td>\n",
       "      <td>0</td>\n",
       "      <td>...</td>\n",
       "      <td>0</td>\n",
       "      <td>0</td>\n",
       "      <td>0</td>\n",
       "      <td>0</td>\n",
       "      <td>0</td>\n",
       "      <td>0</td>\n",
       "      <td>0</td>\n",
       "      <td>0</td>\n",
       "      <td>1</td>\n",
       "      <td>0</td>\n",
       "    </tr>\n",
       "    <tr>\n",
       "      <td>2</td>\n",
       "      <td>158578688</td>\n",
       "      <td>0.00</td>\n",
       "      <td>161065</td>\n",
       "      <td>26</td>\n",
       "      <td>37</td>\n",
       "      <td>5</td>\n",
       "      <td>23</td>\n",
       "      <td>4</td>\n",
       "      <td>4.0</td>\n",
       "      <td>0</td>\n",
       "      <td>...</td>\n",
       "      <td>1</td>\n",
       "      <td>0</td>\n",
       "      <td>0</td>\n",
       "      <td>0</td>\n",
       "      <td>0</td>\n",
       "      <td>0</td>\n",
       "      <td>0</td>\n",
       "      <td>0</td>\n",
       "      <td>0</td>\n",
       "      <td>1</td>\n",
       "    </tr>\n",
       "    <tr>\n",
       "      <td>3</td>\n",
       "      <td>100524032</td>\n",
       "      <td>0.00</td>\n",
       "      <td>188583</td>\n",
       "      <td>2822</td>\n",
       "      <td>37</td>\n",
       "      <td>5</td>\n",
       "      <td>3</td>\n",
       "      <td>4</td>\n",
       "      <td>3.5</td>\n",
       "      <td>0</td>\n",
       "      <td>...</td>\n",
       "      <td>0</td>\n",
       "      <td>0</td>\n",
       "      <td>0</td>\n",
       "      <td>0</td>\n",
       "      <td>0</td>\n",
       "      <td>0</td>\n",
       "      <td>0</td>\n",
       "      <td>1</td>\n",
       "      <td>0</td>\n",
       "      <td>1</td>\n",
       "    </tr>\n",
       "    <tr>\n",
       "      <td>4</td>\n",
       "      <td>128512000</td>\n",
       "      <td>0.00</td>\n",
       "      <td>262241</td>\n",
       "      <td>649</td>\n",
       "      <td>37</td>\n",
       "      <td>5</td>\n",
       "      <td>9</td>\n",
       "      <td>12</td>\n",
       "      <td>4.0</td>\n",
       "      <td>0</td>\n",
       "      <td>...</td>\n",
       "      <td>0</td>\n",
       "      <td>0</td>\n",
       "      <td>1</td>\n",
       "      <td>0</td>\n",
       "      <td>0</td>\n",
       "      <td>0</td>\n",
       "      <td>0</td>\n",
       "      <td>0</td>\n",
       "      <td>0</td>\n",
       "      <td>1</td>\n",
       "    </tr>\n",
       "    <tr>\n",
       "      <td>5</td>\n",
       "      <td>92774400</td>\n",
       "      <td>0.00</td>\n",
       "      <td>985920</td>\n",
       "      <td>5320</td>\n",
       "      <td>37</td>\n",
       "      <td>5</td>\n",
       "      <td>45</td>\n",
       "      <td>4</td>\n",
       "      <td>4.5</td>\n",
       "      <td>0</td>\n",
       "      <td>...</td>\n",
       "      <td>0</td>\n",
       "      <td>1</td>\n",
       "      <td>0</td>\n",
       "      <td>0</td>\n",
       "      <td>0</td>\n",
       "      <td>0</td>\n",
       "      <td>0</td>\n",
       "      <td>0</td>\n",
       "      <td>0</td>\n",
       "      <td>1</td>\n",
       "    </tr>\n",
       "  </tbody>\n",
       "</table>\n",
       "<p>5 rows × 34 columns</p>\n",
       "</div>"
      ],
      "text/plain": [
       "   size_bytes  price  rating_count_tot  rating_count_ver  sup_devices.num  \\\n",
       "1   100788224   3.99             21292                26               38   \n",
       "2   158578688   0.00            161065                26               37   \n",
       "3   100524032   0.00            188583              2822               37   \n",
       "4   128512000   0.00            262241               649               37   \n",
       "5    92774400   0.00            985920              5320               37   \n",
       "\n",
       "   ipadSc_urls.num  lang.num  cont_rating  user_rating  prime_genre_Book  ...  \\\n",
       "1                5        10            4          4.0                 0  ...   \n",
       "2                5        23            4          4.0                 0  ...   \n",
       "3                5         3            4          3.5                 0  ...   \n",
       "4                5         9           12          4.0                 0  ...   \n",
       "5                5        45            4          4.5                 0  ...   \n",
       "\n",
       "   prime_genre_Productivity  prime_genre_Reference  prime_genre_Shopping  \\\n",
       "1                         0                      0                     0   \n",
       "2                         1                      0                     0   \n",
       "3                         0                      0                     0   \n",
       "4                         0                      0                     1   \n",
       "5                         0                      1                     0   \n",
       "\n",
       "   prime_genre_Social Networking  prime_genre_Sports  prime_genre_Travel  \\\n",
       "1                              0                   0                   0   \n",
       "2                              0                   0                   0   \n",
       "3                              0                   0                   0   \n",
       "4                              0                   0                   0   \n",
       "5                              0                   0                   0   \n",
       "\n",
       "   prime_genre_Utilities  prime_genre_Weather  is_free_False  is_free_True  \n",
       "1                      0                    0              1             0  \n",
       "2                      0                    0              0             1  \n",
       "3                      0                    1              0             1  \n",
       "4                      0                    0              0             1  \n",
       "5                      0                    0              0             1  \n",
       "\n",
       "[5 rows x 34 columns]"
      ]
     },
     "execution_count": 54,
     "metadata": {},
     "output_type": "execute_result"
    }
   ],
   "source": [
    "data.head()"
   ]
  },
  {
   "cell_type": "code",
   "execution_count": 55,
   "metadata": {},
   "outputs": [
    {
     "data": {
      "text/plain": [
       "(7197, 34)"
      ]
     },
     "execution_count": 55,
     "metadata": {},
     "output_type": "execute_result"
    }
   ],
   "source": [
    "data.shape"
   ]
  },
  {
   "cell_type": "code",
   "execution_count": 56,
   "metadata": {
    "id": "KOwf47Sqy3f2"
   },
   "outputs": [],
   "source": [
    "cat_cols_new = []\n",
    "for col_name in cat_cols:\n",
    "    cat_cols_new.extend(filter(lambda x: x.startswith(col_name), data.columns))\n",
    "cat_cols = cat_cols_new"
   ]
  },
  {
   "cell_type": "markdown",
   "metadata": {
    "id": "5CsX8Hvcy3f5"
   },
   "source": [
    "### Масштабирование признаков\n",
    "\n",
    "Как мы говорили в лекции часто необходимо привести все признаки к одному масштабу. Для этого в sklearn есть специальный Transformer -- StandardScaler и MinMaxScaler.\n",
    "\n",
    "StandardScaler во время .fit() для каждого признака $x_i$ считает среднее $\\mu_i$ и стандартное отклонение $\\sigma_i$ на обучающем датасете. Во время .transform() к каждому признаку применяется:\n",
    "\n",
    "$$\\mathbf{x_i}^{\\text{new}} = \\frac{\\mathbf{x_i} - \\mu_i}{\\sigma_i}$$\n",
    "\n",
    "\n",
    "MinMaxScaler во время .fit() для каждого признака $x_i$ считает минимум $x_{i, \\text{min}}$ и максимум $x_{i, \\text{max}}$ на обучающем датасете. Во время .transform() к каждому признаку применяется:\n",
    "\n",
    "$$\\mathbf{x_i}^{\\text{new}} = \\frac{\\mathbf{x_i} - x_{i, \\text{min}}}{x_{i, \\text{max}} - x_{i, \\text{min}}}$$"
   ]
  },
  {
   "cell_type": "code",
   "execution_count": 57,
   "metadata": {
    "id": "ryWzn4FAy3f6"
   },
   "outputs": [],
   "source": [
    "from sklearn.preprocessing import StandardScaler\n",
    "\n",
    "pca = StandardScaler()\n",
    "pca.fit(data[num_cols + cat_cols])\n",
    "# Выход pca - numpy матрица, положим ее в новую переменную со всеми фичами\n",
    "X = pca.transform(data[num_cols + cat_cols])\n",
    "\n",
    "# Или есть более простой способ \n",
    "# X = pca.fit_transform(data[num_cols + cat_cols])"
   ]
  },
  {
   "cell_type": "code",
   "execution_count": 58,
   "metadata": {},
   "outputs": [
    {
     "data": {
      "text/plain": [
       "array([[-0.27380615,  0.38812569,  0.11090232, ..., -0.10052494,\n",
       "         1.13635756, -1.13635756],\n",
       "       [-0.11291148, -0.29596024,  1.95647669, ..., -0.10052494,\n",
       "        -0.88000471,  0.88000471],\n",
       "       [-0.27454169, -0.29596024,  2.31982667, ...,  9.94778032,\n",
       "        -0.88000471,  0.88000471],\n",
       "       ...,\n",
       "       [-0.24447871,  0.04522548, -0.17004096, ..., -0.10052494,\n",
       "         1.13635756, -1.13635756],\n",
       "       [-0.283696  , -0.29596024, -0.16911668, ..., -0.10052494,\n",
       "        -0.88000471,  0.88000471],\n",
       "       [-0.30134036, -0.29596024, -0.17019941, ..., -0.10052494,\n",
       "        -0.88000471,  0.88000471]])"
      ]
     },
     "execution_count": 58,
     "metadata": {},
     "output_type": "execute_result"
    }
   ],
   "source": [
    "X"
   ]
  },
  {
   "cell_type": "markdown",
   "metadata": {
    "id": "uk4bKe1jy3f9"
   },
   "source": [
    "## Разделение на train/test\n",
    "\n",
    "После того, как мы обучили нашу модель нам нужно как-то понять, насколько она хорошо работает. Выше мы уже говорили про переобучение на данные, с которыми сеть обучалась. Из-за такого переобучения мы не сможем посчитать адекватно узнать точность предсказаний, если проверим точность на тех же данных, на которых обучались. Чтобы с этим бороться обучающую выборку обычно делят на две части train и test. На первой мы будем обучать модель, а на второй проверять, насколько хорошо модель работает. Размер тестовой выборки в 30-40% - неплохой выбор.\n",
    "\n",
    "Иногда данных слишком мало, чтобы жертвовать ими на тестовую часть. Тогда применяется метод, который называет cross validation. Мы посмотрим на то, как он работает в секции про оценку модели.\n",
    "\n",
    "**На самом деле, мы сделали не совсем правильно, потому что разделение на train/test нужно делать до добавления новых фичей/их кодирования итд. Иначе возможны лики из test части в train часть.** Например, при нормализации и PCA мы работаем со всем массивом данных, а значит информация из test попадет и в train. Но для упрощения кода и понимания того, что происходит мы не поделили выборку заранее. Если бы мы все-таки разделили выборку заранее, то нужно использовать fit на train части, а transform уже на обеих."
   ]
  },
  {
   "cell_type": "code",
   "execution_count": 62,
   "metadata": {
    "id": "xhDN3xvTy3gF"
   },
   "outputs": [],
   "source": [
    "from sklearn.model_selection import train_test_split"
   ]
  },
  {
   "cell_type": "code",
   "execution_count": 63,
   "metadata": {
    "id": "7WZupnVWy3gJ"
   },
   "outputs": [],
   "source": [
    "# Задание: Загуглите как работает эта функция и поделите выборку на две части\n",
    "X_train, X_test, y_train, y_test = train_test_split(X, data[target_col], test_size=0.2)"
   ]
  },
  {
   "cell_type": "markdown",
   "metadata": {
    "id": "UtES1khRy3gN"
   },
   "source": [
    "Хорошо, теперь можно обучить модели"
   ]
  },
  {
   "cell_type": "markdown",
   "metadata": {
    "id": "YN04Y8SSy3gN"
   },
   "source": [
    "## Обучение\n",
    "\n",
    "Самый хороший способ - попробовать максимум разных алгоритмов, посмотреть, какой из них лучше справляется и уже по метрикам выбрать лучший (возможно, объединить предсказания с помощью стэкинга или блендинга, о которых будет на следующем занятии)."
   ]
  },
  {
   "cell_type": "code",
   "execution_count": 65,
   "metadata": {
    "id": "tU6MSLCQy3gR"
   },
   "outputs": [],
   "source": [
    "from sklearn.linear_model import LinearRegression\n",
    "from sklearn.neighbors import KNeighborsRegressor\n",
    "from sklearn.metrics import r2_score, mean_squared_error"
   ]
  },
  {
   "cell_type": "markdown",
   "metadata": {
    "id": "N4dPdfSEy3gX"
   },
   "source": [
    "Поговорим про метрики. Метрика это, так же как и функция потерь, какая-то функция, показывающая насколько хорошо работает наша модель. Например, любой лосс можно назвать метрикой. Но не любую метрику можно назвать лоссом: лосс это именно то число, которое мы уменьшаем в процессе обучения модели + для лосса всегда верно, что чем он меньше, тем лучше. Метрики нужны как раз для того, чтобы оценивать работу алгоритма с помощью числа, которое он не учился напрямую минимизировать.\n",
    "\n",
    "Для классификации наиболее простой метрикой будет являться точность или accuracy (доля совпавших предсказаний и настоящих классов). Она никогда не используется внутри лоссов, потому что нет эффективного алгоритма, который бы позволил ее обучать модели с такой функцией потерь.\n",
    "\n",
    "В данном случае у нас задача регрессии, поэтому мы используем две метрики MSE и R_squared. \n",
    "\n",
    "$$R^2 = 1 - \\frac{\\sum_{i=1}^{n} (y^i - y_{pred}^i)^2}{\\sum_{i=1}^{n} (y^i - y_{mean})^2}$$\n",
    "\n",
    "R_aquared это доля объясненной вариации. R_squared = 1, когда у нас есть идеальный предсказатель. R_squared = 0 достигает модель, которая просто выдает в качестве ответа среднее значение целевой переменной. А значения меньше 0 говорят о том, что модель хуже константного предсказателя."
   ]
  },
  {
   "cell_type": "code",
   "execution_count": 66,
   "metadata": {
    "id": "tcSu8p8Xy3gX"
   },
   "outputs": [],
   "source": [
    "def print_metrics(y_preds, y):\n",
    "    print(f'R^2: {r2_score(y_preds, y)}')\n",
    "    print(f'MSE: {mean_squared_error(y_preds, y)}')"
   ]
  },
  {
   "cell_type": "code",
   "execution_count": 67,
   "metadata": {
    "id": "oNdfnZ4jy3gb",
    "outputId": "2e8ff1d0-0536-481e-e987-fe289ba7db2a"
   },
   "outputs": [
    {
     "name": "stdout",
     "output_type": "stream",
     "text": [
      "R^2: -4.715749601665441\n",
      "MSE: 1.9534614053061947\n"
     ]
    }
   ],
   "source": [
    "# Используем обычную линейную регрессию, минимизирующую сумму квадратов ошибки\n",
    "lr = LinearRegression()\n",
    "lr.fit(X_train, y_train)\n",
    "\n",
    "print_metrics(lr.predict(X_test), y_test)"
   ]
  },
  {
   "cell_type": "code",
   "execution_count": 69,
   "metadata": {
    "id": "TRU5VWGDvx0O",
    "outputId": "2e8ff1d0-0536-481e-e987-fe289ba7db2a"
   },
   "outputs": [
    {
     "name": "stdout",
     "output_type": "stream",
     "text": [
      "R^2: -1.0804319437631769\n",
      "MSE: 1.9766736111111114\n"
     ]
    }
   ],
   "source": [
    "# Используем kNN\n",
    "knn = KNeighborsRegressor(n_neighbors=5)\n",
    "knn.fit(X_train, y_train)\n",
    "\n",
    "print_metrics(knn.predict(X_test), y_test)"
   ]
  },
  {
   "cell_type": "markdown",
   "metadata": {
    "id": "i8EbTpa3y3gr"
   },
   "source": [
    "**Задание:** поиграйтесь с гиперпараметрами и улучшите предсказания моделей."
   ]
  },
  {
   "cell_type": "markdown",
   "metadata": {
    "id": "ACDf5eMEy3gt"
   },
   "source": [
    "## Cross Validation\n",
    "\n",
    "До этого мы разбирали случай, когда выборка заранее делится на train/test, но часто данных итак не хватает и отдавать их часть на test слишком расточительно. В такой ситуации на помощью приходит кросс валидация:\n",
    "1. Выберем $k$ - количество частей, на которые разобьется наш датасет\n",
    "2. for $ i = 1..k$ \n",
    "    * Обучим модель на всех частях датасета, кроме i-ой.\n",
    "    * Посчитаем метрики или предсказания для i-ой части\n",
    "3. Саггрегируем все все предсказания или усредним метрики\n",
    "\n",
    "Таким образом мы сможем получить более объективные предсказания нашей модели, использовав весь датасет как train и как test, при этом не создав утечек данных.\n",
    "\n",
    "В sklearn существуют уже готовые классы моделей, которые за нас проводят все вышеописанные действия. Но у них есть один минус - выше мы уже писали, что лики могут произойти еще на этапе обработки данных. Избежать этого при ручной разбивке датасета легко, но в случае кросс валидации придется либо сдлеать специальный объект Pipeline, в котором будет скрыта вся обработка данных, и sklearn просто вызовет его $k$ раз, либо руками выбирать индексы объектов с помощью класса KFold и самостоятельно обрабатывать данные. Мы не будем делать ни то, ни другое, но покажем, как это может быть реализовано."
   ]
  },
  {
   "cell_type": "markdown",
   "metadata": {
    "id": "07m5iVJvy3gu"
   },
   "source": [
    "Получим из кроссвалидации метрики"
   ]
  },
  {
   "cell_type": "code",
   "execution_count": 70,
   "metadata": {
    "id": "6B-hvt0xy3gv"
   },
   "outputs": [],
   "source": [
    "from sklearn.metrics import r2_score, mean_squared_error, make_scorer\n",
    "from sklearn.model_selection import cross_validate"
   ]
  },
  {
   "cell_type": "code",
   "execution_count": 71,
   "metadata": {
    "id": "rvBUIh8Ey3g3",
    "outputId": "2e8405b6-fdb4-4909-98c4-b2470779427d"
   },
   "outputs": [
    {
     "data": {
      "text/plain": [
       "{'fit_time': array([0.04400945, 0.04277968, 0.03722262, 0.04056883, 0.04083657]),\n",
       " 'score_time': array([0.00602818, 0.00463247, 0.00757456, 0.00717545, 0.00554371]),\n",
       " 'test_r2_score': array([-0.83469435,  0.07351851,  0.11581703,  0.10941754,  0.07064177]),\n",
       " 'test_mean_squared_error': array([1.66952585, 1.47594977, 1.94023162, 2.81914595, 2.93336245])}"
      ]
     },
     "execution_count": 71,
     "metadata": {},
     "output_type": "execute_result"
    }
   ],
   "source": [
    "cross_validate(LinearRegression(), X, data[target_col], cv=5, \n",
    "               scoring={'r2_score': make_scorer(r2_score), \n",
    "                        'mean_squared_error': make_scorer(mean_squared_error)})"
   ]
  },
  {
   "cell_type": "code",
   "execution_count": 72,
   "metadata": {
    "id": "7p2M51I2y3g6",
    "outputId": "4876eed0-8147-492b-d46f-bb6786983d83",
    "scrolled": true
   },
   "outputs": [
    {
     "data": {
      "text/plain": [
       "{'fit_time': array([0.1433475 , 0.06863856, 0.09839845, 0.07541275, 0.10011172]),\n",
       " 'score_time': array([1.49172926, 2.03501225, 1.51133013, 1.61511278, 1.99598837]),\n",
       " 'test_r2_score': array([-0.59746466, -0.00837802,  0.0274914 ,  0.19082863,  0.0752518 ]),\n",
       " 'test_mean_squared_error': array([1.45365278, 1.60641667, 2.13405142, 2.5614385 , 2.91881167])}"
      ]
     },
     "execution_count": 72,
     "metadata": {},
     "output_type": "execute_result"
    }
   ],
   "source": [
    "cross_validate(KNeighborsRegressor(), X, data[target_col], cv=5, \n",
    "               scoring={'r2_score': make_scorer(r2_score, ), \n",
    "                        'mean_squared_error': make_scorer(mean_squared_error)})"
   ]
  },
  {
   "cell_type": "markdown",
   "metadata": {
    "id": "UliVq-4qy3hC"
   },
   "source": [
    "## GridSearchCV\n",
    "А еще с помощью кросс валидации можно искать гиперпараметры."
   ]
  },
  {
   "cell_type": "code",
   "execution_count": 73,
   "metadata": {
    "id": "0evesgvhy3hD"
   },
   "outputs": [],
   "source": [
    "from sklearn.model_selection import GridSearchCV"
   ]
  },
  {
   "cell_type": "code",
   "execution_count": 74,
   "metadata": {
    "id": "Q3BiK1oBy3hG",
    "outputId": "78853985-2bcd-4330-c95b-e20cb55b208e",
    "scrolled": true
   },
   "outputs": [
    {
     "name": "stdout",
     "output_type": "stream",
     "text": [
      "Fitting 5 folds for each of 8 candidates, totalling 40 fits\n",
      "[CV] n_neighbors=1 ...................................................\n"
     ]
    },
    {
     "name": "stderr",
     "output_type": "stream",
     "text": [
      "[Parallel(n_jobs=1)]: Using backend SequentialBackend with 1 concurrent workers.\n"
     ]
    },
    {
     "name": "stdout",
     "output_type": "stream",
     "text": [
      "[CV] ...................... n_neighbors=1, score=-0.489, total=   0.6s\n",
      "[CV] n_neighbors=1 ...................................................\n"
     ]
    },
    {
     "name": "stderr",
     "output_type": "stream",
     "text": [
      "[Parallel(n_jobs=1)]: Done   1 out of   1 | elapsed:    0.5s remaining:    0.0s\n"
     ]
    },
    {
     "name": "stdout",
     "output_type": "stream",
     "text": [
      "[CV] ...................... n_neighbors=1, score=-0.193, total=   0.6s\n",
      "[CV] n_neighbors=1 ...................................................\n"
     ]
    },
    {
     "name": "stderr",
     "output_type": "stream",
     "text": [
      "[Parallel(n_jobs=1)]: Done   2 out of   2 | elapsed:    1.1s remaining:    0.0s\n"
     ]
    },
    {
     "name": "stdout",
     "output_type": "stream",
     "text": [
      "[CV] ...................... n_neighbors=1, score=-0.446, total=   0.8s\n",
      "[CV] n_neighbors=1 ...................................................\n"
     ]
    },
    {
     "name": "stderr",
     "output_type": "stream",
     "text": [
      "[Parallel(n_jobs=1)]: Done   3 out of   3 | elapsed:    1.8s remaining:    0.0s\n"
     ]
    },
    {
     "name": "stdout",
     "output_type": "stream",
     "text": [
      "[CV] ...................... n_neighbors=1, score=-0.418, total=   0.6s\n",
      "[CV] n_neighbors=1 ...................................................\n"
     ]
    },
    {
     "name": "stderr",
     "output_type": "stream",
     "text": [
      "[Parallel(n_jobs=1)]: Done   4 out of   4 | elapsed:    2.4s remaining:    0.0s\n"
     ]
    },
    {
     "name": "stdout",
     "output_type": "stream",
     "text": [
      "[CV] ...................... n_neighbors=1, score=-0.271, total=   0.6s\n",
      "[CV] n_neighbors=2 ...................................................\n"
     ]
    },
    {
     "name": "stderr",
     "output_type": "stream",
     "text": [
      "[Parallel(n_jobs=1)]: Done   5 out of   5 | elapsed:    3.0s remaining:    0.0s\n"
     ]
    },
    {
     "name": "stdout",
     "output_type": "stream",
     "text": [
      "[CV] ...................... n_neighbors=2, score=-0.119, total=   0.6s\n",
      "[CV] n_neighbors=2 ...................................................\n"
     ]
    },
    {
     "name": "stderr",
     "output_type": "stream",
     "text": [
      "[Parallel(n_jobs=1)]: Done   6 out of   6 | elapsed:    3.6s remaining:    0.0s\n"
     ]
    },
    {
     "name": "stdout",
     "output_type": "stream",
     "text": [
      "[CV] ....................... n_neighbors=2, score=0.036, total=   0.6s\n",
      "[CV] n_neighbors=2 ...................................................\n"
     ]
    },
    {
     "name": "stderr",
     "output_type": "stream",
     "text": [
      "[Parallel(n_jobs=1)]: Done   7 out of   7 | elapsed:    4.2s remaining:    0.0s\n"
     ]
    },
    {
     "name": "stdout",
     "output_type": "stream",
     "text": [
      "[CV] ...................... n_neighbors=2, score=-0.071, total=   0.7s\n",
      "[CV] n_neighbors=2 ...................................................\n"
     ]
    },
    {
     "name": "stderr",
     "output_type": "stream",
     "text": [
      "[Parallel(n_jobs=1)]: Done   8 out of   8 | elapsed:    5.0s remaining:    0.0s\n"
     ]
    },
    {
     "name": "stdout",
     "output_type": "stream",
     "text": [
      "[CV] ...................... n_neighbors=2, score=-0.057, total=   0.6s\n",
      "[CV] n_neighbors=2 ...................................................\n"
     ]
    },
    {
     "name": "stderr",
     "output_type": "stream",
     "text": [
      "[Parallel(n_jobs=1)]: Done   9 out of   9 | elapsed:    5.6s remaining:    0.0s\n"
     ]
    },
    {
     "name": "stdout",
     "output_type": "stream",
     "text": [
      "[CV] ....................... n_neighbors=2, score=0.018, total=   0.6s\n",
      "[CV] n_neighbors=3 ...................................................\n",
      "[CV] ....................... n_neighbors=3, score=0.004, total=   0.6s\n",
      "[CV] n_neighbors=3 ...................................................\n",
      "[CV] ....................... n_neighbors=3, score=0.130, total=   0.5s\n",
      "[CV] n_neighbors=3 ...................................................\n",
      "[CV] ....................... n_neighbors=3, score=0.010, total=   0.7s\n",
      "[CV] n_neighbors=3 ...................................................\n",
      "[CV] ....................... n_neighbors=3, score=0.035, total=   0.6s\n",
      "[CV] n_neighbors=3 ...................................................\n",
      "[CV] ....................... n_neighbors=3, score=0.132, total=   0.6s\n",
      "[CV] n_neighbors=4 ...................................................\n",
      "[CV] ....................... n_neighbors=4, score=0.088, total=   0.6s\n",
      "[CV] n_neighbors=4 ...................................................\n",
      "[CV] ....................... n_neighbors=4, score=0.181, total=   0.6s\n",
      "[CV] n_neighbors=4 ...................................................\n",
      "[CV] ....................... n_neighbors=4, score=0.066, total=   0.8s\n",
      "[CV] n_neighbors=4 ...................................................\n",
      "[CV] ....................... n_neighbors=4, score=0.079, total=   0.7s\n",
      "[CV] n_neighbors=4 ...................................................\n",
      "[CV] ....................... n_neighbors=4, score=0.178, total=   0.7s\n",
      "[CV] n_neighbors=6 ...................................................\n",
      "[CV] ....................... n_neighbors=6, score=0.139, total=   0.6s\n",
      "[CV] n_neighbors=6 ...................................................\n",
      "[CV] ....................... n_neighbors=6, score=0.233, total=   0.7s\n",
      "[CV] n_neighbors=6 ...................................................\n",
      "[CV] ....................... n_neighbors=6, score=0.101, total=   0.8s\n",
      "[CV] n_neighbors=6 ...................................................\n",
      "[CV] ....................... n_neighbors=6, score=0.125, total=   0.7s\n",
      "[CV] n_neighbors=6 ...................................................\n",
      "[CV] ....................... n_neighbors=6, score=0.192, total=   0.6s\n",
      "[CV] n_neighbors=8 ...................................................\n",
      "[CV] ....................... n_neighbors=8, score=0.162, total=   0.6s\n",
      "[CV] n_neighbors=8 ...................................................\n",
      "[CV] ....................... n_neighbors=8, score=0.230, total=   0.7s\n",
      "[CV] n_neighbors=8 ...................................................\n",
      "[CV] ....................... n_neighbors=8, score=0.131, total=   0.7s\n",
      "[CV] n_neighbors=8 ...................................................\n",
      "[CV] ....................... n_neighbors=8, score=0.135, total=   0.6s\n",
      "[CV] n_neighbors=8 ...................................................\n",
      "[CV] ....................... n_neighbors=8, score=0.190, total=   0.6s\n",
      "[CV] n_neighbors=10 ..................................................\n",
      "[CV] ...................... n_neighbors=10, score=0.177, total=   0.6s\n",
      "[CV] n_neighbors=10 ..................................................\n",
      "[CV] ...................... n_neighbors=10, score=0.240, total=   0.6s\n",
      "[CV] n_neighbors=10 ..................................................\n",
      "[CV] ...................... n_neighbors=10, score=0.156, total=   0.7s\n",
      "[CV] n_neighbors=10 ..................................................\n",
      "[CV] ...................... n_neighbors=10, score=0.158, total=   0.6s\n",
      "[CV] n_neighbors=10 ..................................................\n",
      "[CV] ...................... n_neighbors=10, score=0.206, total=   0.7s\n",
      "[CV] n_neighbors=15 ..................................................\n",
      "[CV] ...................... n_neighbors=15, score=0.181, total=   0.7s\n",
      "[CV] n_neighbors=15 ..................................................\n",
      "[CV] ...................... n_neighbors=15, score=0.218, total=   0.8s\n",
      "[CV] n_neighbors=15 ..................................................\n",
      "[CV] ...................... n_neighbors=15, score=0.156, total=   1.0s\n",
      "[CV] n_neighbors=15 ..................................................\n",
      "[CV] ...................... n_neighbors=15, score=0.160, total=   0.8s\n",
      "[CV] n_neighbors=15 ..................................................\n",
      "[CV] ...................... n_neighbors=15, score=0.199, total=   0.7s\n"
     ]
    },
    {
     "name": "stderr",
     "output_type": "stream",
     "text": [
      "[Parallel(n_jobs=1)]: Done  40 out of  40 | elapsed:   26.5s finished\n"
     ]
    },
    {
     "data": {
      "text/plain": [
       "GridSearchCV(cv=5, error_score=make_scorer(mean_squared_error),\n",
       "             estimator=KNeighborsRegressor(algorithm='auto', leaf_size=30,\n",
       "                                           metric='minkowski',\n",
       "                                           metric_params=None, n_jobs=None,\n",
       "                                           n_neighbors=5, p=2,\n",
       "                                           weights='uniform'),\n",
       "             iid='warn', n_jobs=None,\n",
       "             param_grid=[{'n_neighbors': [1, 2, 3, 4, 6, 8, 10, 15]}],\n",
       "             pre_dispatch='2*n_jobs', refit=True, return_train_score=False,\n",
       "             scoring=None, verbose=10)"
      ]
     },
     "execution_count": 74,
     "metadata": {},
     "output_type": "execute_result"
    }
   ],
   "source": [
    "gbr_grid_search = GridSearchCV(KNeighborsRegressor(), \n",
    "                               [{'n_neighbors': [1, 2, 3, 4, 6, 8, 10, 15]}],\n",
    "                               cv=5,\n",
    "                               error_score=make_scorer(mean_squared_error),\n",
    "                               verbose=10)\n",
    "gbr_grid_search.fit(X_train, y_train)"
   ]
  },
  {
   "cell_type": "code",
   "execution_count": 75,
   "metadata": {
    "id": "tTR0-nRBy3hJ",
    "outputId": "a1fd4807-5db3-405d-9965-f7aabca4ddc3"
   },
   "outputs": [
    {
     "name": "stdout",
     "output_type": "stream",
     "text": [
      "{'n_neighbors': 10}\n",
      "0.18741805731828182\n",
      "KNeighborsRegressor(algorithm='auto', leaf_size=30, metric='minkowski',\n",
      "                    metric_params=None, n_jobs=None, n_neighbors=10, p=2,\n",
      "                    weights='uniform')\n"
     ]
    }
   ],
   "source": [
    "print(gbr_grid_search.best_params_)\n",
    "print(gbr_grid_search.best_score_)\n",
    "print(gbr_grid_search.best_estimator_)"
   ]
  },
  {
   "cell_type": "markdown",
   "metadata": {
    "id": "1WiYVhlBy3hK"
   },
   "source": [
    "## Vanilla KFold\n",
    "\n",
    "**Задание**: Разберитесь как работает KFold по документации sklearn."
   ]
  },
  {
   "cell_type": "code",
   "execution_count": null,
   "metadata": {
    "id": "i_xmIjK3y3hM"
   },
   "outputs": [],
   "source": [
    "from sklearn.model_selection import KFold"
   ]
  },
  {
   "cell_type": "code",
   "execution_count": null,
   "metadata": {
    "id": "nRP4huETy3hP"
   },
   "outputs": [],
   "source": [
    "kf = KFold(n_splits=5)"
   ]
  },
  {
   "cell_type": "code",
   "execution_count": null,
   "metadata": {
    "id": "V5S6qzsoy3hR"
   },
   "outputs": [],
   "source": [
    "model = KNeighborsRegressor()"
   ]
  },
  {
   "cell_type": "code",
   "execution_count": null,
   "metadata": {
    "id": "KrdwS84Ey3hV"
   },
   "outputs": [],
   "source": [
    "metrics = []\n",
    "for train_ind, test_ind in kf.split(X_train):\n",
    "    model.fit(X_train[train_ind], y_train.values[train_ind])\n",
    "    pred = model.predict(X_train[test_ind])\n",
    "    metrics.append(mean_squared_error(y_train.values[test_ind], pred))"
   ]
  },
  {
   "cell_type": "code",
   "execution_count": null,
   "metadata": {
    "id": "RdB5qMsRy3hZ",
    "outputId": "af3b26c2-5787-4c68-83ca-b2abc1e47c50"
   },
   "outputs": [
    {
     "data": {
      "text/plain": [
       "[2.039826388888889,\n",
       " 1.9344965277777777,\n",
       " 2.1757688966116424,\n",
       " 2.055751520417029,\n",
       " 2.1414856646394442]"
      ]
     },
     "execution_count": 33,
     "metadata": {
      "tags": []
     },
     "output_type": "execute_result"
    }
   ],
   "source": [
    "metrics"
   ]
  },
  {
   "cell_type": "code",
   "execution_count": null,
   "metadata": {
    "id": "kTH4TSYDy3hb"
   },
   "outputs": [],
   "source": []
  },
  {
   "cell_type": "code",
   "execution_count": null,
   "metadata": {
    "id": "VmDT1C_nvx2d"
   },
   "outputs": [],
   "source": []
  },
  {
   "cell_type": "code",
   "execution_count": null,
   "metadata": {
    "id": "xVC2V5Dbvx2p"
   },
   "outputs": [],
   "source": []
  }
 ],
 "metadata": {
  "colab": {
   "collapsed_sections": [],
   "name": "Копия [seminar,adv]ml_basics.ipynb",
   "provenance": []
  },
  "hide_input": false,
  "kernelspec": {
   "display_name": "Python 3",
   "language": "python",
   "name": "python3"
  },
  "language_info": {
   "codemirror_mode": {
    "name": "ipython",
    "version": 3
   },
   "file_extension": ".py",
   "mimetype": "text/x-python",
   "name": "python",
   "nbconvert_exporter": "python",
   "pygments_lexer": "ipython3",
   "version": "3.7.4"
  },
  "varInspector": {
   "cols": {
    "lenName": 16,
    "lenType": 16,
    "lenVar": 40
   },
   "kernels_config": {
    "python": {
     "delete_cmd_postfix": "",
     "delete_cmd_prefix": "del ",
     "library": "var_list.py",
     "varRefreshCmd": "print(var_dic_list())"
    },
    "r": {
     "delete_cmd_postfix": ") ",
     "delete_cmd_prefix": "rm(",
     "library": "var_list.r",
     "varRefreshCmd": "cat(var_dic_list()) "
    }
   },
   "types_to_exclude": [
    "module",
    "function",
    "builtin_function_or_method",
    "instance",
    "_Feature"
   ],
   "window_display": false
  }
 },
 "nbformat": 4,
 "nbformat_minor": 1
}
