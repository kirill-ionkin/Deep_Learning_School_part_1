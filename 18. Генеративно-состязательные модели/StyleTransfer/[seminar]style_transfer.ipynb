{
 "cells": [
  {
   "cell_type": "markdown",
   "metadata": {
    "id": "UKAaPqvOdXxD"
   },
   "source": [
    "Нейронный перенос стиля с Pytorch\n",
    "============================\n",
    "**Aвтор**: `Alexis Jacq <https://alexis-jacq.github.io>` <br />\n",
    "**Адаптивный перевод**: `Zueva Nadya <https://github.com/nestyme>` <br />\n",
    "Введение\n",
    "------------\n",
    "\n",
    "В этом ноутбуке объясняется и показывается, как работает алгоритм переноса стиля \n",
    "\n",
    "`Neural-Style <https://arxiv.org/abs/1508.06576>` \n",
    "\n",
    "Леона А. Гатиса, Александра С. Эккера и Маттиаса Бетге.\n",
    "\n",
    "\n",
    "**Нейронный перенос стиля** -- это алгоритм, который принимает контент-изображение (например, черепаху), стиль-изображение (например, картинку известного художника) и возвращает изображение, которое будто бы нарисовано тем художником:\n",
    "\n",
    "\n",
    "\n",
    "**Как это работает?**\n",
    "\n",
    "Всего есть три картинки: вход, стиль и контент. \n",
    "Определим два расстояния: \n",
    "- $D_S$ - оно определяет на сколько разные стили у двух произвольных картинок.\n",
    "- $D_C$ - оно определяет на сколько разнится контент у двух произвольных картинок.\n",
    "\n",
    "задача сети - минимизировать $D_S$ от входной картинки до стиля и $D_C$ от входной картиники до контента.<br />\n",
    "В качестве входа обычно берется зашумленная к\n",
    "артинка контента.\n",
    "\n",
    "\n",
    "Это все что нам понадобится:"
   ]
  },
  {
   "cell_type": "code",
   "execution_count": 1,
   "metadata": {
    "colab": {
     "base_uri": "https://localhost:8080/"
    },
    "executionInfo": {
     "elapsed": 6511,
     "status": "ok",
     "timestamp": 1609256663108,
     "user": {
      "displayName": "kirill ionkin",
      "photoUrl": "",
      "userId": "05870578380605152071"
     },
     "user_tz": -180
    },
    "id": "dBUuNcGgehLy",
    "outputId": "747f7bdb-0632-4886-ca04-a8acc5a22ee2"
   },
   "outputs": [
    {
     "name": "stdout",
     "output_type": "stream",
     "text": [
      "Requirement already satisfied: torch in /usr/local/lib/python3.6/dist-packages (1.7.0+cu101)\n",
      "Requirement already satisfied: torchvision in /usr/local/lib/python3.6/dist-packages (0.8.1+cu101)\n",
      "Requirement already satisfied: dataclasses in /usr/local/lib/python3.6/dist-packages (from torch) (0.8)\n",
      "Requirement already satisfied: future in /usr/local/lib/python3.6/dist-packages (from torch) (0.16.0)\n",
      "Requirement already satisfied: numpy in /usr/local/lib/python3.6/dist-packages (from torch) (1.19.4)\n",
      "Requirement already satisfied: typing-extensions in /usr/local/lib/python3.6/dist-packages (from torch) (3.7.4.3)\n",
      "Requirement already satisfied: pillow>=4.1.1 in /usr/local/lib/python3.6/dist-packages (from torchvision) (7.0.0)\n",
      "Requirement already satisfied: pillow in /usr/local/lib/python3.6/dist-packages (7.0.0)\n"
     ]
    }
   ],
   "source": [
    "!pip3 install torch torchvision\n",
    "!pip3 install pillow"
   ]
  },
  {
   "cell_type": "code",
   "execution_count": 1,
   "metadata": {
    "executionInfo": {
     "elapsed": 9897,
     "status": "ok",
     "timestamp": 1609256666558,
     "user": {
      "displayName": "kirill ionkin",
      "photoUrl": "",
      "userId": "05870578380605152071"
     },
     "user_tz": -180
    },
    "id": "Kej6kCnCdXxL"
   },
   "outputs": [],
   "source": [
    "%matplotlib inline\n",
    "from PIL import Image\n",
    "\n",
    "\n",
    "import torch\n",
    "import torch.nn as nn\n",
    "import torch.nn.functional as F\n",
    "import torch.optim as optim\n",
    "\n",
    "import matplotlib.pyplot as plt\n",
    "\n",
    "\n",
    "import torchvision.transforms as transforms\n",
    "import torchvision.models as models\n",
    "\n",
    "import copy"
   ]
  },
  {
   "cell_type": "code",
   "execution_count": 2,
   "metadata": {
    "colab": {
     "base_uri": "https://localhost:8080/"
    },
    "executionInfo": {
     "elapsed": 1578,
     "status": "ok",
     "timestamp": 1609256700166,
     "user": {
      "displayName": "kirill ionkin",
      "photoUrl": "",
      "userId": "05870578380605152071"
     },
     "user_tz": -180
    },
    "id": "OfHBOzUXkuAk",
    "outputId": "6fbdefca-1e58-4c69-fb1f-fb885ccef6cb"
   },
   "outputs": [
    {
     "name": "stderr",
     "output_type": "stream",
     "text": [
      "\"ls\" ­Ґ пў«пҐвбп ў­гваҐ­­Ґ© Ё«Ё ў­Ґи­Ґ©\n",
      "Є®¬ ­¤®©, ЁбЇ®«­пҐ¬®© Їа®Ја ¬¬®© Ё«Ё Ї ЄҐв­л¬ д ©«®¬.\n"
     ]
    }
   ],
   "source": [
    "!ls"
   ]
  },
  {
   "cell_type": "markdown",
   "metadata": {
    "id": "b9rv8Zs0dXxa"
   },
   "source": [
    "**Загрузка изображений**"
   ]
  },
  {
   "cell_type": "markdown",
   "metadata": {
    "id": "AFBx9ThldXxe"
   },
   "source": [
    "Нам понадобятся картинки стиля и контента, так что загрузим их.<br />\n",
    "Чтобы упростить реализацию, начнем с контента и стиля одного размера. Затем мы масштабируем их до требуемых размеров выходного изображения.\n",
    "\n",
    "Примеры изображений лежат в папке `Images` на гуглдиске\n",
    "\n",
    "Вы можете добавить туда свои собственные изображения -- главное, чтобы они были одного размера"
   ]
  },
  {
   "cell_type": "code",
   "execution_count": 3,
   "metadata": {
    "executionInfo": {
     "elapsed": 1355,
     "status": "ok",
     "timestamp": 1609256705174,
     "user": {
      "displayName": "kirill ionkin",
      "photoUrl": "",
      "userId": "05870578380605152071"
     },
     "user_tz": -180
    },
    "id": "ncG6aOckdXxk"
   },
   "outputs": [],
   "source": [
    "imsize = 128  \n",
    "\n",
    "loader = transforms.Compose([\n",
    "    transforms.Resize(imsize),  # нормируем размер изображения\n",
    "    transforms.CenterCrop(imsize),\n",
    "    transforms.ToTensor()])  # превращаем в удобный формат"
   ]
  },
  {
   "cell_type": "code",
   "execution_count": 4,
   "metadata": {
    "executionInfo": {
     "elapsed": 2736,
     "status": "ok",
     "timestamp": 1609256706888,
     "user": {
      "displayName": "kirill ionkin",
      "photoUrl": "",
      "userId": "05870578380605152071"
     },
     "user_tz": -180
    },
    "id": "WoFdO9Q_D3vm"
   },
   "outputs": [],
   "source": [
    "device = torch.device(\"cuda\" if torch.cuda.is_available() else \"cpu\")"
   ]
  },
  {
   "cell_type": "code",
   "execution_count": 5,
   "metadata": {
    "executionInfo": {
     "elapsed": 11638,
     "status": "ok",
     "timestamp": 1609256741008,
     "user": {
      "displayName": "kirill ionkin",
      "photoUrl": "",
      "userId": "05870578380605152071"
     },
     "user_tz": -180
    },
    "id": "161rb0RWdXxu"
   },
   "outputs": [
    {
     "ename": "FileNotFoundError",
     "evalue": "[Errno 2] No such file or directory: 'style1.jpg'",
     "output_type": "error",
     "traceback": [
      "\u001b[1;31m---------------------------------------------------------------------------\u001b[0m",
      "\u001b[1;31mFileNotFoundError\u001b[0m                         Traceback (most recent call last)",
      "\u001b[1;32m<ipython-input-5-61607ef5d2e8>\u001b[0m in \u001b[0;36m<module>\u001b[1;34m\u001b[0m\n\u001b[0;32m      5\u001b[0m \u001b[1;33m\u001b[0m\u001b[0m\n\u001b[0;32m      6\u001b[0m \u001b[1;33m\u001b[0m\u001b[0m\n\u001b[1;32m----> 7\u001b[1;33m \u001b[0mstyle_img\u001b[0m \u001b[1;33m=\u001b[0m \u001b[0mimage_loader\u001b[0m\u001b[1;33m(\u001b[0m\u001b[1;34m\"style1.jpg\"\u001b[0m\u001b[1;33m)\u001b[0m \u001b[1;31m# as well as here\u001b[0m\u001b[1;33m\u001b[0m\u001b[1;33m\u001b[0m\u001b[0m\n\u001b[0m\u001b[0;32m      8\u001b[0m \u001b[0mcontent_img\u001b[0m \u001b[1;33m=\u001b[0m \u001b[0mimage_loader\u001b[0m\u001b[1;33m(\u001b[0m\u001b[1;34m\"face.jpg\"\u001b[0m\u001b[1;33m)\u001b[0m\u001b[1;31m# измените путь на тот который у вас.\u001b[0m\u001b[1;33m\u001b[0m\u001b[1;33m\u001b[0m\u001b[0m\n",
      "\u001b[1;32m<ipython-input-5-61607ef5d2e8>\u001b[0m in \u001b[0;36mimage_loader\u001b[1;34m(image_name)\u001b[0m\n\u001b[0;32m      1\u001b[0m \u001b[1;32mdef\u001b[0m \u001b[0mimage_loader\u001b[0m\u001b[1;33m(\u001b[0m\u001b[0mimage_name\u001b[0m\u001b[1;33m)\u001b[0m\u001b[1;33m:\u001b[0m\u001b[1;33m\u001b[0m\u001b[1;33m\u001b[0m\u001b[0m\n\u001b[1;32m----> 2\u001b[1;33m     \u001b[0mimage\u001b[0m \u001b[1;33m=\u001b[0m \u001b[0mImage\u001b[0m\u001b[1;33m.\u001b[0m\u001b[0mopen\u001b[0m\u001b[1;33m(\u001b[0m\u001b[0mimage_name\u001b[0m\u001b[1;33m)\u001b[0m\u001b[1;33m\u001b[0m\u001b[1;33m\u001b[0m\u001b[0m\n\u001b[0m\u001b[0;32m      3\u001b[0m     \u001b[0mimage\u001b[0m \u001b[1;33m=\u001b[0m \u001b[0mloader\u001b[0m\u001b[1;33m(\u001b[0m\u001b[0mimage\u001b[0m\u001b[1;33m)\u001b[0m\u001b[1;33m.\u001b[0m\u001b[0munsqueeze\u001b[0m\u001b[1;33m(\u001b[0m\u001b[1;36m0\u001b[0m\u001b[1;33m)\u001b[0m\u001b[1;33m\u001b[0m\u001b[1;33m\u001b[0m\u001b[0m\n\u001b[0;32m      4\u001b[0m     \u001b[1;32mreturn\u001b[0m \u001b[0mimage\u001b[0m\u001b[1;33m.\u001b[0m\u001b[0mto\u001b[0m\u001b[1;33m(\u001b[0m\u001b[0mdevice\u001b[0m\u001b[1;33m,\u001b[0m \u001b[0mtorch\u001b[0m\u001b[1;33m.\u001b[0m\u001b[0mfloat\u001b[0m\u001b[1;33m)\u001b[0m\u001b[1;33m\u001b[0m\u001b[1;33m\u001b[0m\u001b[0m\n\u001b[0;32m      5\u001b[0m \u001b[1;33m\u001b[0m\u001b[0m\n",
      "\u001b[1;32mc:\\users\\kirill_ionkin\\appdata\\local\\programs\\python\\python39\\lib\\site-packages\\PIL\\Image.py\u001b[0m in \u001b[0;36mopen\u001b[1;34m(fp, mode, formats)\u001b[0m\n\u001b[0;32m   2910\u001b[0m \u001b[1;33m\u001b[0m\u001b[0m\n\u001b[0;32m   2911\u001b[0m     \u001b[1;32mif\u001b[0m \u001b[0mfilename\u001b[0m\u001b[1;33m:\u001b[0m\u001b[1;33m\u001b[0m\u001b[1;33m\u001b[0m\u001b[0m\n\u001b[1;32m-> 2912\u001b[1;33m         \u001b[0mfp\u001b[0m \u001b[1;33m=\u001b[0m \u001b[0mbuiltins\u001b[0m\u001b[1;33m.\u001b[0m\u001b[0mopen\u001b[0m\u001b[1;33m(\u001b[0m\u001b[0mfilename\u001b[0m\u001b[1;33m,\u001b[0m \u001b[1;34m\"rb\"\u001b[0m\u001b[1;33m)\u001b[0m\u001b[1;33m\u001b[0m\u001b[1;33m\u001b[0m\u001b[0m\n\u001b[0m\u001b[0;32m   2913\u001b[0m         \u001b[0mexclusive_fp\u001b[0m \u001b[1;33m=\u001b[0m \u001b[1;32mTrue\u001b[0m\u001b[1;33m\u001b[0m\u001b[1;33m\u001b[0m\u001b[0m\n\u001b[0;32m   2914\u001b[0m \u001b[1;33m\u001b[0m\u001b[0m\n",
      "\u001b[1;31mFileNotFoundError\u001b[0m: [Errno 2] No such file or directory: 'style1.jpg'"
     ]
    }
   ],
   "source": [
    "\n",
    "def image_loader(image_name):\n",
    "    image = Image.open(image_name)\n",
    "    image = loader(image).unsqueeze(0)\n",
    "    return image.to(device, torch.float)\n",
    "\n",
    "\n",
    "style_img = image_loader(\"style1.jpg\") # as well as here\n",
    "content_img = image_loader(\"face.jpg\")# измените путь на тот который у вас."
   ]
  },
  {
   "cell_type": "markdown",
   "metadata": {
    "id": "EewC5ycwdXx2"
   },
   "source": [
    "Выведем то, что было загружено"
   ]
  },
  {
   "cell_type": "code",
   "execution_count": 6,
   "metadata": {
    "colab": {
     "base_uri": "https://localhost:8080/",
     "height": 545
    },
    "executionInfo": {
     "elapsed": 3978,
     "status": "ok",
     "timestamp": 1609256741541,
     "user": {
      "displayName": "kirill ionkin",
      "photoUrl": "",
      "userId": "05870578380605152071"
     },
     "user_tz": -180
    },
    "id": "e9l8XsSEdXx5",
    "outputId": "308c1782-7467-4405-b3bf-d6610e2c6b04"
   },
   "outputs": [
    {
     "ename": "NameError",
     "evalue": "name 'style_img' is not defined",
     "output_type": "error",
     "traceback": [
      "\u001b[1;31m---------------------------------------------------------------------------\u001b[0m",
      "\u001b[1;31mNameError\u001b[0m                                 Traceback (most recent call last)",
      "\u001b[1;32m<ipython-input-6-899872761100>\u001b[0m in \u001b[0;36m<module>\u001b[1;34m\u001b[0m\n\u001b[0;32m     14\u001b[0m \u001b[1;33m\u001b[0m\u001b[0m\n\u001b[0;32m     15\u001b[0m \u001b[0mplt\u001b[0m\u001b[1;33m.\u001b[0m\u001b[0mfigure\u001b[0m\u001b[1;33m(\u001b[0m\u001b[1;33m)\u001b[0m\u001b[1;33m\u001b[0m\u001b[1;33m\u001b[0m\u001b[0m\n\u001b[1;32m---> 16\u001b[1;33m \u001b[0mimshow\u001b[0m\u001b[1;33m(\u001b[0m\u001b[0mstyle_img\u001b[0m\u001b[1;33m,\u001b[0m \u001b[0mtitle\u001b[0m\u001b[1;33m=\u001b[0m\u001b[1;34m'Style Image'\u001b[0m\u001b[1;33m)\u001b[0m\u001b[1;33m\u001b[0m\u001b[1;33m\u001b[0m\u001b[0m\n\u001b[0m\u001b[0;32m     17\u001b[0m \u001b[1;33m\u001b[0m\u001b[0m\n\u001b[0;32m     18\u001b[0m \u001b[0mplt\u001b[0m\u001b[1;33m.\u001b[0m\u001b[0mfigure\u001b[0m\u001b[1;33m(\u001b[0m\u001b[1;33m)\u001b[0m\u001b[1;33m\u001b[0m\u001b[1;33m\u001b[0m\u001b[0m\n",
      "\u001b[1;31mNameError\u001b[0m: name 'style_img' is not defined"
     ]
    },
    {
     "data": {
      "text/plain": [
       "<Figure size 432x288 with 0 Axes>"
      ]
     },
     "metadata": {},
     "output_type": "display_data"
    }
   ],
   "source": [
    "unloader = transforms.ToPILImage() # тензор в кратинку  \n",
    "\n",
    "\n",
    "def imshow(tensor, title=None):\n",
    "    image = tensor.cpu().clone()   \n",
    "    image = image.squeeze(0)      # функция для отрисовки изображения\n",
    "    image = unloader(image)\n",
    "    plt.imshow(image)\n",
    "    if title is not None:\n",
    "        plt.title(title)\n",
    "    plt.pause(0.001) \n",
    "\n",
    "# отрисовка\n",
    "\n",
    "plt.figure()\n",
    "imshow(style_img, title='Style Image')\n",
    "\n",
    "plt.figure()\n",
    "imshow(content_img, title='Content Image')"
   ]
  },
  {
   "cell_type": "markdown",
   "metadata": {
    "id": "sctlCEBIdXyG"
   },
   "source": [
    "Теперь нужно создать функции, которые будут вычислять расстояния ( $D_C$ и $D_S$). <br />\n",
    "Они будут выполенены в виде слоев, чтобы брать по ним автоградиент."
   ]
  },
  {
   "cell_type": "markdown",
   "metadata": {
    "id": "bjOwZSZEdXyJ"
   },
   "source": [
    "$D_S$ - средняя квадратичная ощибка input'а и target'а"
   ]
  },
  {
   "cell_type": "code",
   "execution_count": 11,
   "metadata": {
    "executionInfo": {
     "elapsed": 1330,
     "status": "ok",
     "timestamp": 1609256751225,
     "user": {
      "displayName": "kirill ionkin",
      "photoUrl": "",
      "userId": "05870578380605152071"
     },
     "user_tz": -180
    },
    "id": "hHaDH8n3dXyP"
   },
   "outputs": [],
   "source": [
    "class ContentLoss(nn.Module):\n",
    "\n",
    "        def __init__(self, target,):\n",
    "            super(ContentLoss, self).__init__()\n",
    "            # we 'detach' the target content from the tree used\n",
    "            # to dynamically compute the gradient: this is a stated value,\n",
    "            # not a variable. Otherwise the forward method of the criterion\n",
    "            # will throw an error.\n",
    "            self.target = target.detach()#это константа. Убираем ее из дерева вычеслений\n",
    "            self.loss = F.mse_loss(self.target, self.target )#to initialize with something\n",
    "\n",
    "        def forward(self, input):\n",
    "            self.loss = F.mse_loss(input, self.target)\n",
    "            return input"
   ]
  },
  {
   "cell_type": "markdown",
   "metadata": {
    "id": "5mYBU18HdXyZ"
   },
   "source": [
    "Матрица грама позволяет учесть не только сами значения feature map'а, но и кореляцию фич друг с другом. <br /> Это нужно для того, чтобы сделать акцент на встречаемость фич с друг другом, а не на их геометрическом положении. <br />\n",
    "Полное понимание этого момента можно получить с помощью [этого](https://arxiv.org/pdf/1508.06576.pdf)  и [этого](https://m.habr.com/company/mailru/blog/306916/)."
   ]
  },
  {
   "cell_type": "markdown",
   "metadata": {
    "id": "YdvMTJJddXye"
   },
   "source": [
    "Таким образом:\n",
    "\n",
    "$D_S$  = $\\sum$($G_{ij}$($img_1$) - $G_{ij}$($img_2$)$)^{2}$"
   ]
  },
  {
   "cell_type": "markdown",
   "metadata": {
    "id": "2_nro8m7dXyi"
   },
   "source": [
    "Сначала задаем спрособ подсчета матрицы грама: Это просто тензорное тензорное произведение вектора выхода уровня самого на себя.<br /> Однка наш выход - не вектор. В этом случае операция тоже возможна,<br /> но мы получим тензор третьего ранга. Поэтому перед перемножением выход нужно привести к форме вектора.<br />"
   ]
  },
  {
   "cell_type": "code",
   "execution_count": 12,
   "metadata": {
    "executionInfo": {
     "elapsed": 566,
     "status": "ok",
     "timestamp": 1609256752487,
     "user": {
      "displayName": "kirill ionkin",
      "photoUrl": "",
      "userId": "05870578380605152071"
     },
     "user_tz": -180
    },
    "id": "lTexbIdXdXyp"
   },
   "outputs": [],
   "source": [
    "def gram_matrix(input):\n",
    "        batch_size, f_map_num, h, w  = input.size()  # batch size(=1)\n",
    "        # b=number of feature maps\n",
    "        # (h,w)=dimensions of a feature map (N=h*w)\n",
    "\n",
    "        features = input.view(batch_size * f_map_num, h * w)  # resise F_XL into \\hat F_XL\n",
    "\n",
    "        G = torch.mm(features, features.t())  # compute the gram product\n",
    "\n",
    "        # we 'normalize' the values of the gram matrix\n",
    "        # by dividing by the number of element in each feature maps.\n",
    "        return G.div(batch_size * f_map_num * h * w)"
   ]
  },
  {
   "cell_type": "markdown",
   "metadata": {
    "id": "V_DIJ3S8dXyz"
   },
   "source": [
    "Матрица грама готова, теперь нужно лишь реализовать MSE"
   ]
  },
  {
   "cell_type": "code",
   "execution_count": 12,
   "metadata": {
    "executionInfo": {
     "elapsed": 834,
     "status": "ok",
     "timestamp": 1609256753948,
     "user": {
      "displayName": "kirill ionkin",
      "photoUrl": "",
      "userId": "05870578380605152071"
     },
     "user_tz": -180
    },
    "id": "XDwvgvOoc_Lq"
   },
   "outputs": [],
   "source": []
  },
  {
   "cell_type": "code",
   "execution_count": 13,
   "metadata": {
    "executionInfo": {
     "elapsed": 1279,
     "status": "ok",
     "timestamp": 1609256755032,
     "user": {
      "displayName": "kirill ionkin",
      "photoUrl": "",
      "userId": "05870578380605152071"
     },
     "user_tz": -180
    },
    "id": "7z80JWBmdXy5"
   },
   "outputs": [],
   "source": [
    "class StyleLoss(nn.Module):\n",
    "        def __init__(self, target_feature):\n",
    "            super(StyleLoss, self).__init__()\n",
    "            self.target = gram_matrix(target_feature).detach()\n",
    "            self.loss = F.mse_loss(self.target, self.target)# to initialize with something\n",
    "\n",
    "        def forward(self, input):\n",
    "            G = gram_matrix(input)\n",
    "            self.loss = F.mse_loss(G, self.target)\n",
    "            return input"
   ]
  },
  {
   "cell_type": "markdown",
   "metadata": {
    "id": "ObRsgLONdXzA"
   },
   "source": [
    "При тренировке VGG каждое изображение на котором она обучалась было нормировано по всем каналам (RGB). Если мы хотим изпользовать ее для нашей модели, то мы должны реализовать нормировку и для наших изображений тоже.\n"
   ]
  },
  {
   "cell_type": "code",
   "execution_count": 14,
   "metadata": {
    "executionInfo": {
     "elapsed": 760,
     "status": "ok",
     "timestamp": 1609256755640,
     "user": {
      "displayName": "kirill ionkin",
      "photoUrl": "",
      "userId": "05870578380605152071"
     },
     "user_tz": -180
    },
    "id": "WVlITINLdXzD"
   },
   "outputs": [],
   "source": [
    "cnn_normalization_mean = torch.tensor([0.485, 0.456, 0.406]).to(device)\n",
    "cnn_normalization_std = torch.tensor([0.229, 0.224, 0.225]).to(device)"
   ]
  },
  {
   "cell_type": "code",
   "execution_count": 15,
   "metadata": {
    "executionInfo": {
     "elapsed": 678,
     "status": "ok",
     "timestamp": 1609256756213,
     "user": {
      "displayName": "kirill ionkin",
      "photoUrl": "",
      "userId": "05870578380605152071"
     },
     "user_tz": -180
    },
    "id": "RGVU8rQXdXzM"
   },
   "outputs": [],
   "source": [
    "class Normalization(nn.Module):\n",
    "        def __init__(self, mean, std):\n",
    "            super(Normalization, self).__init__()\n",
    "            # .view the mean and std to make them [C x 1 x 1] so that they can\n",
    "            # directly work with image Tensor of shape [B x C x H x W].\n",
    "            # B is batch size. C is number of channels. H is height and W is width.\n",
    "            self.mean = mean.view(-1, 1, 1)\n",
    "            self.std = std.view(-1, 1, 1)\n",
    "\n",
    "        def forward(self, img):\n",
    "            # normalize img\n",
    "            return (img - self.mean) / self.std"
   ]
  },
  {
   "cell_type": "markdown",
   "metadata": {
    "id": "B9BW_I9HdXzV"
   },
   "source": [
    "Теперь соберем это все в одну функцию, которая отдаст на выходе модель и две функции потерь "
   ]
  },
  {
   "cell_type": "markdown",
   "metadata": {
    "id": "3VTU8EsldXzZ"
   },
   "source": [
    "Определим после каких уровней мы будем счиатать ошибки стиля, а после каких ошибки контента"
   ]
  },
  {
   "cell_type": "code",
   "execution_count": 16,
   "metadata": {
    "executionInfo": {
     "elapsed": 702,
     "status": "ok",
     "timestamp": 1609256757712,
     "user": {
      "displayName": "kirill ionkin",
      "photoUrl": "",
      "userId": "05870578380605152071"
     },
     "user_tz": -180
    },
    "id": "sxPtDONYdXzf"
   },
   "outputs": [],
   "source": [
    "content_layers_default = ['conv_4'] # слой для вывода content_loss\n",
    "style_layers_default = ['conv_1', 'conv_2', 'conv_3', 'conv_4', 'conv_5'] # слои для вывода соответствующего style_loss"
   ]
  },
  {
   "cell_type": "markdown",
   "metadata": {
    "id": "WtmVji8kdXzn"
   },
   "source": [
    "Определим предобученную модель"
   ]
  },
  {
   "cell_type": "code",
   "execution_count": 17,
   "metadata": {
    "colab": {
     "base_uri": "https://localhost:8080/",
     "height": 84,
     "referenced_widgets": [
      "87e27d03de394882932be3aff87602c3",
      "7d51fdbfc42147e3b32193e9f5a7ebe1",
      "9db566259dce40f4b28fc3d0d276e220",
      "8ce154820c84417eaa77c3e6d8811d5d",
      "f52d4b09135646dbb8f0a13c1a554f54",
      "a918ab17594d443c9fbc5a22d6568bf5",
      "24b454a47f7643e0be405ad985a62f6f",
      "b37931bdeda941b0a29017ec58b2003f"
     ]
    },
    "executionInfo": {
     "elapsed": 5902,
     "status": "ok",
     "timestamp": 1609256763962,
     "user": {
      "displayName": "kirill ionkin",
      "photoUrl": "",
      "userId": "05870578380605152071"
     },
     "user_tz": -180
    },
    "id": "N96-cg1ZdXzq",
    "outputId": "d97f61d6-9587-44ac-f214-bd1fd2570b1f"
   },
   "outputs": [
    {
     "name": "stderr",
     "output_type": "stream",
     "text": [
      "Downloading: \"https://download.pytorch.org/models/vgg19-dcbb9e9d.pth\" to /root/.cache/torch/hub/checkpoints/vgg19-dcbb9e9d.pth\n"
     ]
    },
    {
     "data": {
      "application/vnd.jupyter.widget-view+json": {
       "model_id": "87e27d03de394882932be3aff87602c3",
       "version_major": 2,
       "version_minor": 0
      },
      "text/plain": [
       "HBox(children=(FloatProgress(value=0.0, max=574673361.0), HTML(value='')))"
      ]
     },
     "metadata": {
      "tags": []
     },
     "output_type": "display_data"
    },
    {
     "name": "stdout",
     "output_type": "stream",
     "text": [
      "\n"
     ]
    }
   ],
   "source": [
    "cnn = models.vgg19(pretrained=True).features.to(device).eval()"
   ]
  },
  {
   "cell_type": "code",
   "execution_count": 18,
   "metadata": {
    "colab": {
     "base_uri": "https://localhost:8080/"
    },
    "executionInfo": {
     "elapsed": 5376,
     "status": "ok",
     "timestamp": 1609256763964,
     "user": {
      "displayName": "kirill ionkin",
      "photoUrl": "",
      "userId": "05870578380605152071"
     },
     "user_tz": -180
    },
    "id": "D6xEsE6jDy40",
    "outputId": "e733d4e5-3f7e-48f5-e3f4-5575b8f45f6b"
   },
   "outputs": [
    {
     "data": {
      "text/plain": [
       "['T_destination',\n",
       " '__annotations__',\n",
       " '__call__',\n",
       " '__class__',\n",
       " '__delattr__',\n",
       " '__delitem__',\n",
       " '__dict__',\n",
       " '__dir__',\n",
       " '__doc__',\n",
       " '__eq__',\n",
       " '__format__',\n",
       " '__ge__',\n",
       " '__getattr__',\n",
       " '__getattribute__',\n",
       " '__getitem__',\n",
       " '__gt__',\n",
       " '__hash__',\n",
       " '__init__',\n",
       " '__init_subclass__',\n",
       " '__iter__',\n",
       " '__le__',\n",
       " '__len__',\n",
       " '__lt__',\n",
       " '__module__',\n",
       " '__ne__',\n",
       " '__new__',\n",
       " '__reduce__',\n",
       " '__reduce_ex__',\n",
       " '__repr__',\n",
       " '__setattr__',\n",
       " '__setitem__',\n",
       " '__setstate__',\n",
       " '__sizeof__',\n",
       " '__str__',\n",
       " '__subclasshook__',\n",
       " '__weakref__',\n",
       " '_apply',\n",
       " '_backward_hooks',\n",
       " '_buffers',\n",
       " '_call_impl',\n",
       " '_forward_hooks',\n",
       " '_forward_pre_hooks',\n",
       " '_get_item_by_idx',\n",
       " '_get_name',\n",
       " '_load_from_state_dict',\n",
       " '_load_state_dict_pre_hooks',\n",
       " '_modules',\n",
       " '_named_members',\n",
       " '_non_persistent_buffers_set',\n",
       " '_parameters',\n",
       " '_register_load_state_dict_pre_hook',\n",
       " '_register_state_dict_hook',\n",
       " '_replicate_for_data_parallel',\n",
       " '_save_to_state_dict',\n",
       " '_slow_forward',\n",
       " '_state_dict_hooks',\n",
       " '_version',\n",
       " 'add_module',\n",
       " 'apply',\n",
       " 'bfloat16',\n",
       " 'buffers',\n",
       " 'children',\n",
       " 'cpu',\n",
       " 'cuda',\n",
       " 'double',\n",
       " 'dump_patches',\n",
       " 'eval',\n",
       " 'extra_repr',\n",
       " 'float',\n",
       " 'forward',\n",
       " 'half',\n",
       " 'load_state_dict',\n",
       " 'modules',\n",
       " 'named_buffers',\n",
       " 'named_children',\n",
       " 'named_modules',\n",
       " 'named_parameters',\n",
       " 'parameters',\n",
       " 'register_backward_hook',\n",
       " 'register_buffer',\n",
       " 'register_forward_hook',\n",
       " 'register_forward_pre_hook',\n",
       " 'register_parameter',\n",
       " 'requires_grad_',\n",
       " 'share_memory',\n",
       " 'state_dict',\n",
       " 'to',\n",
       " 'train',\n",
       " 'training',\n",
       " 'type',\n",
       " 'zero_grad']"
      ]
     },
     "execution_count": 18,
     "metadata": {
      "tags": []
     },
     "output_type": "execute_result"
    }
   ],
   "source": [
    "dir(cnn)"
   ]
  },
  {
   "cell_type": "code",
   "execution_count": 19,
   "metadata": {
    "colab": {
     "base_uri": "https://localhost:8080/"
    },
    "executionInfo": {
     "elapsed": 4532,
     "status": "ok",
     "timestamp": 1609256763966,
     "user": {
      "displayName": "kirill ionkin",
      "photoUrl": "",
      "userId": "05870578380605152071"
     },
     "user_tz": -180
    },
    "id": "GRL38DKuDzvu",
    "outputId": "42d6313b-e4e2-48f9-8cec-c1362552b1a1"
   },
   "outputs": [
    {
     "data": {
      "text/plain": [
       "<bound method Module.children of Sequential(\n",
       "  (0): Conv2d(3, 64, kernel_size=(3, 3), stride=(1, 1), padding=(1, 1))\n",
       "  (1): ReLU(inplace=True)\n",
       "  (2): Conv2d(64, 64, kernel_size=(3, 3), stride=(1, 1), padding=(1, 1))\n",
       "  (3): ReLU(inplace=True)\n",
       "  (4): MaxPool2d(kernel_size=2, stride=2, padding=0, dilation=1, ceil_mode=False)\n",
       "  (5): Conv2d(64, 128, kernel_size=(3, 3), stride=(1, 1), padding=(1, 1))\n",
       "  (6): ReLU(inplace=True)\n",
       "  (7): Conv2d(128, 128, kernel_size=(3, 3), stride=(1, 1), padding=(1, 1))\n",
       "  (8): ReLU(inplace=True)\n",
       "  (9): MaxPool2d(kernel_size=2, stride=2, padding=0, dilation=1, ceil_mode=False)\n",
       "  (10): Conv2d(128, 256, kernel_size=(3, 3), stride=(1, 1), padding=(1, 1))\n",
       "  (11): ReLU(inplace=True)\n",
       "  (12): Conv2d(256, 256, kernel_size=(3, 3), stride=(1, 1), padding=(1, 1))\n",
       "  (13): ReLU(inplace=True)\n",
       "  (14): Conv2d(256, 256, kernel_size=(3, 3), stride=(1, 1), padding=(1, 1))\n",
       "  (15): ReLU(inplace=True)\n",
       "  (16): Conv2d(256, 256, kernel_size=(3, 3), stride=(1, 1), padding=(1, 1))\n",
       "  (17): ReLU(inplace=True)\n",
       "  (18): MaxPool2d(kernel_size=2, stride=2, padding=0, dilation=1, ceil_mode=False)\n",
       "  (19): Conv2d(256, 512, kernel_size=(3, 3), stride=(1, 1), padding=(1, 1))\n",
       "  (20): ReLU(inplace=True)\n",
       "  (21): Conv2d(512, 512, kernel_size=(3, 3), stride=(1, 1), padding=(1, 1))\n",
       "  (22): ReLU(inplace=True)\n",
       "  (23): Conv2d(512, 512, kernel_size=(3, 3), stride=(1, 1), padding=(1, 1))\n",
       "  (24): ReLU(inplace=True)\n",
       "  (25): Conv2d(512, 512, kernel_size=(3, 3), stride=(1, 1), padding=(1, 1))\n",
       "  (26): ReLU(inplace=True)\n",
       "  (27): MaxPool2d(kernel_size=2, stride=2, padding=0, dilation=1, ceil_mode=False)\n",
       "  (28): Conv2d(512, 512, kernel_size=(3, 3), stride=(1, 1), padding=(1, 1))\n",
       "  (29): ReLU(inplace=True)\n",
       "  (30): Conv2d(512, 512, kernel_size=(3, 3), stride=(1, 1), padding=(1, 1))\n",
       "  (31): ReLU(inplace=True)\n",
       "  (32): Conv2d(512, 512, kernel_size=(3, 3), stride=(1, 1), padding=(1, 1))\n",
       "  (33): ReLU(inplace=True)\n",
       "  (34): Conv2d(512, 512, kernel_size=(3, 3), stride=(1, 1), padding=(1, 1))\n",
       "  (35): ReLU(inplace=True)\n",
       "  (36): MaxPool2d(kernel_size=2, stride=2, padding=0, dilation=1, ceil_mode=False)\n",
       ")>"
      ]
     },
     "execution_count": 19,
     "metadata": {
      "tags": []
     },
     "output_type": "execute_result"
    }
   ],
   "source": [
    "cnn.children # хочется понять что все содержит данный атрибут children так как он в дальнейшем учавствует в функции get_style_model_and_losses"
   ]
  },
  {
   "cell_type": "code",
   "execution_count": 20,
   "metadata": {
    "executionInfo": {
     "elapsed": 2507,
     "status": "ok",
     "timestamp": 1609256763968,
     "user": {
      "displayName": "kirill ionkin",
      "photoUrl": "",
      "userId": "05870578380605152071"
     },
     "user_tz": -180
    },
    "id": "eew82cBedXzw"
   },
   "outputs": [],
   "source": [
    "def get_style_model_and_losses(cnn, normalization_mean, normalization_std,\n",
    "                                   style_img, content_img,\n",
    "                                   content_layers=content_layers_default,\n",
    "                                   style_layers=style_layers_default):\n",
    "        cnn = copy.deepcopy(cnn)\n",
    "\n",
    "        # normalization module\n",
    "        normalization = Normalization(normalization_mean, normalization_std).to(device)\n",
    "\n",
    "        # just in order to have an iterable access to or list of content/syle\n",
    "        # losses\n",
    "        content_losses = []\n",
    "        style_losses = []\n",
    "\n",
    "        # assuming that cnn is a nn.Sequential, so we make a new nn.Sequential\n",
    "        # to put in modules that are supposed to be activated sequentially\n",
    "        model = nn.Sequential(normalization) # мы создаем нашу модель на основе модели vgg19, но сначала нормализуем входный данные, так как в vgg19 поступают норм. данные\n",
    "\n",
    "        i = 0  # increment every time we see a conv\n",
    "        for layer in cnn.children():\n",
    "            if isinstance(layer, nn.Conv2d):\n",
    "                i += 1\n",
    "                name = 'conv_{}'.format(i)\n",
    "            elif isinstance(layer, nn.ReLU):\n",
    "                name = 'relu_{}'.format(i)\n",
    "                # The in-place version doesn't play very nicely with the ContentLoss\n",
    "                # and StyleLoss we insert below. So we replace with out-of-place\n",
    "                # ones here.\n",
    "                #Переопределим relu уровень\n",
    "                layer = nn.ReLU(inplace=False)\n",
    "            elif isinstance(layer, nn.MaxPool2d):\n",
    "                name = 'pool_{}'.format(i)\n",
    "            elif isinstance(layer, nn.BatchNorm2d):\n",
    "                name = 'bn_{}'.format(i)\n",
    "            else:\n",
    "                raise RuntimeError('Unrecognized layer: {}'.format(layer.__class__.__name__))\n",
    "\n",
    "            model.add_module(name, layer)\n",
    "\n",
    "            if name in content_layers:\n",
    "                # add content loss:\n",
    "                target = model(content_img).detach()\n",
    "                content_loss = ContentLoss(target)\n",
    "                model.add_module(\"content_loss_{}\".format(i), content_loss)\n",
    "                content_losses.append(content_loss)\n",
    "\n",
    "            if name in style_layers:\n",
    "                # add style loss:\n",
    "                target_feature = model(style_img).detach()\n",
    "                style_loss = StyleLoss(target_feature)\n",
    "                model.add_module(\"style_loss_{}\".format(i), style_loss)\n",
    "                style_losses.append(style_loss)\n",
    "\n",
    "        # now we trim off the layers after the last content and style losses\n",
    "        #выбрасываем все уровни после последенего style loss или content loss\n",
    "        for i in range(len(model) - 1, -1, -1):\n",
    "            if isinstance(model[i], ContentLoss) or isinstance(model[i], StyleLoss):\n",
    "                break\n",
    "\n",
    "        model = model[:(i + 1)]\n",
    "\n",
    "        return model, style_losses, content_losses"
   ]
  },
  {
   "cell_type": "code",
   "execution_count": 21,
   "metadata": {
    "executionInfo": {
     "elapsed": 1962,
     "status": "ok",
     "timestamp": 1609256763970,
     "user": {
      "displayName": "kirill ionkin",
      "photoUrl": "",
      "userId": "05870578380605152071"
     },
     "user_tz": -180
    },
    "id": "S0KkriPkdXz9"
   },
   "outputs": [],
   "source": [
    "def get_input_optimizer(input_img):\n",
    "        # this line to show that input is a parameter that requires a gradient\n",
    "        #добоваляет содержимое тензора катринки в список изменяемых оптимизатором параметров\n",
    "        optimizer = optim.LBFGS([input_img.requires_grad_()]) \n",
    "        return optimizer"
   ]
  },
  {
   "cell_type": "code",
   "execution_count": 21,
   "metadata": {
    "executionInfo": {
     "elapsed": 1758,
     "status": "ok",
     "timestamp": 1609256763971,
     "user": {
      "displayName": "kirill ionkin",
      "photoUrl": "",
      "userId": "05870578380605152071"
     },
     "user_tz": -180
    },
    "id": "ywteNtULg1x6"
   },
   "outputs": [],
   "source": []
  },
  {
   "cell_type": "markdown",
   "metadata": {
    "id": "04v5D5TSdX0G"
   },
   "source": [
    "Дальше стандартный цикл обучения, но что это за closure?<br /> Это функция, которая вызывается во время каждого прохода, чтобы пересчитать loss. Без нее ничего не получется так как у нас своя функция ошибки"
   ]
  },
  {
   "cell_type": "code",
   "execution_count": 39,
   "metadata": {
    "executionInfo": {
     "elapsed": 521,
     "status": "ok",
     "timestamp": 1609256956455,
     "user": {
      "displayName": "kirill ionkin",
      "photoUrl": "",
      "userId": "05870578380605152071"
     },
     "user_tz": -180
    },
    "id": "lxQadeAcdX0J"
   },
   "outputs": [],
   "source": [
    "def run_style_transfer(cnn, normalization_mean, normalization_std,\n",
    "                        content_img, style_img, input_img, num_steps=500,\n",
    "                        style_weight=100000, content_weight=1):\n",
    "        \"\"\"Run the style transfer.\"\"\"\n",
    "        print('Building the style transfer model..')\n",
    "        model, style_losses, content_losses = get_style_model_and_losses(cnn,\n",
    "            normalization_mean, normalization_std, style_img, content_img)\n",
    "        optimizer = get_input_optimizer(input_img)\n",
    "\n",
    "        print('Optimizing..')\n",
    "        run = [0]\n",
    "        while run[0] <= num_steps:\n",
    "\n",
    "            def closure():\n",
    "                # correct the values \n",
    "                # это для того, чтобы значения тензора картинки не выходили за пределы [0;1]\n",
    "                input_img.data.clamp_(0, 1)\n",
    "\n",
    "                optimizer.zero_grad()\n",
    "\n",
    "                model(input_img)\n",
    "\n",
    "                style_score = 0\n",
    "                content_score = 0\n",
    "\n",
    "                for sl in style_losses:\n",
    "                    style_score += sl.loss\n",
    "                for cl in content_losses:\n",
    "                    content_score += cl.loss\n",
    "                \n",
    "                #взвешивание ощибки\n",
    "                style_score *= style_weight\n",
    "                content_score *= content_weight\n",
    "\n",
    "                loss = style_score + content_score\n",
    "                loss.backward()\n",
    "\n",
    "                run[0] += 1\n",
    "                if run[0] % 50 == 0:\n",
    "                    print(\"run {}:\".format(run))\n",
    "                    print('Style Loss : {:4f} Content Loss: {:4f}'.format(\n",
    "                        style_score.item(), content_score.item()))\n",
    "                    print()\n",
    "\n",
    "                return style_score + content_score\n",
    "\n",
    "            optimizer.step(closure)\n",
    "\n",
    "        # a last correction...\n",
    "        input_img.data.clamp_(0, 1)\n",
    "\n",
    "        return input_img"
   ]
  },
  {
   "cell_type": "code",
   "execution_count": 40,
   "metadata": {
    "colab": {
     "base_uri": "https://localhost:8080/",
     "height": 1000
    },
    "executionInfo": {
     "elapsed": 11766,
     "status": "ok",
     "timestamp": 1609256968178,
     "user": {
      "displayName": "kirill ionkin",
      "photoUrl": "",
      "userId": "05870578380605152071"
     },
     "user_tz": -180
    },
    "id": "Ldsnc-stdX0P",
    "outputId": "58ff1de5-4e32-4ad6-89fb-fde7ae3db60d"
   },
   "outputs": [
    {
     "data": {
      "image/png": "[encoded data removed]",
      "text/plain": [
       "<Figure size 432x288 with 1 Axes>"
      ]
     },
     "metadata": {
      "needs_background": "light",
      "tags": []
     },
     "output_type": "display_data"
    },
    {
     "name": "stdout",
     "output_type": "stream",
     "text": [
      "Building the style transfer model..\n",
      "Optimizing..\n"
     ]
    },
    {
     "name": "stderr",
     "output_type": "stream",
     "text": [
      "/usr/local/lib/python3.6/dist-packages/ipykernel_launcher.py:7: UserWarning: To copy construct from a tensor, it is recommended to use sourceTensor.clone().detach() or sourceTensor.clone().detach().requires_grad_(True), rather than torch.tensor(sourceTensor).\n",
      "  import sys\n",
      "/usr/local/lib/python3.6/dist-packages/ipykernel_launcher.py:8: UserWarning: To copy construct from a tensor, it is recommended to use sourceTensor.clone().detach() or sourceTensor.clone().detach().requires_grad_(True), rather than torch.tensor(sourceTensor).\n",
      "  \n"
     ]
    },
    {
     "name": "stdout",
     "output_type": "stream",
     "text": [
      "run [50]:\n",
      "Style Loss : 234.380341 Content Loss: 41.622917\n",
      "\n",
      "run [100]:\n",
      "Style Loss : 84.485870 Content Loss: 44.324837\n",
      "\n",
      "run [150]:\n",
      "Style Loss : 44.586697 Content Loss: 44.787270\n",
      "\n",
      "run [200]:\n",
      "Style Loss : 28.387369 Content Loss: 44.281845\n",
      "\n",
      "run [250]:\n",
      "Style Loss : 21.155365 Content Loss: 43.794769\n",
      "\n",
      "run [300]:\n",
      "Style Loss : 24.076767 Content Loss: 43.220047\n",
      "\n",
      "run [350]:\n",
      "Style Loss : 37.763554 Content Loss: 43.001827\n",
      "\n",
      "run [400]:\n",
      "Style Loss : 11.736096 Content Loss: 43.406456\n",
      "\n",
      "run [450]:\n",
      "Style Loss : 11.271742 Content Loss: 43.296829\n",
      "\n",
      "run [500]:\n",
      "Style Loss : 10.223084 Content Loss: 42.911045\n",
      "\n",
      "run [550]:\n",
      "Style Loss : 11.713882 Content Loss: 44.669289\n",
      "\n",
      "run [600]:\n",
      "Style Loss : 9.127261 Content Loss: 43.146355\n",
      "\n"
     ]
    }
   ],
   "source": [
    "input_img = content_img.clone()\n",
    "# if you want to use white noise instead uncomment the below line:\n",
    "# input_img = torch.randn(content_img.data.size(), device=device)\n",
    "\n",
    "# add the original input image to the figure:\n",
    "plt.figure()\n",
    "imshow(input_img, title='Input Image')\n",
    "output = run_style_transfer(cnn, cnn_normalization_mean, cnn_normalization_std,\n",
    "                            content_img, style_img, input_img, num_steps=600)"
   ]
  },
  {
   "cell_type": "code",
   "execution_count": 41,
   "metadata": {
    "colab": {
     "base_uri": "https://localhost:8080/",
     "height": 281
    },
    "executionInfo": {
     "elapsed": 12109,
     "status": "ok",
     "timestamp": 1609256968876,
     "user": {
      "displayName": "kirill ionkin",
      "photoUrl": "",
      "userId": "05870578380605152071"
     },
     "user_tz": -180
    },
    "id": "yZOyG0kzdX0e",
    "outputId": "c516796c-0bee-4842-e5e4-a4d39d940605"
   },
   "outputs": [
    {
     "data": {
      "image/png": "[encoded data removed]",
      "text/plain": [
       "<Figure size 432x288 with 1 Axes>"
      ]
     },
     "metadata": {
      "needs_background": "light",
      "tags": []
     },
     "output_type": "display_data"
    }
   ],
   "source": [
    "plt.figure()\n",
    "imshow(output, title='Output Image')\n",
    "#plt.imsave(output, 'output.png')\n",
    "# sphinx_gallery_thumbnail_number = 4\n",
    "plt.ioff()\n",
    "plt.show()"
   ]
  },
  {
   "cell_type": "code",
   "execution_count": 24,
   "metadata": {
    "executionInfo": {
     "elapsed": 11201,
     "status": "ok",
     "timestamp": 1609256774287,
     "user": {
      "displayName": "kirill ionkin",
      "photoUrl": "",
      "userId": "05870578380605152071"
     },
     "user_tz": -180
    },
    "id": "3tBZzDJDdX0r"
   },
   "outputs": [],
   "source": []
  }
 ],
 "metadata": {
  "accelerator": "GPU",
  "colab": {
   "collapsed_sections": [],
   "name": "[seminar]style_transfer.ipynb",
   "provenance": [],
   "toc_visible": true
  },
  "kernelspec": {
   "display_name": "Python 3",
   "language": "python",
   "name": "python3"
  },
  "language_info": {
   "codemirror_mode": {
    "name": "ipython",
    "version": 3
   },
   "file_extension": ".py",
   "mimetype": "text/x-python",
   "name": "python",
   "nbconvert_exporter": "python",
   "pygments_lexer": "ipython3",
   "version": "3.9.3"
  },
  "widgets": {
   "application/vnd.jupyter.widget-state+json": {
    "24b454a47f7643e0be405ad985a62f6f": {
     "model_module": "@jupyter-widgets/controls",
     "model_name": "DescriptionStyleModel",
     "state": {
      "_model_module": "@jupyter-widgets/controls",
      "_model_module_version": "1.5.0",
      "_model_name": "DescriptionStyleModel",
      "_view_count": null,
      "_view_module": "@jupyter-widgets/base",
      "_view_module_version": "1.2.0",
      "_view_name": "StyleView",
      "description_width": ""
     }
    },
    "7d51fdbfc42147e3b32193e9f5a7ebe1": {
     "model_module": "@jupyter-widgets/base",
     "model_name": "LayoutModel",
     "state": {
      "_model_module": "@jupyter-widgets/base",
      "_model_module_version": "1.2.0",
      "_model_name": "LayoutModel",
      "_view_count": null,
      "_view_module": "@jupyter-widgets/base",
      "_view_module_version": "1.2.0",
      "_view_name": "LayoutView",
      "align_content": null,
      "align_items": null,
      "align_self": null,
      "border": null,
      "bottom": null,
      "display": null,
      "flex": null,
      "flex_flow": null,
      "grid_area": null,
      "grid_auto_columns": null,
      "grid_auto_flow": null,
      "grid_auto_rows": null,
      "grid_column": null,
      "grid_gap": null,
      "grid_row": null,
      "grid_template_areas": null,
      "grid_template_columns": null,
      "grid_template_rows": null,
      "height": null,
      "justify_content": null,
      "justify_items": null,
      "left": null,
      "margin": null,
      "max_height": null,
      "max_width": null,
      "min_height": null,
      "min_width": null,
      "object_fit": null,
      "object_position": null,
      "order": null,
      "overflow": null,
      "overflow_x": null,
      "overflow_y": null,
      "padding": null,
      "right": null,
      "top": null,
      "visibility": null,
      "width": null
     }
    },
    "87e27d03de394882932be3aff87602c3": {
     "model_module": "@jupyter-widgets/controls",
     "model_name": "HBoxModel",
     "state": {
      "_dom_classes": [],
      "_model_module": "@jupyter-widgets/controls",
      "_model_module_version": "1.5.0",
      "_model_name": "HBoxModel",
      "_view_count": null,
      "_view_module": "@jupyter-widgets/controls",
      "_view_module_version": "1.5.0",
      "_view_name": "HBoxView",
      "box_style": "",
      "children": [
       "IPY_MODEL_9db566259dce40f4b28fc3d0d276e220",
       "IPY_MODEL_8ce154820c84417eaa77c3e6d8811d5d"
      ],
      "layout": "IPY_MODEL_7d51fdbfc42147e3b32193e9f5a7ebe1"
     }
    },
    "8ce154820c84417eaa77c3e6d8811d5d": {
     "model_module": "@jupyter-widgets/controls",
     "model_name": "HTMLModel",
     "state": {
      "_dom_classes": [],
      "_model_module": "@jupyter-widgets/controls",
      "_model_module_version": "1.5.0",
      "_model_name": "HTMLModel",
      "_view_count": null,
      "_view_module": "@jupyter-widgets/controls",
      "_view_module_version": "1.5.0",
      "_view_name": "HTMLView",
      "description": "",
      "description_tooltip": null,
      "layout": "IPY_MODEL_b37931bdeda941b0a29017ec58b2003f",
      "placeholder": "​",
      "style": "IPY_MODEL_24b454a47f7643e0be405ad985a62f6f",
      "value": " 548M/548M [00:02&lt;00:00, 227MB/s]"
     }
    },
    "9db566259dce40f4b28fc3d0d276e220": {
     "model_module": "@jupyter-widgets/controls",
     "model_name": "FloatProgressModel",
     "state": {
      "_dom_classes": [],
      "_model_module": "@jupyter-widgets/controls",
      "_model_module_version": "1.5.0",
      "_model_name": "FloatProgressModel",
      "_view_count": null,
      "_view_module": "@jupyter-widgets/controls",
      "_view_module_version": "1.5.0",
      "_view_name": "ProgressView",
      "bar_style": "success",
      "description": "100%",
      "description_tooltip": null,
      "layout": "IPY_MODEL_a918ab17594d443c9fbc5a22d6568bf5",
      "max": 574673361,
      "min": 0,
      "orientation": "horizontal",
      "style": "IPY_MODEL_f52d4b09135646dbb8f0a13c1a554f54",
      "value": 574673361
     }
    },
    "a918ab17594d443c9fbc5a22d6568bf5": {
     "model_module": "@jupyter-widgets/base",
     "model_name": "LayoutModel",
     "state": {
      "_model_module": "@jupyter-widgets/base",
      "_model_module_version": "1.2.0",
      "_model_name": "LayoutModel",
      "_view_count": null,
      "_view_module": "@jupyter-widgets/base",
      "_view_module_version": "1.2.0",
      "_view_name": "LayoutView",
      "align_content": null,
      "align_items": null,
      "align_self": null,
      "border": null,
      "bottom": null,
      "display": null,
      "flex": null,
      "flex_flow": null,
      "grid_area": null,
      "grid_auto_columns": null,
      "grid_auto_flow": null,
      "grid_auto_rows": null,
      "grid_column": null,
      "grid_gap": null,
      "grid_row": null,
      "grid_template_areas": null,
      "grid_template_columns": null,
      "grid_template_rows": null,
      "height": null,
      "justify_content": null,
      "justify_items": null,
      "left": null,
      "margin": null,
      "max_height": null,
      "max_width": null,
      "min_height": null,
      "min_width": null,
      "object_fit": null,
      "object_position": null,
      "order": null,
      "overflow": null,
      "overflow_x": null,
      "overflow_y": null,
      "padding": null,
      "right": null,
      "top": null,
      "visibility": null,
      "width": null
     }
    },
    "b37931bdeda941b0a29017ec58b2003f": {
     "model_module": "@jupyter-widgets/base",
     "model_name": "LayoutModel",
     "state": {
      "_model_module": "@jupyter-widgets/base",
      "_model_module_version": "1.2.0",
      "_model_name": "LayoutModel",
      "_view_count": null,
      "_view_module": "@jupyter-widgets/base",
      "_view_module_version": "1.2.0",
      "_view_name": "LayoutView",
      "align_content": null,
      "align_items": null,
      "align_self": null,
      "border": null,
      "bottom": null,
      "display": null,
      "flex": null,
      "flex_flow": null,
      "grid_area": null,
      "grid_auto_columns": null,
      "grid_auto_flow": null,
      "grid_auto_rows": null,
      "grid_column": null,
      "grid_gap": null,
      "grid_row": null,
      "grid_template_areas": null,
      "grid_template_columns": null,
      "grid_template_rows": null,
      "height": null,
      "justify_content": null,
      "justify_items": null,
      "left": null,
      "margin": null,
      "max_height": null,
      "max_width": null,
      "min_height": null,
      "min_width": null,
      "object_fit": null,
      "object_position": null,
      "order": null,
      "overflow": null,
      "overflow_x": null,
      "overflow_y": null,
      "padding": null,
      "right": null,
      "top": null,
      "visibility": null,
      "width": null
     }
    },
    "f52d4b09135646dbb8f0a13c1a554f54": {
     "model_module": "@jupyter-widgets/controls",
     "model_name": "ProgressStyleModel",
     "state": {
      "_model_module": "@jupyter-widgets/controls",
      "_model_module_version": "1.5.0",
      "_model_name": "ProgressStyleModel",
      "_view_count": null,
      "_view_module": "@jupyter-widgets/base",
      "_view_module_version": "1.2.0",
      "_view_name": "StyleView",
      "bar_color": null,
      "description_width": "initial"
     }
    }
   }
  }
 },
 "nbformat": 4,
 "nbformat_minor": 1
}
